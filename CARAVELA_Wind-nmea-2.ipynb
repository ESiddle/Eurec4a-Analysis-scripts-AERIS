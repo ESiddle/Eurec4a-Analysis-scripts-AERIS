{
 "cells": [
  {
   "cell_type": "code",
   "execution_count": 29,
   "metadata": {},
   "outputs": [],
   "source": [
    "import pandas as pd\n",
    "import numpy as np\n",
    "from glob import glob\n",
    "from pathlib import Path\n",
    "import pynmea2\n",
    "import matplotlib.pyplot as plt\n",
    "from datetime import datetime,timedelta\n",
    "from tqdm.notebook import tqdm\n",
    "import copy\n"
   ]
  },
  {
   "cell_type": "code",
   "execution_count": 30,
   "metadata": {},
   "outputs": [],
   "source": [
    "files_list = glob(r'../../Interim_products'+ '/*wind*')  \n",
    "files_list.sort()"
   ]
  },
  {
   "cell_type": "code",
   "execution_count": 31,
   "metadata": {},
   "outputs": [
    {
     "data": {
      "text/plain": [
       "['../../Interim_products/relativewind_pt1.csv',\n",
       " '../../Interim_products/relativewind_pt2.csv',\n",
       " '../../Interim_products/relativewind_pt3.csv']"
      ]
     },
     "execution_count": 31,
     "metadata": {},
     "output_type": "execute_result"
    }
   ],
   "source": [
    "files_list"
   ]
  },
  {
   "cell_type": "code",
   "execution_count": 32,
   "metadata": {},
   "outputs": [
    {
     "data": {
      "application/vnd.jupyter.widget-view+json": {
       "model_id": "c4b6025e2fb9490995b370dd55f4799f",
       "version_major": 2,
       "version_minor": 0
      },
      "text/plain": [
       "HBox(children=(FloatProgress(value=0.0, max=3.0), HTML(value='')))"
      ]
     },
     "metadata": {},
     "output_type": "display_data"
    },
    {
     "name": "stdout",
     "output_type": "stream",
     "text": [
      "\n"
     ]
    }
   ],
   "source": [
    "li = []\n",
    "\n",
    "\n",
    "for filename in tqdm(files_list):\n",
    "    df = pd.read_csv(filename, header=0, sep=',',index_col=False)\n",
    "    li.append(df)\n",
    "relwind = pd.concat(li, axis=0)"
   ]
  },
  {
   "cell_type": "code",
   "execution_count": 33,
   "metadata": {},
   "outputs": [],
   "source": [
    "relwind = relwind.reset_index()\n",
    "relwind = relwind.drop(['index'], axis=1)"
   ]
  },
  {
   "cell_type": "code",
   "execution_count": 34,
   "metadata": {},
   "outputs": [
    {
     "data": {
      "application/vnd.jupyter.widget-view+json": {
       "model_id": "c7251ed87f9745f4841b3ecfcd5f5157",
       "version_major": 2,
       "version_minor": 0
      },
      "text/plain": [
       "HBox(children=(FloatProgress(value=0.0, max=5727044.0), HTML(value='')))"
      ]
     },
     "metadata": {},
     "output_type": "display_data"
    },
    {
     "name": "stdout",
     "output_type": "stream",
     "text": [
      "\n"
     ]
    }
   ],
   "source": [
    "dt = []\n",
    "for i in tqdm(range(len(relwind.datetime))):\n",
    "    dt.append(datetime.strptime(relwind['datetime'][i], '%Y-%m-%d %H:%M:%S'))\n",
    "relwind['datetime [UTC]'] = dt"
   ]
  },
  {
   "cell_type": "code",
   "execution_count": 40,
   "metadata": {},
   "outputs": [
    {
     "data": {
      "text/html": [
       "<div>\n",
       "<style scoped>\n",
       "    .dataframe tbody tr th:only-of-type {\n",
       "        vertical-align: middle;\n",
       "    }\n",
       "\n",
       "    .dataframe tbody tr th {\n",
       "        vertical-align: top;\n",
       "    }\n",
       "\n",
       "    .dataframe thead th {\n",
       "        text-align: right;\n",
       "    }\n",
       "</style>\n",
       "<table border=\"1\" class=\"dataframe\">\n",
       "  <thead>\n",
       "    <tr style=\"text-align: right;\">\n",
       "      <th></th>\n",
       "      <th>datetime</th>\n",
       "      <th>wind_speed</th>\n",
       "      <th>wind_speed_unit</th>\n",
       "      <th>wind_angle</th>\n",
       "      <th>wind_angle_ref</th>\n",
       "      <th>datetime [UTC]</th>\n",
       "    </tr>\n",
       "  </thead>\n",
       "  <tbody>\n",
       "    <tr>\n",
       "      <th>0</th>\n",
       "      <td>2020-01-15 12:02:55</td>\n",
       "      <td>3.7</td>\n",
       "      <td>N</td>\n",
       "      <td>151.1</td>\n",
       "      <td>R</td>\n",
       "      <td>2020-01-15 12:02:55</td>\n",
       "    </tr>\n",
       "    <tr>\n",
       "      <th>1</th>\n",
       "      <td>2020-01-15 12:02:55</td>\n",
       "      <td>3.1</td>\n",
       "      <td>N</td>\n",
       "      <td>164.0</td>\n",
       "      <td>R</td>\n",
       "      <td>2020-01-15 12:02:55</td>\n",
       "    </tr>\n",
       "    <tr>\n",
       "      <th>2</th>\n",
       "      <td>2020-01-15 12:02:56</td>\n",
       "      <td>3.4</td>\n",
       "      <td>N</td>\n",
       "      <td>127.2</td>\n",
       "      <td>R</td>\n",
       "      <td>2020-01-15 12:02:56</td>\n",
       "    </tr>\n",
       "    <tr>\n",
       "      <th>3</th>\n",
       "      <td>2020-01-15 12:02:56</td>\n",
       "      <td>3.1</td>\n",
       "      <td>N</td>\n",
       "      <td>169.6</td>\n",
       "      <td>R</td>\n",
       "      <td>2020-01-15 12:02:56</td>\n",
       "    </tr>\n",
       "    <tr>\n",
       "      <th>4</th>\n",
       "      <td>2020-01-15 12:02:57</td>\n",
       "      <td>4.7</td>\n",
       "      <td>N</td>\n",
       "      <td>184.6</td>\n",
       "      <td>R</td>\n",
       "      <td>2020-01-15 12:02:57</td>\n",
       "    </tr>\n",
       "    <tr>\n",
       "      <th>...</th>\n",
       "      <td>...</td>\n",
       "      <td>...</td>\n",
       "      <td>...</td>\n",
       "      <td>...</td>\n",
       "      <td>...</td>\n",
       "      <td>...</td>\n",
       "    </tr>\n",
       "    <tr>\n",
       "      <th>5727039</th>\n",
       "      <td>2020-02-24 14:20:20</td>\n",
       "      <td>11.4</td>\n",
       "      <td>N</td>\n",
       "      <td>120.7</td>\n",
       "      <td>R</td>\n",
       "      <td>2020-02-24 14:20:20</td>\n",
       "    </tr>\n",
       "    <tr>\n",
       "      <th>5727040</th>\n",
       "      <td>2020-02-24 14:20:20</td>\n",
       "      <td>12.8</td>\n",
       "      <td>N</td>\n",
       "      <td>127.0</td>\n",
       "      <td>R</td>\n",
       "      <td>2020-02-24 14:20:20</td>\n",
       "    </tr>\n",
       "    <tr>\n",
       "      <th>5727041</th>\n",
       "      <td>2020-02-24 14:20:21</td>\n",
       "      <td>10.5</td>\n",
       "      <td>N</td>\n",
       "      <td>136.4</td>\n",
       "      <td>R</td>\n",
       "      <td>2020-02-24 14:20:21</td>\n",
       "    </tr>\n",
       "    <tr>\n",
       "      <th>5727042</th>\n",
       "      <td>2020-02-24 14:20:21</td>\n",
       "      <td>11.1</td>\n",
       "      <td>N</td>\n",
       "      <td>150.5</td>\n",
       "      <td>R</td>\n",
       "      <td>2020-02-24 14:20:21</td>\n",
       "    </tr>\n",
       "    <tr>\n",
       "      <th>5727043</th>\n",
       "      <td>2020-02-24 14:20:22</td>\n",
       "      <td>10.5</td>\n",
       "      <td>N</td>\n",
       "      <td>153.8</td>\n",
       "      <td>R</td>\n",
       "      <td>2020-02-24 14:20:22</td>\n",
       "    </tr>\n",
       "  </tbody>\n",
       "</table>\n",
       "<p>5727044 rows × 6 columns</p>\n",
       "</div>"
      ],
      "text/plain": [
       "                    datetime  wind_speed wind_speed_unit  wind_angle  \\\n",
       "0        2020-01-15 12:02:55         3.7               N       151.1   \n",
       "1        2020-01-15 12:02:55         3.1               N       164.0   \n",
       "2        2020-01-15 12:02:56         3.4               N       127.2   \n",
       "3        2020-01-15 12:02:56         3.1               N       169.6   \n",
       "4        2020-01-15 12:02:57         4.7               N       184.6   \n",
       "...                      ...         ...             ...         ...   \n",
       "5727039  2020-02-24 14:20:20        11.4               N       120.7   \n",
       "5727040  2020-02-24 14:20:20        12.8               N       127.0   \n",
       "5727041  2020-02-24 14:20:21        10.5               N       136.4   \n",
       "5727042  2020-02-24 14:20:21        11.1               N       150.5   \n",
       "5727043  2020-02-24 14:20:22        10.5               N       153.8   \n",
       "\n",
       "        wind_angle_ref      datetime [UTC]  \n",
       "0                    R 2020-01-15 12:02:55  \n",
       "1                    R 2020-01-15 12:02:55  \n",
       "2                    R 2020-01-15 12:02:56  \n",
       "3                    R 2020-01-15 12:02:56  \n",
       "4                    R 2020-01-15 12:02:57  \n",
       "...                ...                 ...  \n",
       "5727039              R 2020-02-24 14:20:20  \n",
       "5727040              R 2020-02-24 14:20:20  \n",
       "5727041              R 2020-02-24 14:20:21  \n",
       "5727042              R 2020-02-24 14:20:21  \n",
       "5727043              R 2020-02-24 14:20:22  \n",
       "\n",
       "[5727044 rows x 6 columns]"
      ]
     },
     "execution_count": 40,
     "metadata": {},
     "output_type": "execute_result"
    }
   ],
   "source": [
    "relwind"
   ]
  },
  {
   "cell_type": "code",
   "execution_count": 41,
   "metadata": {},
   "outputs": [],
   "source": [
    "import matplotlib.pyplot as plt\n",
    "font_size=23\n",
    "plt.rcParams.update({'font.size': font_size})"
   ]
  },
  {
   "cell_type": "code",
   "execution_count": 45,
   "metadata": {},
   "outputs": [
    {
     "data": {
      "text/plain": [
       "Text(0.5, 0, 'Date')"
      ]
     },
     "execution_count": 45,
     "metadata": {},
     "output_type": "execute_result"
    },
    {
     "data": {
      "image/png": "[encoded data removed]",
      "text/plain": [
       "<Figure size 1296x1080 with 1 Axes>"
      ]
     },
     "metadata": {
      "needs_background": "light"
     },
     "output_type": "display_data"
    }
   ],
   "source": [
    "fig,ax = plt.subplots(1,1, figsize=(18, 15))\n",
    "ax.scatter(relwind['datetime [UTC]'], relwind['wind_speed'])\n",
    "#ax.set_ylim(0,35)\n",
    "#ax.set_xlim(timedelta())\n",
    "ax.set_ylabel(\"Wind speed [knots]\")\n",
    "ax.set_xlabel('Date')"
   ]
  },
  {
   "cell_type": "code",
   "execution_count": 43,
   "metadata": {},
   "outputs": [
    {
     "data": {
      "text/plain": [
       "array(['N'], dtype=object)"
      ]
     },
     "execution_count": 43,
     "metadata": {},
     "output_type": "execute_result"
    }
   ],
   "source": [
    "# to check  all units are knots(N)\n",
    "relwind.wind_speed_unit.unique()"
   ]
  },
  {
   "cell_type": "code",
   "execution_count": 44,
   "metadata": {},
   "outputs": [
    {
     "data": {
      "text/plain": [
       "array(['R'], dtype=object)"
      ]
     },
     "execution_count": 44,
     "metadata": {},
     "output_type": "execute_result"
    }
   ],
   "source": [
    "# to check all wind speeds are relative to heading(R)\n",
    "relwind.wind_angle_ref.unique()"
   ]
  },
  {
   "cell_type": "code",
   "execution_count": null,
   "metadata": {},
   "outputs": [],
   "source": []
  }
 ],
 "metadata": {
  "kernelspec": {
   "display_name": "Python 3",
   "language": "python",
   "name": "python3"
  },
  "language_info": {
   "codemirror_mode": {
    "name": "ipython",
    "version": 3
   },
   "file_extension": ".py",
   "mimetype": "text/x-python",
   "name": "python",
   "nbconvert_exporter": "python",
   "pygments_lexer": "ipython3",
   "version": "3.8.5"
  }
 },
 "nbformat": 4,
 "nbformat_minor": 4
}
