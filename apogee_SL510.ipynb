{
 "cells": [
  {
   "cell_type": "code",
   "execution_count": 2,
   "metadata": {},
   "outputs": [],
   "source": [
    "import pandas as pd\n",
    "from pathlib import Path\n",
    "from glob import glob\n",
    "import numpy as np\n",
    "from datetime import datetime,timedelta\n",
    "from tqdm.notebook import tqdm\n"
   ]
  },
  {
   "cell_type": "markdown",
   "metadata": {},
   "source": [
    "Import and sort all caravela apogee_SL510 eurec4a files, creating a dataframe from this:"
   ]
  },
  {
   "cell_type": "code",
   "execution_count": 2,
   "metadata": {},
   "outputs": [
    {
     "data": {
      "application/vnd.jupyter.widget-view+json": {
       "model_id": "60422270b4c94c44930124baf83a8b3d",
       "version_major": 2,
       "version_minor": 0
      },
      "text/plain": [
       "HBox(children=(FloatProgress(value=0.0, max=770.0), HTML(value='')))"
      ]
     },
     "metadata": {},
     "output_type": "display_data"
    },
    {
     "name": "stdout",
     "output_type": "stream",
     "text": [
      "\n"
     ]
    }
   ],
   "source": [
    "files_list = glob(r'E:\\Eurec4a_master\\Caravela\\apogee_SL_510\\*\\*'+ '/*SL_510*')  \n",
    "files_list.sort()\n",
    "\n",
    "li = []\n",
    "\n",
    "for filename in tqdm(files_list):\n",
    "    df = pd.read_csv(filename, header=0, sep=',',index_col=False)\n",
    "    li.append(df)\n",
    "\n",
    "sl = pd.concat(li, axis=0)"
   ]
  },
  {
   "cell_type": "code",
   "execution_count": 3,
   "metadata": {},
   "outputs": [
    {
     "data": {
      "text/html": [
       "<div>\n",
       "<style scoped>\n",
       "    .dataframe tbody tr th:only-of-type {\n",
       "        vertical-align: middle;\n",
       "    }\n",
       "\n",
       "    .dataframe tbody tr th {\n",
       "        vertical-align: top;\n",
       "    }\n",
       "\n",
       "    .dataframe thead th {\n",
       "        text-align: right;\n",
       "    }\n",
       "</style>\n",
       "<table border=\"1\" class=\"dataframe\">\n",
       "  <thead>\n",
       "    <tr style=\"text-align: right;\">\n",
       "      <th></th>\n",
       "      <th>PC Timestamp[UTC]</th>\n",
       "      <th>PC Time Zone</th>\n",
       "      <th>SL-510-SS[W m-2]</th>\n",
       "    </tr>\n",
       "  </thead>\n",
       "  <tbody>\n",
       "    <tr>\n",
       "      <th>0</th>\n",
       "      <td>2020/01/15 12:07:08.677</td>\n",
       "      <td>00:00:00</td>\n",
       "      <td>411.395</td>\n",
       "    </tr>\n",
       "    <tr>\n",
       "      <th>1</th>\n",
       "      <td>2020/01/15 12:07:09.686</td>\n",
       "      <td>00:00:00</td>\n",
       "      <td>410.774</td>\n",
       "    </tr>\n",
       "    <tr>\n",
       "      <th>2</th>\n",
       "      <td>2020/01/15 12:07:10.693</td>\n",
       "      <td>00:00:00</td>\n",
       "      <td>410.632</td>\n",
       "    </tr>\n",
       "    <tr>\n",
       "      <th>3</th>\n",
       "      <td>2020/01/15 12:07:11.700</td>\n",
       "      <td>00:00:00</td>\n",
       "      <td>410.632</td>\n",
       "    </tr>\n",
       "    <tr>\n",
       "      <th>4</th>\n",
       "      <td>2020/01/15 12:07:12.711</td>\n",
       "      <td>00:00:00</td>\n",
       "      <td>410.926</td>\n",
       "    </tr>\n",
       "    <tr>\n",
       "      <th>...</th>\n",
       "      <td>...</td>\n",
       "      <td>...</td>\n",
       "      <td>...</td>\n",
       "    </tr>\n",
       "    <tr>\n",
       "      <th>1199</th>\n",
       "      <td>2020/02/24 14:20:06.678</td>\n",
       "      <td>00:00:00</td>\n",
       "      <td>436.089</td>\n",
       "    </tr>\n",
       "    <tr>\n",
       "      <th>1200</th>\n",
       "      <td>2020/02/24 14:20:07.686</td>\n",
       "      <td>00:00:00</td>\n",
       "      <td>435.655</td>\n",
       "    </tr>\n",
       "    <tr>\n",
       "      <th>1201</th>\n",
       "      <td>2020/02/24 14:20:08.688</td>\n",
       "      <td>00:00:00</td>\n",
       "      <td>439.407</td>\n",
       "    </tr>\n",
       "    <tr>\n",
       "      <th>1202</th>\n",
       "      <td>2020/02/24 14:20:09.688</td>\n",
       "      <td>00:00:00</td>\n",
       "      <td>439.124</td>\n",
       "    </tr>\n",
       "    <tr>\n",
       "      <th>1203</th>\n",
       "      <td>2020/02/24 14:20:10.688</td>\n",
       "      <td>00:00:00</td>\n",
       "      <td>437.101</td>\n",
       "    </tr>\n",
       "  </tbody>\n",
       "</table>\n",
       "<p>2737916 rows × 3 columns</p>\n",
       "</div>"
      ],
      "text/plain": [
       "            PC Timestamp[UTC] PC Time Zone  SL-510-SS[W m-2]\n",
       "0     2020/01/15 12:07:08.677     00:00:00           411.395\n",
       "1     2020/01/15 12:07:09.686     00:00:00           410.774\n",
       "2     2020/01/15 12:07:10.693     00:00:00           410.632\n",
       "3     2020/01/15 12:07:11.700     00:00:00           410.632\n",
       "4     2020/01/15 12:07:12.711     00:00:00           410.926\n",
       "...                       ...          ...               ...\n",
       "1199  2020/02/24 14:20:06.678     00:00:00           436.089\n",
       "1200  2020/02/24 14:20:07.686     00:00:00           435.655\n",
       "1201  2020/02/24 14:20:08.688     00:00:00           439.407\n",
       "1202  2020/02/24 14:20:09.688     00:00:00           439.124\n",
       "1203  2020/02/24 14:20:10.688     00:00:00           437.101\n",
       "\n",
       "[2737916 rows x 3 columns]"
      ]
     },
     "execution_count": 3,
     "metadata": {},
     "output_type": "execute_result"
    }
   ],
   "source": [
    "sl"
   ]
  },
  {
   "cell_type": "markdown",
   "metadata": {},
   "source": [
    "Parse the timestamp to a datetime format"
   ]
  },
  {
   "cell_type": "code",
   "execution_count": 4,
   "metadata": {},
   "outputs": [
    {
     "data": {
      "application/vnd.jupyter.widget-view+json": {
       "model_id": "c78034d17f5349e1aed5ac3396c8df4a",
       "version_major": 2,
       "version_minor": 0
      },
      "text/plain": [
       "HBox(children=(FloatProgress(value=0.0, max=2737916.0), HTML(value='')))"
      ]
     },
     "metadata": {},
     "output_type": "display_data"
    },
    {
     "name": "stdout",
     "output_type": "stream",
     "text": [
      "\n"
     ]
    }
   ],
   "source": [
    "dt = []\n",
    "for i in tqdm(sl['PC Timestamp[UTC]']):\n",
    "    dt.append(datetime.strptime(i, '%Y/%m/%d %H:%M:%S.%f'))\n",
    "sl['dt [UTC]'] = dt"
   ]
  },
  {
   "cell_type": "code",
   "execution_count": 5,
   "metadata": {},
   "outputs": [
    {
     "data": {
      "text/html": [
       "<div>\n",
       "<style scoped>\n",
       "    .dataframe tbody tr th:only-of-type {\n",
       "        vertical-align: middle;\n",
       "    }\n",
       "\n",
       "    .dataframe tbody tr th {\n",
       "        vertical-align: top;\n",
       "    }\n",
       "\n",
       "    .dataframe thead th {\n",
       "        text-align: right;\n",
       "    }\n",
       "</style>\n",
       "<table border=\"1\" class=\"dataframe\">\n",
       "  <thead>\n",
       "    <tr style=\"text-align: right;\">\n",
       "      <th></th>\n",
       "      <th>PC Timestamp[UTC]</th>\n",
       "      <th>PC Time Zone</th>\n",
       "      <th>SL-510-SS[W m-2]</th>\n",
       "      <th>dt [UTC]</th>\n",
       "    </tr>\n",
       "  </thead>\n",
       "  <tbody>\n",
       "    <tr>\n",
       "      <th>0</th>\n",
       "      <td>2020/01/22 17:20:06.798</td>\n",
       "      <td>00:00:00</td>\n",
       "      <td>447.736</td>\n",
       "      <td>2020-01-22 17:20:06.798</td>\n",
       "    </tr>\n",
       "    <tr>\n",
       "      <th>1</th>\n",
       "      <td>2020/01/22 17:20:07.795</td>\n",
       "      <td>00:00:00</td>\n",
       "      <td>447.887</td>\n",
       "      <td>2020-01-22 17:20:07.795</td>\n",
       "    </tr>\n",
       "    <tr>\n",
       "      <th>2</th>\n",
       "      <td>2020/01/22 17:20:08.801</td>\n",
       "      <td>00:00:00</td>\n",
       "      <td>447.452</td>\n",
       "      <td>2020-01-22 17:20:08.801</td>\n",
       "    </tr>\n",
       "    <tr>\n",
       "      <th>3</th>\n",
       "      <td>2020/01/22 17:20:09.809</td>\n",
       "      <td>00:00:00</td>\n",
       "      <td>447.310</td>\n",
       "      <td>2020-01-22 17:20:09.809</td>\n",
       "    </tr>\n",
       "    <tr>\n",
       "      <th>4</th>\n",
       "      <td>2020/01/22 17:20:10.816</td>\n",
       "      <td>00:00:00</td>\n",
       "      <td>447.970</td>\n",
       "      <td>2020-01-22 17:20:10.816</td>\n",
       "    </tr>\n",
       "    <tr>\n",
       "      <th>...</th>\n",
       "      <td>...</td>\n",
       "      <td>...</td>\n",
       "      <td>...</td>\n",
       "      <td>...</td>\n",
       "    </tr>\n",
       "    <tr>\n",
       "      <th>1199</th>\n",
       "      <td>2020/02/24 14:20:06.678</td>\n",
       "      <td>00:00:00</td>\n",
       "      <td>436.089</td>\n",
       "      <td>2020-02-24 14:20:06.678</td>\n",
       "    </tr>\n",
       "    <tr>\n",
       "      <th>1200</th>\n",
       "      <td>2020/02/24 14:20:07.686</td>\n",
       "      <td>00:00:00</td>\n",
       "      <td>435.655</td>\n",
       "      <td>2020-02-24 14:20:07.686</td>\n",
       "    </tr>\n",
       "    <tr>\n",
       "      <th>1201</th>\n",
       "      <td>2020/02/24 14:20:08.688</td>\n",
       "      <td>00:00:00</td>\n",
       "      <td>439.407</td>\n",
       "      <td>2020-02-24 14:20:08.688</td>\n",
       "    </tr>\n",
       "    <tr>\n",
       "      <th>1202</th>\n",
       "      <td>2020/02/24 14:20:09.688</td>\n",
       "      <td>00:00:00</td>\n",
       "      <td>439.124</td>\n",
       "      <td>2020-02-24 14:20:09.688</td>\n",
       "    </tr>\n",
       "    <tr>\n",
       "      <th>1203</th>\n",
       "      <td>2020/02/24 14:20:10.688</td>\n",
       "      <td>00:00:00</td>\n",
       "      <td>437.101</td>\n",
       "      <td>2020-02-24 14:20:10.688</td>\n",
       "    </tr>\n",
       "  </tbody>\n",
       "</table>\n",
       "<p>2711548 rows × 4 columns</p>\n",
       "</div>"
      ],
      "text/plain": [
       "            PC Timestamp[UTC] PC Time Zone  SL-510-SS[W m-2]  \\\n",
       "0     2020/01/22 17:20:06.798     00:00:00           447.736   \n",
       "1     2020/01/22 17:20:07.795     00:00:00           447.887   \n",
       "2     2020/01/22 17:20:08.801     00:00:00           447.452   \n",
       "3     2020/01/22 17:20:09.809     00:00:00           447.310   \n",
       "4     2020/01/22 17:20:10.816     00:00:00           447.970   \n",
       "...                       ...          ...               ...   \n",
       "1199  2020/02/24 14:20:06.678     00:00:00           436.089   \n",
       "1200  2020/02/24 14:20:07.686     00:00:00           435.655   \n",
       "1201  2020/02/24 14:20:08.688     00:00:00           439.407   \n",
       "1202  2020/02/24 14:20:09.688     00:00:00           439.124   \n",
       "1203  2020/02/24 14:20:10.688     00:00:00           437.101   \n",
       "\n",
       "                    dt [UTC]  \n",
       "0    2020-01-22 17:20:06.798  \n",
       "1    2020-01-22 17:20:07.795  \n",
       "2    2020-01-22 17:20:08.801  \n",
       "3    2020-01-22 17:20:09.809  \n",
       "4    2020-01-22 17:20:10.816  \n",
       "...                      ...  \n",
       "1199 2020-02-24 14:20:06.678  \n",
       "1200 2020-02-24 14:20:07.686  \n",
       "1201 2020-02-24 14:20:08.688  \n",
       "1202 2020-02-24 14:20:09.688  \n",
       "1203 2020-02-24 14:20:10.688  \n",
       "\n",
       "[2711548 rows x 4 columns]"
      ]
     },
     "execution_count": 5,
     "metadata": {},
     "output_type": "execute_result"
    }
   ],
   "source": [
    "sl = sl[(sl['dt [UTC]'] >= '2020-01-22 00:00:00.000')] #select data from Caravela's launch onwards\n",
    "sl"
   ]
  },
  {
   "cell_type": "markdown",
   "metadata": {},
   "source": [
    "Tidy this up to drop the columns we dont need"
   ]
  },
  {
   "cell_type": "code",
   "execution_count": 6,
   "metadata": {},
   "outputs": [],
   "source": [
    "sl = sl.reset_index()\n",
    "sl = sl.drop(['index','PC Time Zone','PC Timestamp[UTC]' ],axis=1)"
   ]
  },
  {
   "cell_type": "markdown",
   "metadata": {},
   "source": [
    "check for any gaps in timeseries larger than 2 seconds"
   ]
  },
  {
   "cell_type": "code",
   "execution_count": 8,
   "metadata": {},
   "outputs": [
    {
     "name": "stdout",
     "output_type": "stream",
     "text": [
      "gap starts at 2020-01-22 20:35:34.193000 and lasts for 21092 seconds  - approximately 5 hours\n",
      "gap starts at 2020-01-27 12:49:42.753000 and lasts for 91447 seconds  - approximately 25 hours\n",
      "gap starts at 2020-01-29 17:47:36.976000 and lasts for 20 seconds\n",
      "gap starts at 2020-01-31 18:08:06.895000 and lasts for 14 seconds\n",
      "gap starts at 2020-02-01 15:29:12.123000 and lasts for 2 seconds\n",
      "gap starts at 2020-02-04 10:53:07.094000 and lasts for 15 seconds\n",
      "gap starts at 2020-02-07 08:06:33.486000 and lasts for 2 seconds\n",
      "gap starts at 2020-02-09 21:46:59.899000 and lasts for 3 seconds\n",
      "gap starts at 2020-02-13 11:54:22.136000 and lasts for 2 seconds\n",
      "gap starts at 2020-02-14 05:56:17.835000 and lasts for 2 seconds\n",
      "gap starts at 2020-02-14 11:01:33.949000 and lasts for 2 seconds\n",
      "gap starts at 2020-02-21 20:45:34.363000 and lasts for 2 seconds\n"
     ]
    }
   ],
   "source": [
    "time_diff = sl['dt [UTC]'].values[1:] - sl['dt [UTC]'].values[:-1]\n",
    "for i in np.arange(1, len(time_diff)):\n",
    "    if np.timedelta64(3599, 's') >= time_diff[i] > np.timedelta64(2, 's'):\n",
    "        print('gap starts at', sl['dt [UTC]'][i], 'and lasts for', \n",
    "              np.timedelta64(time_diff[i],'s'))\n",
    "    if time_diff[i] > np.timedelta64(3599, 's'):\n",
    "        print('gap starts at', sl['dt [UTC]'][i], 'and lasts for', \n",
    "              np.timedelta64(time_diff[i],'s'), ' - approximately', np.timedelta64(time_diff[i],'h'))"
   ]
  },
  {
   "cell_type": "markdown",
   "metadata": {},
   "source": [
    "Convert to iso time as this is a universally accepted format"
   ]
  },
  {
   "cell_type": "code",
   "execution_count": 9,
   "metadata": {},
   "outputs": [
    {
     "data": {
      "application/vnd.jupyter.widget-view+json": {
       "model_id": "cde3fd6ea16d46d5afe47298afdfdd3c",
       "version_major": 2,
       "version_minor": 0
      },
      "text/plain": [
       "HBox(children=(FloatProgress(value=0.0, max=2711548.0), HTML(value='')))"
      ]
     },
     "metadata": {},
     "output_type": "display_data"
    },
    {
     "name": "stdout",
     "output_type": "stream",
     "text": [
      "\n"
     ]
    }
   ],
   "source": [
    "a = []\n",
    "for i in tqdm(range(0,len(sl['dt [UTC]']))):\n",
    "    a.append(sl['dt [UTC]'][i].isoformat())\n",
    "sl['datetime [UTC]'] = a"
   ]
  },
  {
   "cell_type": "code",
   "execution_count": 10,
   "metadata": {},
   "outputs": [],
   "source": [
    "sl = sl.drop(['dt [UTC]'], axis = 1)"
   ]
  },
  {
   "cell_type": "code",
   "execution_count": 12,
   "metadata": {},
   "outputs": [],
   "source": [
    "sl.to_csv('CARAVELA_SL510.csv',index = None)"
   ]
  },
  {
   "cell_type": "markdown",
   "metadata": {},
   "source": [
    "testing the file we just created"
   ]
  },
  {
   "cell_type": "code",
   "execution_count": 23,
   "metadata": {},
   "outputs": [],
   "source": [
    "import matplotlib.pyplot as plt"
   ]
  },
  {
   "cell_type": "code",
   "execution_count": 3,
   "metadata": {},
   "outputs": [],
   "source": [
    "baa = pd.read_csv('CARAVELA_SL510.csv')# import file to test it"
   ]
  },
  {
   "cell_type": "code",
   "execution_count": 20,
   "metadata": {},
   "outputs": [
    {
     "data": {
      "application/vnd.jupyter.widget-view+json": {
       "model_id": "9d4bdbac638a44aa83e24c5dbf01688c",
       "version_major": 2,
       "version_minor": 0
      },
      "text/plain": [
       "HBox(children=(FloatProgress(value=0.0, max=2711548.0), HTML(value='')))"
      ]
     },
     "metadata": {},
     "output_type": "display_data"
    },
    {
     "name": "stdout",
     "output_type": "stream",
     "text": [
      "\n"
     ]
    }
   ],
   "source": [
    "z = []\n",
    "for i in tqdm(baa['datetime [UTC]']):\n",
    "    z.append(datetime.fromisoformat(i))\n",
    "baa['dt'] = z"
   ]
  },
  {
   "cell_type": "code",
   "execution_count": 31,
   "metadata": {},
   "outputs": [
    {
     "data": {
      "text/plain": [
       "Text(0.5, 0, 'Date')"
      ]
     },
     "execution_count": 31,
     "metadata": {},
     "output_type": "execute_result"
    },
    {
     "data": {
      "image/png": "[encoded data removed]",
      "text/plain": [
       "<Figure size 1296x1080 with 1 Axes>"
      ]
     },
     "metadata": {
      "needs_background": "light"
     },
     "output_type": "display_data"
    }
   ],
   "source": [
    "fig,ax = plt.subplots(1,1, figsize=(18, 15))\n",
    "ax.plot(baa['dt'], baa['SL-510-SS[W m-2]'])\n",
    "ax.set_ylabel('SL-510-SS[W m-2]')\n",
    "ax.set_xlabel('Date')"
   ]
  },
  {
   "cell_type": "code",
   "execution_count": null,
   "metadata": {},
   "outputs": [],
   "source": []
  }
 ],
 "metadata": {
  "kernelspec": {
   "display_name": "Python 3",
   "language": "python",
   "name": "python3"
  },
  "language_info": {
   "codemirror_mode": {
    "name": "ipython",
    "version": 3
   },
   "file_extension": ".py",
   "mimetype": "text/x-python",
   "name": "python",
   "nbconvert_exporter": "python",
   "pygments_lexer": "ipython3",
   "version": "3.8.5"
  }
 },
 "nbformat": 4,
 "nbformat_minor": 4
}
