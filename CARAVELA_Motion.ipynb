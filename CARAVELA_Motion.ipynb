{
 "cells": [
  {
   "cell_type": "code",
   "execution_count": 3,
   "metadata": {},
   "outputs": [],
   "source": [
    "import pandas as pd\n",
    "from pathlib import Path\n",
    "from glob import glob\n",
    "import numpy as np\n",
    "from datetime import datetime,timedelta\n",
    "from tqdm.notebook import tqdm\n",
    "import pynmea2"
   ]
  },
  {
   "cell_type": "code",
   "execution_count": null,
   "metadata": {},
   "outputs": [],
   "source": [
    "work_dir = Path.cwd() # set path to current working directory"
   ]
  },
  {
   "cell_type": "code",
   "execution_count": null,
   "metadata": {},
   "outputs": [],
   "source": [
    "files_list = glob(r'/media/beth/Transcend/Eurec4a_master/Caravela/CaravelaPCS/Datalog/Y20/*/*'+ '/group1*')  \n",
    "files_list.sort()\n",
    "\n",
    "li = []\n",
    "\n",
    "for filename in tqdm(files_list):\n",
    "    df = pd.read_csv(filename)\n",
    "    li.append(df)\n",
    "\n",
    "sl = pd.concat(li, axis=0)"
   ]
  },
  {
   "cell_type": "code",
   "execution_count": null,
   "metadata": {},
   "outputs": [],
   "source": [
    "subset = pd.DataFrame()\n",
    "subset['datetime'] = (sl['Date'].astype(str) +' '+ sl['Time'])\n",
    "subset['heading'] = sl['U5_??HPR_F1']\n",
    "subset['pitch'] = sl['U5_??HPR_F2']\n",
    "subset['roll'] = sl['U5_??HPR_F3']\n",
    "subset = subset.reset_index()"
   ]
  },
  {
   "cell_type": "code",
   "execution_count": null,
   "metadata": {},
   "outputs": [],
   "source": [
    "subset.head()"
   ]
  },
  {
   "cell_type": "code",
   "execution_count": null,
   "metadata": {},
   "outputs": [],
   "source": [
    "dt = []\n",
    "for i in tqdm(range(0, 20000000)):\n",
    "    dt.append(datetime.strptime(subset['datetime'][i], '%y%m%d %H:%M:%S').isoformat())\n",
    "for i in tqdm(range(20000000, len(subset['datetime']))):\n",
    "    dt.append(datetime.strptime(subset['datetime'][i], '%y%m%d %H:%M:%S').isoformat())\n",
    "subset['datetime UTC'] = dt"
   ]
  },
  {
   "cell_type": "code",
   "execution_count": null,
   "metadata": {},
   "outputs": [],
   "source": [
    "subset.head()"
   ]
  },
  {
   "cell_type": "code",
   "execution_count": null,
   "metadata": {},
   "outputs": [],
   "source": [
    "subset = subset.drop(['index'],axis=1)"
   ]
  },
  {
   "cell_type": "code",
   "execution_count": null,
   "metadata": {},
   "outputs": [],
   "source": [
    "subset = subset.drop(['datetime'],axis=1)"
   ]
  },
  {
   "cell_type": "code",
   "execution_count": null,
   "metadata": {},
   "outputs": [],
   "source": [
    "subset.to_csv('../../Products/CARAVELA_Motion.csv',index = None)"
   ]
  },
  {
   "cell_type": "code",
   "execution_count": 6,
   "metadata": {},
   "outputs": [],
   "source": [
    "baa = pd.read_csv('../../Products/CARAVELA_Motion.csv')# import file to test it"
   ]
  },
  {
   "cell_type": "code",
   "execution_count": 7,
   "metadata": {},
   "outputs": [
    {
     "data": {
      "application/vnd.jupyter.widget-view+json": {
       "model_id": "",
       "version_major": 2,
       "version_minor": 0
      },
      "text/plain": [
       "HBox(children=(FloatProgress(value=0.0, max=28779597.0), HTML(value='')))"
      ]
     },
     "metadata": {},
     "output_type": "display_data"
    },
    {
     "name": "stdout",
     "output_type": "stream",
     "text": [
      "\n"
     ]
    }
   ],
   "source": [
    "x=[]\n",
    "for i in tqdm(range(len(baa['datetime UTC']))):\n",
    "    x.append(datetime.fromisoformat(baa['datetime UTC'][i]))\n",
    "baa['datetime_parsed'] = x"
   ]
  },
  {
   "cell_type": "code",
   "execution_count": 13,
   "metadata": {},
   "outputs": [
    {
     "data": {
      "text/html": [
       "<div>\n",
       "<style scoped>\n",
       "    .dataframe tbody tr th:only-of-type {\n",
       "        vertical-align: middle;\n",
       "    }\n",
       "\n",
       "    .dataframe tbody tr th {\n",
       "        vertical-align: top;\n",
       "    }\n",
       "\n",
       "    .dataframe thead th {\n",
       "        text-align: right;\n",
       "    }\n",
       "</style>\n",
       "<table border=\"1\" class=\"dataframe\">\n",
       "  <thead>\n",
       "    <tr style=\"text-align: right;\">\n",
       "      <th></th>\n",
       "      <th>heading</th>\n",
       "      <th>pitch</th>\n",
       "      <th>roll</th>\n",
       "      <th>datetime UTC</th>\n",
       "      <th>datetime_parsed</th>\n",
       "    </tr>\n",
       "  </thead>\n",
       "  <tbody>\n",
       "    <tr>\n",
       "      <th>0</th>\n",
       "      <td>0.0</td>\n",
       "      <td>0.0</td>\n",
       "      <td>0.0</td>\n",
       "      <td>2020-01-15T12:02:42</td>\n",
       "      <td>2020-01-15 12:02:42</td>\n",
       "    </tr>\n",
       "    <tr>\n",
       "      <th>1</th>\n",
       "      <td>0.0</td>\n",
       "      <td>0.0</td>\n",
       "      <td>0.0</td>\n",
       "      <td>2020-01-15T12:02:42</td>\n",
       "      <td>2020-01-15 12:02:42</td>\n",
       "    </tr>\n",
       "    <tr>\n",
       "      <th>2</th>\n",
       "      <td>0.0</td>\n",
       "      <td>0.0</td>\n",
       "      <td>0.0</td>\n",
       "      <td>2020-01-15T12:02:42</td>\n",
       "      <td>2020-01-15 12:02:42</td>\n",
       "    </tr>\n",
       "    <tr>\n",
       "      <th>3</th>\n",
       "      <td>0.0</td>\n",
       "      <td>0.0</td>\n",
       "      <td>0.0</td>\n",
       "      <td>2020-01-15T12:02:42</td>\n",
       "      <td>2020-01-15 12:02:42</td>\n",
       "    </tr>\n",
       "    <tr>\n",
       "      <th>4</th>\n",
       "      <td>0.0</td>\n",
       "      <td>0.0</td>\n",
       "      <td>0.0</td>\n",
       "      <td>2020-01-15T12:02:42</td>\n",
       "      <td>2020-01-15 12:02:42</td>\n",
       "    </tr>\n",
       "    <tr>\n",
       "      <th>...</th>\n",
       "      <td>...</td>\n",
       "      <td>...</td>\n",
       "      <td>...</td>\n",
       "      <td>...</td>\n",
       "      <td>...</td>\n",
       "    </tr>\n",
       "    <tr>\n",
       "      <th>28779592</th>\n",
       "      <td>89.7</td>\n",
       "      <td>3.4</td>\n",
       "      <td>-0.9</td>\n",
       "      <td>2020-02-24T17:36:06</td>\n",
       "      <td>2020-02-24 17:36:06</td>\n",
       "    </tr>\n",
       "    <tr>\n",
       "      <th>28779593</th>\n",
       "      <td>89.7</td>\n",
       "      <td>3.4</td>\n",
       "      <td>-0.9</td>\n",
       "      <td>2020-02-24T17:36:06</td>\n",
       "      <td>2020-02-24 17:36:06</td>\n",
       "    </tr>\n",
       "    <tr>\n",
       "      <th>28779594</th>\n",
       "      <td>89.7</td>\n",
       "      <td>3.4</td>\n",
       "      <td>-0.9</td>\n",
       "      <td>2020-02-24T17:36:06</td>\n",
       "      <td>2020-02-24 17:36:06</td>\n",
       "    </tr>\n",
       "    <tr>\n",
       "      <th>28779595</th>\n",
       "      <td>89.7</td>\n",
       "      <td>3.4</td>\n",
       "      <td>-0.9</td>\n",
       "      <td>2020-02-24T17:36:06</td>\n",
       "      <td>2020-02-24 17:36:06</td>\n",
       "    </tr>\n",
       "    <tr>\n",
       "      <th>28779596</th>\n",
       "      <td>89.7</td>\n",
       "      <td>3.4</td>\n",
       "      <td>-0.8</td>\n",
       "      <td>2020-02-24T17:36:06</td>\n",
       "      <td>2020-02-24 17:36:06</td>\n",
       "    </tr>\n",
       "  </tbody>\n",
       "</table>\n",
       "<p>28779597 rows × 5 columns</p>\n",
       "</div>"
      ],
      "text/plain": [
       "          heading  pitch  roll         datetime UTC     datetime_parsed\n",
       "0             0.0    0.0   0.0  2020-01-15T12:02:42 2020-01-15 12:02:42\n",
       "1             0.0    0.0   0.0  2020-01-15T12:02:42 2020-01-15 12:02:42\n",
       "2             0.0    0.0   0.0  2020-01-15T12:02:42 2020-01-15 12:02:42\n",
       "3             0.0    0.0   0.0  2020-01-15T12:02:42 2020-01-15 12:02:42\n",
       "4             0.0    0.0   0.0  2020-01-15T12:02:42 2020-01-15 12:02:42\n",
       "...           ...    ...   ...                  ...                 ...\n",
       "28779592     89.7    3.4  -0.9  2020-02-24T17:36:06 2020-02-24 17:36:06\n",
       "28779593     89.7    3.4  -0.9  2020-02-24T17:36:06 2020-02-24 17:36:06\n",
       "28779594     89.7    3.4  -0.9  2020-02-24T17:36:06 2020-02-24 17:36:06\n",
       "28779595     89.7    3.4  -0.9  2020-02-24T17:36:06 2020-02-24 17:36:06\n",
       "28779596     89.7    3.4  -0.8  2020-02-24T17:36:06 2020-02-24 17:36:06\n",
       "\n",
       "[28779597 rows x 5 columns]"
      ]
     },
     "execution_count": 13,
     "metadata": {},
     "output_type": "execute_result"
    }
   ],
   "source": [
    "baa"
   ]
  },
  {
   "cell_type": "code",
   "execution_count": 8,
   "metadata": {},
   "outputs": [],
   "source": [
    "import matplotlib.pyplot as plt"
   ]
  },
  {
   "cell_type": "code",
   "execution_count": null,
   "metadata": {},
   "outputs": [],
   "source": [
    "fig,ax = plt.subplots(1,1, figsize=(18, 15),sharex=True)\n",
    "#ax.set_xlim(['20200122 00:00:00', '20200124 00:00:00'])\n",
    "ax.set_ylim(0,360)\n",
    "ax.plot(baa['datetime UTC'], baa['heading'])\n",
    "ax.set_ylabel('heading')\n",
    "ax.set_xlabel('Datetime')"
   ]
  },
  {
   "cell_type": "code",
   "execution_count": null,
   "metadata": {},
   "outputs": [],
   "source": [
    "fig,ax = plt.subplots(3,1, figsize=(18, 15),sharex=True)\n",
    "ax=ax.ravel()\n",
    "ax[0].plot(baa['datetime UTC'], baa['heading'])\n",
    "ax[1].plot(baa['datetime UTC'], baa['pitch'])\n",
    "ax[2].plot(baa['datetime UTC'], baa['roll'])\n",
    "ax[0].set_ylabel('heading')\n",
    "ax[1].set_ylabel('pitch')\n",
    "ax[2].set_ylabel('roll')\n",
    "ax[2].set_xlabel('Datetime')"
   ]
  },
  {
   "cell_type": "markdown",
   "metadata": {},
   "source": []
  }
 ],
 "metadata": {
  "kernelspec": {
   "display_name": "Python 3",
   "language": "python",
   "name": "python3"
  },
  "language_info": {
   "codemirror_mode": {
    "name": "ipython",
    "version": 3
   },
   "file_extension": ".py",
   "mimetype": "text/x-python",
   "name": "python",
   "nbconvert_exporter": "python",
   "pygments_lexer": "ipython3",
   "version": "3.8.5"
  }
 },
 "nbformat": 4,
 "nbformat_minor": 4
}
