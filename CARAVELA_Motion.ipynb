{
 "cells": [
  {
   "cell_type": "code",
   "execution_count": 4,
   "metadata": {},
   "outputs": [],
   "source": [
    "import pandas as pd\n",
    "from pathlib import Path\n",
    "from glob import glob\n",
    "import numpy as np\n",
    "from datetime import datetime,timedelta\n",
    "from tqdm.notebook import tqdm\n",
    "import pynmea2"
   ]
  },
  {
   "cell_type": "code",
   "execution_count": 2,
   "metadata": {},
   "outputs": [],
   "source": [
    "work_dir = Path.cwd() # set path to current working directory"
   ]
  },
  {
   "cell_type": "code",
   "execution_count": 3,
   "metadata": {},
   "outputs": [
    {
     "data": {
      "application/vnd.jupyter.widget-view+json": {
       "model_id": "38ce315b1a734e09bdd958792ad9a182",
       "version_major": 2,
       "version_minor": 0
      },
      "text/plain": [
       "HBox(children=(HTML(value=''), FloatProgress(value=0.0, max=38.0), HTML(value='')))"
      ]
     },
     "metadata": {},
     "output_type": "display_data"
    },
    {
     "name": "stdout",
     "output_type": "stream",
     "text": [
      "\n"
     ]
    }
   ],
   "source": [
    "files_list = glob(r'../../Data/Caravela/CaravelaPCS/Datalog/Y20/*/*'+ '/group1*')  #specify where the data is stored\n",
    "files_list.sort() # sort the data files into order\n",
    "\n",
    "li = []\n",
    "\n",
    "for filename in tqdm(files_list):\n",
    "    df = pd.read_csv(filename)\n",
    "    li.append(df)\n",
    "\n",
    "sl = pd.concat(li, axis=0) # read files and concatenate into pandas dataframe"
   ]
  },
  {
   "cell_type": "code",
   "execution_count": 4,
   "metadata": {},
   "outputs": [],
   "source": [
    "#pick out the required columns\n",
    "subset = pd.DataFrame()\n",
    "subset['datetime'] = (sl['Date'].astype(str) +' '+ sl['Time'])\n",
    "subset['heading'] = sl['U5_??HPR_F1']\n",
    "subset['pitch'] = sl['U5_??HPR_F2']\n",
    "subset['roll'] = sl['U5_??HPR_F3']\n",
    "subset['latitude'] = sl['U5_??GGA_F2']\n",
    "subset['latitude_hemisphere'] = sl['U5_??GGA_F3']\n",
    "subset['longitude'] = sl['U5_??GGA_F4']\n",
    "subset['longitude_hemisphere'] = sl['U5_??GGA_F5']\n",
    "subset = subset.reset_index()"
   ]
  },
  {
   "cell_type": "code",
   "execution_count": 5,
   "metadata": {},
   "outputs": [
    {
     "data": {
      "text/html": [
       "<div>\n",
       "<style scoped>\n",
       "    .dataframe tbody tr th:only-of-type {\n",
       "        vertical-align: middle;\n",
       "    }\n",
       "\n",
       "    .dataframe tbody tr th {\n",
       "        vertical-align: top;\n",
       "    }\n",
       "\n",
       "    .dataframe thead th {\n",
       "        text-align: right;\n",
       "    }\n",
       "</style>\n",
       "<table border=\"1\" class=\"dataframe\">\n",
       "  <thead>\n",
       "    <tr style=\"text-align: right;\">\n",
       "      <th></th>\n",
       "      <th>index</th>\n",
       "      <th>datetime</th>\n",
       "      <th>heading</th>\n",
       "      <th>pitch</th>\n",
       "      <th>roll</th>\n",
       "      <th>latitude</th>\n",
       "      <th>latitude_hemisphere</th>\n",
       "      <th>longitude</th>\n",
       "      <th>longitude_hemisphere</th>\n",
       "    </tr>\n",
       "  </thead>\n",
       "  <tbody>\n",
       "    <tr>\n",
       "      <th>0</th>\n",
       "      <td>0</td>\n",
       "      <td>200115 12:02:42</td>\n",
       "      <td>0.0</td>\n",
       "      <td>0.0</td>\n",
       "      <td>0.0</td>\n",
       "      <td>1306.64269</td>\n",
       "      <td>N</td>\n",
       "      <td>5937.83595</td>\n",
       "      <td>W</td>\n",
       "    </tr>\n",
       "    <tr>\n",
       "      <th>1</th>\n",
       "      <td>1</td>\n",
       "      <td>200115 12:02:42</td>\n",
       "      <td>0.0</td>\n",
       "      <td>0.0</td>\n",
       "      <td>0.0</td>\n",
       "      <td>1306.64269</td>\n",
       "      <td>N</td>\n",
       "      <td>5937.83595</td>\n",
       "      <td>W</td>\n",
       "    </tr>\n",
       "    <tr>\n",
       "      <th>2</th>\n",
       "      <td>2</td>\n",
       "      <td>200115 12:02:42</td>\n",
       "      <td>0.0</td>\n",
       "      <td>0.0</td>\n",
       "      <td>0.0</td>\n",
       "      <td>1306.64269</td>\n",
       "      <td>N</td>\n",
       "      <td>5937.83595</td>\n",
       "      <td>W</td>\n",
       "    </tr>\n",
       "    <tr>\n",
       "      <th>3</th>\n",
       "      <td>3</td>\n",
       "      <td>200115 12:02:42</td>\n",
       "      <td>0.0</td>\n",
       "      <td>0.0</td>\n",
       "      <td>0.0</td>\n",
       "      <td>1306.64269</td>\n",
       "      <td>N</td>\n",
       "      <td>5937.83595</td>\n",
       "      <td>W</td>\n",
       "    </tr>\n",
       "    <tr>\n",
       "      <th>4</th>\n",
       "      <td>4</td>\n",
       "      <td>200115 12:02:42</td>\n",
       "      <td>0.0</td>\n",
       "      <td>0.0</td>\n",
       "      <td>0.0</td>\n",
       "      <td>1306.64269</td>\n",
       "      <td>N</td>\n",
       "      <td>5937.83595</td>\n",
       "      <td>W</td>\n",
       "    </tr>\n",
       "  </tbody>\n",
       "</table>\n",
       "</div>"
      ],
      "text/plain": [
       "   index         datetime  heading  pitch  roll    latitude  \\\n",
       "0      0  200115 12:02:42      0.0    0.0   0.0  1306.64269   \n",
       "1      1  200115 12:02:42      0.0    0.0   0.0  1306.64269   \n",
       "2      2  200115 12:02:42      0.0    0.0   0.0  1306.64269   \n",
       "3      3  200115 12:02:42      0.0    0.0   0.0  1306.64269   \n",
       "4      4  200115 12:02:42      0.0    0.0   0.0  1306.64269   \n",
       "\n",
       "  latitude_hemisphere   longitude longitude_hemisphere  \n",
       "0                   N  5937.83595                    W  \n",
       "1                   N  5937.83595                    W  \n",
       "2                   N  5937.83595                    W  \n",
       "3                   N  5937.83595                    W  \n",
       "4                   N  5937.83595                    W  "
      ]
     },
     "execution_count": 5,
     "metadata": {},
     "output_type": "execute_result"
    }
   ],
   "source": [
    "subset.head() #manually check the column contents make sense in the head"
   ]
  },
  {
   "cell_type": "code",
   "execution_count": 6,
   "metadata": {},
   "outputs": [
    {
     "data": {
      "application/vnd.jupyter.widget-view+json": {
       "model_id": "7be4da92d68244e586307947e129d531",
       "version_major": 2,
       "version_minor": 0
      },
      "text/plain": [
       "HBox(children=(HTML(value=''), FloatProgress(value=0.0, max=20000000.0), HTML(value='')))"
      ]
     },
     "metadata": {},
     "output_type": "display_data"
    },
    {
     "name": "stdout",
     "output_type": "stream",
     "text": [
      "\n"
     ]
    },
    {
     "data": {
      "application/vnd.jupyter.widget-view+json": {
       "model_id": "b4381b0a17b24cdc9f6ff8a04e8356d5",
       "version_major": 2,
       "version_minor": 0
      },
      "text/plain": [
       "HBox(children=(HTML(value=''), FloatProgress(value=0.0, max=8779597.0), HTML(value='')))"
      ]
     },
     "metadata": {},
     "output_type": "display_data"
    },
    {
     "name": "stdout",
     "output_type": "stream",
     "text": [
      "\n"
     ]
    }
   ],
   "source": [
    "#parse datetime - done in two loops otherwise my laptop crashes\n",
    "dt = []\n",
    "for i in tqdm(range(0, 20000000)):\n",
    "    dt.append(datetime.strptime(subset['datetime'][i], '%y%m%d %H:%M:%S').isoformat())\n",
    "for i in tqdm(range(20000000, len(subset['datetime']))):\n",
    "    dt.append(datetime.strptime(subset['datetime'][i], '%y%m%d %H:%M:%S').isoformat())\n",
    "subset['datetime UTC'] = dt"
   ]
  },
  {
   "cell_type": "code",
   "execution_count": 7,
   "metadata": {},
   "outputs": [
    {
     "data": {
      "text/html": [
       "<div>\n",
       "<style scoped>\n",
       "    .dataframe tbody tr th:only-of-type {\n",
       "        vertical-align: middle;\n",
       "    }\n",
       "\n",
       "    .dataframe tbody tr th {\n",
       "        vertical-align: top;\n",
       "    }\n",
       "\n",
       "    .dataframe thead th {\n",
       "        text-align: right;\n",
       "    }\n",
       "</style>\n",
       "<table border=\"1\" class=\"dataframe\">\n",
       "  <thead>\n",
       "    <tr style=\"text-align: right;\">\n",
       "      <th></th>\n",
       "      <th>index</th>\n",
       "      <th>datetime</th>\n",
       "      <th>heading</th>\n",
       "      <th>pitch</th>\n",
       "      <th>roll</th>\n",
       "      <th>latitude</th>\n",
       "      <th>latitude_hemisphere</th>\n",
       "      <th>longitude</th>\n",
       "      <th>longitude_hemisphere</th>\n",
       "      <th>datetime UTC</th>\n",
       "    </tr>\n",
       "  </thead>\n",
       "  <tbody>\n",
       "    <tr>\n",
       "      <th>0</th>\n",
       "      <td>0</td>\n",
       "      <td>200115 12:02:42</td>\n",
       "      <td>0.0</td>\n",
       "      <td>0.0</td>\n",
       "      <td>0.0</td>\n",
       "      <td>1306.64269</td>\n",
       "      <td>N</td>\n",
       "      <td>5937.83595</td>\n",
       "      <td>W</td>\n",
       "      <td>2020-01-15T12:02:42</td>\n",
       "    </tr>\n",
       "    <tr>\n",
       "      <th>1</th>\n",
       "      <td>1</td>\n",
       "      <td>200115 12:02:42</td>\n",
       "      <td>0.0</td>\n",
       "      <td>0.0</td>\n",
       "      <td>0.0</td>\n",
       "      <td>1306.64269</td>\n",
       "      <td>N</td>\n",
       "      <td>5937.83595</td>\n",
       "      <td>W</td>\n",
       "      <td>2020-01-15T12:02:42</td>\n",
       "    </tr>\n",
       "    <tr>\n",
       "      <th>2</th>\n",
       "      <td>2</td>\n",
       "      <td>200115 12:02:42</td>\n",
       "      <td>0.0</td>\n",
       "      <td>0.0</td>\n",
       "      <td>0.0</td>\n",
       "      <td>1306.64269</td>\n",
       "      <td>N</td>\n",
       "      <td>5937.83595</td>\n",
       "      <td>W</td>\n",
       "      <td>2020-01-15T12:02:42</td>\n",
       "    </tr>\n",
       "    <tr>\n",
       "      <th>3</th>\n",
       "      <td>3</td>\n",
       "      <td>200115 12:02:42</td>\n",
       "      <td>0.0</td>\n",
       "      <td>0.0</td>\n",
       "      <td>0.0</td>\n",
       "      <td>1306.64269</td>\n",
       "      <td>N</td>\n",
       "      <td>5937.83595</td>\n",
       "      <td>W</td>\n",
       "      <td>2020-01-15T12:02:42</td>\n",
       "    </tr>\n",
       "    <tr>\n",
       "      <th>4</th>\n",
       "      <td>4</td>\n",
       "      <td>200115 12:02:42</td>\n",
       "      <td>0.0</td>\n",
       "      <td>0.0</td>\n",
       "      <td>0.0</td>\n",
       "      <td>1306.64269</td>\n",
       "      <td>N</td>\n",
       "      <td>5937.83595</td>\n",
       "      <td>W</td>\n",
       "      <td>2020-01-15T12:02:42</td>\n",
       "    </tr>\n",
       "  </tbody>\n",
       "</table>\n",
       "</div>"
      ],
      "text/plain": [
       "   index         datetime  heading  pitch  roll    latitude  \\\n",
       "0      0  200115 12:02:42      0.0    0.0   0.0  1306.64269   \n",
       "1      1  200115 12:02:42      0.0    0.0   0.0  1306.64269   \n",
       "2      2  200115 12:02:42      0.0    0.0   0.0  1306.64269   \n",
       "3      3  200115 12:02:42      0.0    0.0   0.0  1306.64269   \n",
       "4      4  200115 12:02:42      0.0    0.0   0.0  1306.64269   \n",
       "\n",
       "  latitude_hemisphere   longitude longitude_hemisphere         datetime UTC  \n",
       "0                   N  5937.83595                    W  2020-01-15T12:02:42  \n",
       "1                   N  5937.83595                    W  2020-01-15T12:02:42  \n",
       "2                   N  5937.83595                    W  2020-01-15T12:02:42  \n",
       "3                   N  5937.83595                    W  2020-01-15T12:02:42  \n",
       "4                   N  5937.83595                    W  2020-01-15T12:02:42  "
      ]
     },
     "execution_count": 7,
     "metadata": {},
     "output_type": "execute_result"
    }
   ],
   "source": [
    "subset.head()"
   ]
  },
  {
   "cell_type": "code",
   "execution_count": 8,
   "metadata": {},
   "outputs": [],
   "source": [
    "subset = subset.drop(['index'],axis=1)"
   ]
  },
  {
   "cell_type": "code",
   "execution_count": 9,
   "metadata": {},
   "outputs": [],
   "source": [
    "subset = subset.drop(['datetime'],axis=1)"
   ]
  },
  {
   "cell_type": "code",
   "execution_count": 10,
   "metadata": {},
   "outputs": [
    {
     "data": {
      "text/html": [
       "<div>\n",
       "<style scoped>\n",
       "    .dataframe tbody tr th:only-of-type {\n",
       "        vertical-align: middle;\n",
       "    }\n",
       "\n",
       "    .dataframe tbody tr th {\n",
       "        vertical-align: top;\n",
       "    }\n",
       "\n",
       "    .dataframe thead th {\n",
       "        text-align: right;\n",
       "    }\n",
       "</style>\n",
       "<table border=\"1\" class=\"dataframe\">\n",
       "  <thead>\n",
       "    <tr style=\"text-align: right;\">\n",
       "      <th></th>\n",
       "      <th>heading</th>\n",
       "      <th>pitch</th>\n",
       "      <th>roll</th>\n",
       "      <th>latitude</th>\n",
       "      <th>latitude_hemisphere</th>\n",
       "      <th>longitude</th>\n",
       "      <th>longitude_hemisphere</th>\n",
       "      <th>datetime UTC</th>\n",
       "    </tr>\n",
       "  </thead>\n",
       "  <tbody>\n",
       "    <tr>\n",
       "      <th>259171</th>\n",
       "      <td>0.0</td>\n",
       "      <td>0.0</td>\n",
       "      <td>0.0</td>\n",
       "      <td>1306.69354</td>\n",
       "      <td>N</td>\n",
       "      <td>5937.86230</td>\n",
       "      <td>W</td>\n",
       "      <td>2020-01-22T12:04:48</td>\n",
       "    </tr>\n",
       "    <tr>\n",
       "      <th>259172</th>\n",
       "      <td>0.0</td>\n",
       "      <td>0.0</td>\n",
       "      <td>0.0</td>\n",
       "      <td>1306.69354</td>\n",
       "      <td>N</td>\n",
       "      <td>5937.86238</td>\n",
       "      <td>W</td>\n",
       "      <td>2020-01-22T12:04:48</td>\n",
       "    </tr>\n",
       "    <tr>\n",
       "      <th>259173</th>\n",
       "      <td>0.0</td>\n",
       "      <td>0.0</td>\n",
       "      <td>0.0</td>\n",
       "      <td>1306.69354</td>\n",
       "      <td>N</td>\n",
       "      <td>5937.86245</td>\n",
       "      <td>W</td>\n",
       "      <td>2020-01-22T12:04:48</td>\n",
       "    </tr>\n",
       "    <tr>\n",
       "      <th>259174</th>\n",
       "      <td>0.0</td>\n",
       "      <td>0.0</td>\n",
       "      <td>0.0</td>\n",
       "      <td>1306.69355</td>\n",
       "      <td>N</td>\n",
       "      <td>5937.86259</td>\n",
       "      <td>W</td>\n",
       "      <td>2020-01-22T12:04:48</td>\n",
       "    </tr>\n",
       "    <tr>\n",
       "      <th>259175</th>\n",
       "      <td>0.0</td>\n",
       "      <td>0.0</td>\n",
       "      <td>0.0</td>\n",
       "      <td>1306.69355</td>\n",
       "      <td>N</td>\n",
       "      <td>5937.86272</td>\n",
       "      <td>W</td>\n",
       "      <td>2020-01-22T12:04:48</td>\n",
       "    </tr>\n",
       "    <tr>\n",
       "      <th>...</th>\n",
       "      <td>...</td>\n",
       "      <td>...</td>\n",
       "      <td>...</td>\n",
       "      <td>...</td>\n",
       "      <td>...</td>\n",
       "      <td>...</td>\n",
       "      <td>...</td>\n",
       "      <td>...</td>\n",
       "    </tr>\n",
       "    <tr>\n",
       "      <th>28779592</th>\n",
       "      <td>89.7</td>\n",
       "      <td>3.4</td>\n",
       "      <td>-0.9</td>\n",
       "      <td>1306.68676</td>\n",
       "      <td>N</td>\n",
       "      <td>5937.81694</td>\n",
       "      <td>W</td>\n",
       "      <td>2020-02-24T17:36:06</td>\n",
       "    </tr>\n",
       "    <tr>\n",
       "      <th>28779593</th>\n",
       "      <td>89.7</td>\n",
       "      <td>3.4</td>\n",
       "      <td>-0.9</td>\n",
       "      <td>1306.68676</td>\n",
       "      <td>N</td>\n",
       "      <td>5937.81695</td>\n",
       "      <td>W</td>\n",
       "      <td>2020-02-24T17:36:06</td>\n",
       "    </tr>\n",
       "    <tr>\n",
       "      <th>28779594</th>\n",
       "      <td>89.7</td>\n",
       "      <td>3.4</td>\n",
       "      <td>-0.9</td>\n",
       "      <td>1306.68675</td>\n",
       "      <td>N</td>\n",
       "      <td>5937.81697</td>\n",
       "      <td>W</td>\n",
       "      <td>2020-02-24T17:36:06</td>\n",
       "    </tr>\n",
       "    <tr>\n",
       "      <th>28779595</th>\n",
       "      <td>89.7</td>\n",
       "      <td>3.4</td>\n",
       "      <td>-0.9</td>\n",
       "      <td>1306.68675</td>\n",
       "      <td>N</td>\n",
       "      <td>5937.81698</td>\n",
       "      <td>W</td>\n",
       "      <td>2020-02-24T17:36:06</td>\n",
       "    </tr>\n",
       "    <tr>\n",
       "      <th>28779596</th>\n",
       "      <td>89.7</td>\n",
       "      <td>3.4</td>\n",
       "      <td>-0.8</td>\n",
       "      <td>1306.68675</td>\n",
       "      <td>N</td>\n",
       "      <td>5937.81700</td>\n",
       "      <td>W</td>\n",
       "      <td>2020-02-24T17:36:06</td>\n",
       "    </tr>\n",
       "  </tbody>\n",
       "</table>\n",
       "<p>28520426 rows × 8 columns</p>\n",
       "</div>"
      ],
      "text/plain": [
       "          heading  pitch  roll    latitude latitude_hemisphere   longitude  \\\n",
       "259171        0.0    0.0   0.0  1306.69354                   N  5937.86230   \n",
       "259172        0.0    0.0   0.0  1306.69354                   N  5937.86238   \n",
       "259173        0.0    0.0   0.0  1306.69354                   N  5937.86245   \n",
       "259174        0.0    0.0   0.0  1306.69355                   N  5937.86259   \n",
       "259175        0.0    0.0   0.0  1306.69355                   N  5937.86272   \n",
       "...           ...    ...   ...         ...                 ...         ...   \n",
       "28779592     89.7    3.4  -0.9  1306.68676                   N  5937.81694   \n",
       "28779593     89.7    3.4  -0.9  1306.68676                   N  5937.81695   \n",
       "28779594     89.7    3.4  -0.9  1306.68675                   N  5937.81697   \n",
       "28779595     89.7    3.4  -0.9  1306.68675                   N  5937.81698   \n",
       "28779596     89.7    3.4  -0.8  1306.68675                   N  5937.81700   \n",
       "\n",
       "         longitude_hemisphere         datetime UTC  \n",
       "259171                      W  2020-01-22T12:04:48  \n",
       "259172                      W  2020-01-22T12:04:48  \n",
       "259173                      W  2020-01-22T12:04:48  \n",
       "259174                      W  2020-01-22T12:04:48  \n",
       "259175                      W  2020-01-22T12:04:48  \n",
       "...                       ...                  ...  \n",
       "28779592                    W  2020-02-24T17:36:06  \n",
       "28779593                    W  2020-02-24T17:36:06  \n",
       "28779594                    W  2020-02-24T17:36:06  \n",
       "28779595                    W  2020-02-24T17:36:06  \n",
       "28779596                    W  2020-02-24T17:36:06  \n",
       "\n",
       "[28520426 rows x 8 columns]"
      ]
     },
     "execution_count": 10,
     "metadata": {},
     "output_type": "execute_result"
    }
   ],
   "source": [
    "subset = subset[(subset['datetime UTC'] >= '2020-01-22 00:00:00.000')] #select data from Caravela's launch onwards\n",
    "subset"
   ]
  },
  {
   "cell_type": "code",
   "execution_count": 11,
   "metadata": {},
   "outputs": [],
   "source": [
    "subset.to_csv('../../Products/CARAVELA_Motion.csv',index = None)#save file"
   ]
  },
  {
   "cell_type": "code",
   "execution_count": 1,
   "metadata": {},
   "outputs": [
    {
     "ename": "NameError",
     "evalue": "name 'pd' is not defined",
     "output_type": "error",
     "traceback": [
      "\u001b[0;31m---------------------------------------------------------------------------\u001b[0m",
      "\u001b[0;31mNameError\u001b[0m                                 Traceback (most recent call last)",
      "\u001b[0;32m<ipython-input-1-4367652f9453>\u001b[0m in \u001b[0;36m<module>\u001b[0;34m\u001b[0m\n\u001b[0;32m----> 1\u001b[0;31m \u001b[0mbaa\u001b[0m \u001b[0;34m=\u001b[0m \u001b[0mpd\u001b[0m\u001b[0;34m.\u001b[0m\u001b[0mread_csv\u001b[0m\u001b[0;34m(\u001b[0m\u001b[0;34m'../../Products/CARAVELA_Motion.csv'\u001b[0m\u001b[0;34m)\u001b[0m\u001b[0;31m# import file to test it\u001b[0m\u001b[0;34m\u001b[0m\u001b[0;34m\u001b[0m\u001b[0m\n\u001b[0m",
      "\u001b[0;31mNameError\u001b[0m: name 'pd' is not defined"
     ]
    }
   ],
   "source": [
    "baa = pd.read_csv('../../Products/CARAVELA_Motion.csv')# import file to test it"
   ]
  },
  {
   "cell_type": "markdown",
   "metadata": {},
   "source": [
    "# Checking the saved file"
   ]
  },
  {
   "cell_type": "code",
   "execution_count": 6,
   "metadata": {},
   "outputs": [
    {
     "data": {
      "application/vnd.jupyter.widget-view+json": {
       "model_id": "490d5868e10e4e049320120db1050fca",
       "version_major": 2,
       "version_minor": 0
      },
      "text/plain": [
       "HBox(children=(HTML(value=''), FloatProgress(value=0.0, max=28520426.0), HTML(value='')))"
      ]
     },
     "metadata": {},
     "output_type": "display_data"
    },
    {
     "name": "stdout",
     "output_type": "stream",
     "text": [
      "\n"
     ]
    }
   ],
   "source": [
    "x=[] # parse the timestamp\n",
    "for i in tqdm(range(len(baa['datetime UTC']))):\n",
    "    x.append(datetime.fromisoformat(baa['datetime UTC'][i]))\n",
    "baa['datetime_parsed'] = x"
   ]
  },
  {
   "cell_type": "code",
   "execution_count": 18,
   "metadata": {},
   "outputs": [
    {
     "data": {
      "text/plain": [
       "'2009-12-31T11:05:06'"
      ]
     },
     "execution_count": 18,
     "metadata": {},
     "output_type": "execute_result"
    }
   ],
   "source": [
    "datetime.fromisoformat('2009-12-31T11:05:06')\n",
    "datetime.strptime('2009/12/31 11:05:06', '%Y/%m/%d %H:%M:%S').isoformat()"
   ]
  },
  {
   "cell_type": "code",
   "execution_count": 5,
   "metadata": {},
   "outputs": [
    {
     "data": {
      "text/html": [
       "<div>\n",
       "<style scoped>\n",
       "    .dataframe tbody tr th:only-of-type {\n",
       "        vertical-align: middle;\n",
       "    }\n",
       "\n",
       "    .dataframe tbody tr th {\n",
       "        vertical-align: top;\n",
       "    }\n",
       "\n",
       "    .dataframe thead th {\n",
       "        text-align: right;\n",
       "    }\n",
       "</style>\n",
       "<table border=\"1\" class=\"dataframe\">\n",
       "  <thead>\n",
       "    <tr style=\"text-align: right;\">\n",
       "      <th></th>\n",
       "      <th>heading</th>\n",
       "      <th>pitch</th>\n",
       "      <th>roll</th>\n",
       "      <th>latitude</th>\n",
       "      <th>latitude_hemisphere</th>\n",
       "      <th>longitude</th>\n",
       "      <th>longitude_hemisphere</th>\n",
       "      <th>datetime UTC</th>\n",
       "      <th>datetime_parsed</th>\n",
       "    </tr>\n",
       "  </thead>\n",
       "  <tbody>\n",
       "    <tr>\n",
       "      <th>0</th>\n",
       "      <td>0.0</td>\n",
       "      <td>0.0</td>\n",
       "      <td>0.0</td>\n",
       "      <td>1306.69354</td>\n",
       "      <td>N</td>\n",
       "      <td>5937.86230</td>\n",
       "      <td>W</td>\n",
       "      <td>2020-01-22T12:04:48</td>\n",
       "      <td>2020-01-22 12:04:48</td>\n",
       "    </tr>\n",
       "    <tr>\n",
       "      <th>1</th>\n",
       "      <td>0.0</td>\n",
       "      <td>0.0</td>\n",
       "      <td>0.0</td>\n",
       "      <td>1306.69354</td>\n",
       "      <td>N</td>\n",
       "      <td>5937.86238</td>\n",
       "      <td>W</td>\n",
       "      <td>2020-01-22T12:04:48</td>\n",
       "      <td>2020-01-22 12:04:48</td>\n",
       "    </tr>\n",
       "    <tr>\n",
       "      <th>2</th>\n",
       "      <td>0.0</td>\n",
       "      <td>0.0</td>\n",
       "      <td>0.0</td>\n",
       "      <td>1306.69354</td>\n",
       "      <td>N</td>\n",
       "      <td>5937.86245</td>\n",
       "      <td>W</td>\n",
       "      <td>2020-01-22T12:04:48</td>\n",
       "      <td>2020-01-22 12:04:48</td>\n",
       "    </tr>\n",
       "    <tr>\n",
       "      <th>3</th>\n",
       "      <td>0.0</td>\n",
       "      <td>0.0</td>\n",
       "      <td>0.0</td>\n",
       "      <td>1306.69355</td>\n",
       "      <td>N</td>\n",
       "      <td>5937.86259</td>\n",
       "      <td>W</td>\n",
       "      <td>2020-01-22T12:04:48</td>\n",
       "      <td>2020-01-22 12:04:48</td>\n",
       "    </tr>\n",
       "    <tr>\n",
       "      <th>4</th>\n",
       "      <td>0.0</td>\n",
       "      <td>0.0</td>\n",
       "      <td>0.0</td>\n",
       "      <td>1306.69355</td>\n",
       "      <td>N</td>\n",
       "      <td>5937.86272</td>\n",
       "      <td>W</td>\n",
       "      <td>2020-01-22T12:04:48</td>\n",
       "      <td>2020-01-22 12:04:48</td>\n",
       "    </tr>\n",
       "    <tr>\n",
       "      <th>...</th>\n",
       "      <td>...</td>\n",
       "      <td>...</td>\n",
       "      <td>...</td>\n",
       "      <td>...</td>\n",
       "      <td>...</td>\n",
       "      <td>...</td>\n",
       "      <td>...</td>\n",
       "      <td>...</td>\n",
       "      <td>...</td>\n",
       "    </tr>\n",
       "    <tr>\n",
       "      <th>28520421</th>\n",
       "      <td>89.7</td>\n",
       "      <td>3.4</td>\n",
       "      <td>-0.9</td>\n",
       "      <td>1306.68676</td>\n",
       "      <td>N</td>\n",
       "      <td>5937.81694</td>\n",
       "      <td>W</td>\n",
       "      <td>2020-02-24T17:36:06</td>\n",
       "      <td>2020-02-24 17:36:06</td>\n",
       "    </tr>\n",
       "    <tr>\n",
       "      <th>28520422</th>\n",
       "      <td>89.7</td>\n",
       "      <td>3.4</td>\n",
       "      <td>-0.9</td>\n",
       "      <td>1306.68676</td>\n",
       "      <td>N</td>\n",
       "      <td>5937.81695</td>\n",
       "      <td>W</td>\n",
       "      <td>2020-02-24T17:36:06</td>\n",
       "      <td>2020-02-24 17:36:06</td>\n",
       "    </tr>\n",
       "    <tr>\n",
       "      <th>28520423</th>\n",
       "      <td>89.7</td>\n",
       "      <td>3.4</td>\n",
       "      <td>-0.9</td>\n",
       "      <td>1306.68675</td>\n",
       "      <td>N</td>\n",
       "      <td>5937.81697</td>\n",
       "      <td>W</td>\n",
       "      <td>2020-02-24T17:36:06</td>\n",
       "      <td>2020-02-24 17:36:06</td>\n",
       "    </tr>\n",
       "    <tr>\n",
       "      <th>28520424</th>\n",
       "      <td>89.7</td>\n",
       "      <td>3.4</td>\n",
       "      <td>-0.9</td>\n",
       "      <td>1306.68675</td>\n",
       "      <td>N</td>\n",
       "      <td>5937.81698</td>\n",
       "      <td>W</td>\n",
       "      <td>2020-02-24T17:36:06</td>\n",
       "      <td>2020-02-24 17:36:06</td>\n",
       "    </tr>\n",
       "    <tr>\n",
       "      <th>28520425</th>\n",
       "      <td>89.7</td>\n",
       "      <td>3.4</td>\n",
       "      <td>-0.8</td>\n",
       "      <td>1306.68675</td>\n",
       "      <td>N</td>\n",
       "      <td>5937.81700</td>\n",
       "      <td>W</td>\n",
       "      <td>2020-02-24T17:36:06</td>\n",
       "      <td>2020-02-24 17:36:06</td>\n",
       "    </tr>\n",
       "  </tbody>\n",
       "</table>\n",
       "<p>28520426 rows × 9 columns</p>\n",
       "</div>"
      ],
      "text/plain": [
       "          heading  pitch  roll    latitude latitude_hemisphere   longitude  \\\n",
       "0             0.0    0.0   0.0  1306.69354                   N  5937.86230   \n",
       "1             0.0    0.0   0.0  1306.69354                   N  5937.86238   \n",
       "2             0.0    0.0   0.0  1306.69354                   N  5937.86245   \n",
       "3             0.0    0.0   0.0  1306.69355                   N  5937.86259   \n",
       "4             0.0    0.0   0.0  1306.69355                   N  5937.86272   \n",
       "...           ...    ...   ...         ...                 ...         ...   \n",
       "28520421     89.7    3.4  -0.9  1306.68676                   N  5937.81694   \n",
       "28520422     89.7    3.4  -0.9  1306.68676                   N  5937.81695   \n",
       "28520423     89.7    3.4  -0.9  1306.68675                   N  5937.81697   \n",
       "28520424     89.7    3.4  -0.9  1306.68675                   N  5937.81698   \n",
       "28520425     89.7    3.4  -0.8  1306.68675                   N  5937.81700   \n",
       "\n",
       "         longitude_hemisphere         datetime UTC     datetime_parsed  \n",
       "0                           W  2020-01-22T12:04:48 2020-01-22 12:04:48  \n",
       "1                           W  2020-01-22T12:04:48 2020-01-22 12:04:48  \n",
       "2                           W  2020-01-22T12:04:48 2020-01-22 12:04:48  \n",
       "3                           W  2020-01-22T12:04:48 2020-01-22 12:04:48  \n",
       "4                           W  2020-01-22T12:04:48 2020-01-22 12:04:48  \n",
       "...                       ...                  ...                 ...  \n",
       "28520421                    W  2020-02-24T17:36:06 2020-02-24 17:36:06  \n",
       "28520422                    W  2020-02-24T17:36:06 2020-02-24 17:36:06  \n",
       "28520423                    W  2020-02-24T17:36:06 2020-02-24 17:36:06  \n",
       "28520424                    W  2020-02-24T17:36:06 2020-02-24 17:36:06  \n",
       "28520425                    W  2020-02-24T17:36:06 2020-02-24 17:36:06  \n",
       "\n",
       "[28520426 rows x 9 columns]"
      ]
     },
     "execution_count": 5,
     "metadata": {},
     "output_type": "execute_result"
    }
   ],
   "source": [
    "baa"
   ]
  },
  {
   "cell_type": "code",
   "execution_count": 10,
   "metadata": {},
   "outputs": [
    {
     "data": {
      "text/plain": [
       "array(['W', '124419.4', 'N', ..., '1306.68359', '0000.25', '0000.18'],\n",
       "      dtype=object)"
      ]
     },
     "execution_count": 10,
     "metadata": {},
     "output_type": "execute_result"
    }
   ],
   "source": [
    "#  check all lat, lon hemispheres are correct\n",
    "baa.longitude_hemisphere.unique()"
   ]
  },
  {
   "cell_type": "markdown",
   "metadata": {},
   "source": [
    "### Quickplot to check timeseries is there"
   ]
  },
  {
   "cell_type": "code",
   "execution_count": 12,
   "metadata": {},
   "outputs": [],
   "source": [
    "import matplotlib.pyplot as plt\n",
    "font_size=23\n",
    "plt.rcParams.update({'font.size': font_size})"
   ]
  },
  {
   "cell_type": "code",
   "execution_count": 21,
   "metadata": {},
   "outputs": [
    {
     "data": {
      "text/plain": [
       "Text(0.5, 0, 'Datetime')"
      ]
     },
     "execution_count": 21,
     "metadata": {},
     "output_type": "execute_result"
    },
    {
     "data": {
      "image/png": "[encoded data removed]",
      "text/plain": [
       "<Figure size 1296x1080 with 1 Axes>"
      ]
     },
     "metadata": {
      "needs_background": "light"
     },
     "output_type": "display_data"
    }
   ],
   "source": [
    "a = (baa.datetime_parsed.min() - timedelta(seconds = 3600*12)) \n",
    "b = (baa.datetime_parsed.max() + timedelta(seconds = 3600*12))\n",
    "\n",
    "fig,ax = plt.subplots(1,1, figsize=(18, 15))\n",
    "plt.xticks(rotation=30)\n",
    "ax.set_xlim(a,b)\n",
    "ax.set_ylim(0,17500)\n",
    "ax.scatter(baa['datetime_parsed'], baa['latitude'])\n",
    "ax.set_ylabel('latitude')\n",
    "ax.set_xlabel('Datetime')\n"
   ]
  },
  {
   "cell_type": "code",
   "execution_count": 7,
   "metadata": {},
   "outputs": [
    {
     "name": "stdout",
     "output_type": "stream",
     "text": [
      "1364\n"
     ]
    }
   ],
   "source": [
    "#Get a bool series representing which row satisfies the condition \n",
    "seriesObj = baa.apply(lambda x: True if x['latitude'] < 1250 or x['latitude'] > 1450 else False , axis=1)\n",
    "numOfRows = len(seriesObj[seriesObj == True].index)\n",
    "print(numOfRows)"
   ]
  },
  {
   "cell_type": "code",
   "execution_count": 8,
   "metadata": {},
   "outputs": [
    {
     "name": "stdout",
     "output_type": "stream",
     "text": [
      "2363\n"
     ]
    }
   ],
   "source": [
    "#Get a bool series representing which row satisfies the condition \n",
    "seriesObj2 = baa.apply(lambda x: True if x['longitude'] < 5700 or x['latitude'] > 6000 else False , axis=1)\n",
    "numOfRows2 = len(seriesObj2[seriesObj2 == True].index)\n",
    "print(numOfRows2)"
   ]
  },
  {
   "cell_type": "code",
   "execution_count": null,
   "metadata": {},
   "outputs": [],
   "source": []
  }
 ],
 "metadata": {
  "kernelspec": {
   "display_name": "Python 3",
   "language": "python",
   "name": "python3"
  },
  "language_info": {
   "codemirror_mode": {
    "name": "ipython",
    "version": 3
   },
   "file_extension": ".py",
   "mimetype": "text/x-python",
   "name": "python",
   "nbconvert_exporter": "python",
   "pygments_lexer": "ipython3",
   "version": "3.8.5"
  }
 },
 "nbformat": 4,
 "nbformat_minor": 4
}
