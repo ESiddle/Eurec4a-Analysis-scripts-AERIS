{
 "cells": [
  {
   "cell_type": "code",
   "execution_count": 1,
   "metadata": {},
   "outputs": [],
   "source": [
    "import pandas as pd\n",
    "import numpy as np\n",
    "from glob import glob\n",
    "from pathlib import Path\n",
    "import pynmea2\n",
    "import matplotlib.pyplot as plt\n",
    "from datetime import datetime,timedelta\n",
    "from tqdm.notebook import tqdm\n",
    "import copy\n"
   ]
  },
  {
   "cell_type": "code",
   "execution_count": 2,
   "metadata": {},
   "outputs": [],
   "source": [
    "files_list = glob(r'../../Data/Caravela/CaravelaPCS/Datalog/Y20/*/*'+ '/recordDataPort_D*')  \n",
    "files_list.sort()"
   ]
  },
  {
   "cell_type": "code",
   "execution_count": 3,
   "metadata": {},
   "outputs": [
    {
     "data": {
      "text/plain": [
       "['../../Data/Caravela/CaravelaPCS/Datalog/Y20/M01/D15/recordDataPort_D_001_edited.txt',\n",
       " '../../Data/Caravela/CaravelaPCS/Datalog/Y20/M01/D15/recordDataPort_D_002.txt',\n",
       " '../../Data/Caravela/CaravelaPCS/Datalog/Y20/M01/D16/recordDataPort_D_001.txt',\n",
       " '../../Data/Caravela/CaravelaPCS/Datalog/Y20/M01/D19/recordDataPort_D_001.txt',\n",
       " '../../Data/Caravela/CaravelaPCS/Datalog/Y20/M01/D22/recordDataPort_D_001.txt',\n",
       " '../../Data/Caravela/CaravelaPCS/Datalog/Y20/M01/D23/recordDataPort_D_001.txt',\n",
       " '../../Data/Caravela/CaravelaPCS/Datalog/Y20/M01/D24/recordDataPort_D_001.txt',\n",
       " '../../Data/Caravela/CaravelaPCS/Datalog/Y20/M01/D25/recordDataPort_D_001.txt',\n",
       " '../../Data/Caravela/CaravelaPCS/Datalog/Y20/M01/D26/recordDataPort_D_001.txt',\n",
       " '../../Data/Caravela/CaravelaPCS/Datalog/Y20/M01/D27/recordDataPort_D_001.txt',\n",
       " '../../Data/Caravela/CaravelaPCS/Datalog/Y20/M01/D28/recordDataPort_D_001.txt',\n",
       " '../../Data/Caravela/CaravelaPCS/Datalog/Y20/M01/D29/recordDataPort_D_001.txt',\n",
       " '../../Data/Caravela/CaravelaPCS/Datalog/Y20/M01/D30/recordDataPort_D_001.txt',\n",
       " '../../Data/Caravela/CaravelaPCS/Datalog/Y20/M01/D31/recordDataPort_D_001.txt',\n",
       " '../../Data/Caravela/CaravelaPCS/Datalog/Y20/M02/D01/recordDataPort_D_001.txt',\n",
       " '../../Data/Caravela/CaravelaPCS/Datalog/Y20/M02/D02/recordDataPort_D_001.txt',\n",
       " '../../Data/Caravela/CaravelaPCS/Datalog/Y20/M02/D03/recordDataPort_D_001.txt',\n",
       " '../../Data/Caravela/CaravelaPCS/Datalog/Y20/M02/D04/recordDataPort_D_001.txt',\n",
       " '../../Data/Caravela/CaravelaPCS/Datalog/Y20/M02/D05/recordDataPort_D_001.txt',\n",
       " '../../Data/Caravela/CaravelaPCS/Datalog/Y20/M02/D06/recordDataPort_D_001.txt',\n",
       " '../../Data/Caravela/CaravelaPCS/Datalog/Y20/M02/D07/recordDataPort_D_001.txt',\n",
       " '../../Data/Caravela/CaravelaPCS/Datalog/Y20/M02/D08/recordDataPort_D_001.txt',\n",
       " '../../Data/Caravela/CaravelaPCS/Datalog/Y20/M02/D09/recordDataPort_D_001.txt',\n",
       " '../../Data/Caravela/CaravelaPCS/Datalog/Y20/M02/D10/recordDataPort_D_001.txt',\n",
       " '../../Data/Caravela/CaravelaPCS/Datalog/Y20/M02/D11/recordDataPort_D_001.txt',\n",
       " '../../Data/Caravela/CaravelaPCS/Datalog/Y20/M02/D12/recordDataPort_D_001.txt',\n",
       " '../../Data/Caravela/CaravelaPCS/Datalog/Y20/M02/D13/recordDataPort_D_001.txt',\n",
       " '../../Data/Caravela/CaravelaPCS/Datalog/Y20/M02/D14/recordDataPort_D_001.txt',\n",
       " '../../Data/Caravela/CaravelaPCS/Datalog/Y20/M02/D15/recordDataPort_D_001.txt',\n",
       " '../../Data/Caravela/CaravelaPCS/Datalog/Y20/M02/D16/recordDataPort_D_001.txt',\n",
       " '../../Data/Caravela/CaravelaPCS/Datalog/Y20/M02/D17/recordDataPort_D_001_edit.txt',\n",
       " '../../Data/Caravela/CaravelaPCS/Datalog/Y20/M02/D18/recordDataPort_D_001.txt',\n",
       " '../../Data/Caravela/CaravelaPCS/Datalog/Y20/M02/D19/recordDataPort_D_001.txt',\n",
       " '../../Data/Caravela/CaravelaPCS/Datalog/Y20/M02/D20/recordDataPort_D_001.txt',\n",
       " '../../Data/Caravela/CaravelaPCS/Datalog/Y20/M02/D21/recordDataPort_D_001.txt',\n",
       " '../../Data/Caravela/CaravelaPCS/Datalog/Y20/M02/D22/recordDataPort_D_001.txt',\n",
       " '../../Data/Caravela/CaravelaPCS/Datalog/Y20/M02/D23/recordDataPort_D_001.txt',\n",
       " '../../Data/Caravela/CaravelaPCS/Datalog/Y20/M02/D24/recordDataPort_D_001.txt']"
      ]
     },
     "execution_count": 3,
     "metadata": {},
     "output_type": "execute_result"
    }
   ],
   "source": [
    "files_list"
   ]
  },
  {
   "cell_type": "code",
   "execution_count": 4,
   "metadata": {},
   "outputs": [
    {
     "data": {
      "application/vnd.jupyter.widget-view+json": {
       "model_id": "2f19355fc5a64d9c9833b6b33d832d7c",
       "version_major": 2,
       "version_minor": 0
      },
      "text/plain": [
       "HBox(children=(FloatProgress(value=0.0, max=14.0), HTML(value='')))"
      ]
     },
     "metadata": {},
     "output_type": "display_data"
    },
    {
     "name": "stdout",
     "output_type": "stream",
     "text": [
      "\n"
     ]
    }
   ],
   "source": [
    "li = []\n",
    "\n",
    "\n",
    "for filename in tqdm(range(24,len(files_list))):\n",
    "    with open(files_list[filename],'r') as myfile:\n",
    "        content = myfile.readlines()[1:-1]\n",
    "    frame = pd.DataFrame(data = np.array(content), columns= ['original'])\n",
    "    li.append(frame)\n",
    "df = pd.concat(li, axis=0,ignore_index=True)"
   ]
  },
  {
   "cell_type": "code",
   "execution_count": 5,
   "metadata": {},
   "outputs": [],
   "source": [
    "del frame, content, li"
   ]
  },
  {
   "cell_type": "code",
   "execution_count": 6,
   "metadata": {},
   "outputs": [],
   "source": [
    "myfile.close()"
   ]
  },
  {
   "cell_type": "code",
   "execution_count": 7,
   "metadata": {},
   "outputs": [],
   "source": [
    "df['nmea_ident'] = copy.deepcopy(df.original.str[16:22])\n",
    "df['desired'] = False\n",
    "df.loc[df['nmea_ident'] == '$WIMWV', 'desired'] = True\n",
    "#df.loc[df['nmea_ident'] == '$PCHPR', 'desired'] = True\n",
    "des = df[df.desired]"
   ]
  },
  {
   "cell_type": "code",
   "execution_count": 8,
   "metadata": {},
   "outputs": [],
   "source": [
    "des = des.reset_index()"
   ]
  },
  {
   "cell_type": "code",
   "execution_count": 9,
   "metadata": {},
   "outputs": [],
   "source": [
    "des = des.drop(['index'], axis=1)"
   ]
  },
  {
   "cell_type": "code",
   "execution_count": 10,
   "metadata": {},
   "outputs": [
    {
     "data": {
      "application/vnd.jupyter.widget-view+json": {
       "model_id": "5447756293df4209a1f4bd380518e844",
       "version_major": 2,
       "version_minor": 0
      },
      "text/plain": [
       "HBox(children=(FloatProgress(value=0.0, max=2331992.0), HTML(value='')))"
      ]
     },
     "metadata": {},
     "output_type": "display_data"
    },
    {
     "name": "stderr",
     "output_type": "stream",
     "text": [
      "<ipython-input-10-58aacda53822>:9: SettingWithCopyWarning: \n",
      "A value is trying to be set on a copy of a slice from a DataFrame\n",
      "\n",
      "See the caveats in the documentation: https://pandas.pydata.org/pandas-docs/stable/user_guide/indexing.html#returning-a-view-versus-a-copy\n",
      "  des.NMEA_flag[i] = 1\n"
     ]
    },
    {
     "name": "stdout",
     "output_type": "stream",
     "text": [
      "\n"
     ]
    }
   ],
   "source": [
    "flump = []\n",
    "des['NMEA'] = ''\n",
    "des['NMEA_flag'] = 0\n",
    "for i in tqdm(range(len(des['original']))):\n",
    "    try: \n",
    "        nmea = pynmea2.parse(des['original'][i][16:], check=True)\n",
    "    except ValueError:\n",
    "        nmea = np.nan\n",
    "        des.NMEA_flag[i] = 1\n",
    "    flump.append(nmea)\n",
    "des['NMEA'] = flump\n"
   ]
  },
  {
   "cell_type": "code",
   "execution_count": 11,
   "metadata": {},
   "outputs": [],
   "source": [
    "des = des.dropna() #drop rows containing nan\n",
    "des = des.reset_index()\n",
    "des = des.drop(['index'], axis=1)"
   ]
  },
  {
   "cell_type": "code",
   "execution_count": 12,
   "metadata": {},
   "outputs": [],
   "source": [
    "ext = pd.DataFrame()"
   ]
  },
  {
   "cell_type": "code",
   "execution_count": 13,
   "metadata": {},
   "outputs": [
    {
     "data": {
      "application/vnd.jupyter.widget-view+json": {
       "model_id": "710b4746d8bc4e5d8487a1dd2d4d9925",
       "version_major": 2,
       "version_minor": 0
      },
      "text/plain": [
       "HBox(children=(FloatProgress(value=0.0, max=2331873.0), HTML(value='')))"
      ]
     },
     "metadata": {},
     "output_type": "display_data"
    },
    {
     "name": "stdout",
     "output_type": "stream",
     "text": [
      "\n"
     ]
    }
   ],
   "source": [
    "foo = []\n",
    "ext['datetime'] = ''\n",
    "for i in tqdm(range(len(des['original']))):\n",
    "    try: \n",
    "        time_in = ((datetime.strptime(des.original[i][:15], '%y%m%d,%H:%M:%S')))\n",
    "    except ValueError:\n",
    "        time_in = np.nan\n",
    "    foo.append(time_in)\n",
    "ext['datetime'] = foo"
   ]
  },
  {
   "cell_type": "code",
   "execution_count": 14,
   "metadata": {},
   "outputs": [
    {
     "data": {
      "application/vnd.jupyter.widget-view+json": {
       "model_id": "356d9dfe1f10439d899e3cb0de5d31e8",
       "version_major": 2,
       "version_minor": 0
      },
      "text/plain": [
       "HBox(children=(FloatProgress(value=0.0, max=2331873.0), HTML(value='')))"
      ]
     },
     "metadata": {},
     "output_type": "display_data"
    },
    {
     "name": "stdout",
     "output_type": "stream",
     "text": [
      "\n"
     ]
    }
   ],
   "source": [
    "ext['wind_speed'] = ''\n",
    "a=[]\n",
    "for i in tqdm(range(len(des['NMEA']))):\n",
    "    if des['nmea_ident'][i] == '$WIMWV':\n",
    "        a.append(des['NMEA'][i].wind_speed)\n",
    "    else:\n",
    "        a.append(np.nan)\n",
    "ext['wind_speed'] = a"
   ]
  },
  {
   "cell_type": "code",
   "execution_count": 15,
   "metadata": {},
   "outputs": [
    {
     "data": {
      "application/vnd.jupyter.widget-view+json": {
       "model_id": "8cebd580f71f466da95bd87fa4cc51ba",
       "version_major": 2,
       "version_minor": 0
      },
      "text/plain": [
       "HBox(children=(FloatProgress(value=0.0, max=2331873.0), HTML(value='')))"
      ]
     },
     "metadata": {},
     "output_type": "display_data"
    },
    {
     "name": "stdout",
     "output_type": "stream",
     "text": [
      "\n"
     ]
    }
   ],
   "source": [
    "ext['wind_speed_unit'] = ''\n",
    "b=[]\n",
    "for i in tqdm(range(len(des['NMEA']))):\n",
    "    if des['nmea_ident'][i] == '$WIMWV':\n",
    "        b.append(des['NMEA'][i].wind_speed_units)\n",
    "    else:\n",
    "        b.append(np.nan)\n",
    "ext['wind_speed_unit'] = b"
   ]
  },
  {
   "cell_type": "code",
   "execution_count": 16,
   "metadata": {},
   "outputs": [
    {
     "data": {
      "application/vnd.jupyter.widget-view+json": {
       "model_id": "3071a918763c45888d64814a2f656cac",
       "version_major": 2,
       "version_minor": 0
      },
      "text/plain": [
       "HBox(children=(FloatProgress(value=0.0, max=2331873.0), HTML(value='')))"
      ]
     },
     "metadata": {},
     "output_type": "display_data"
    },
    {
     "name": "stdout",
     "output_type": "stream",
     "text": [
      "\n"
     ]
    }
   ],
   "source": [
    "ext['wind_angle'] = ''\n",
    "c=[]\n",
    "for i in tqdm(range(len(des['NMEA']))):\n",
    "    if des['nmea_ident'][i] == '$WIMWV':\n",
    "        c.append(des['NMEA'][i].wind_angle)\n",
    "    else:\n",
    "        c.append(np.nan)\n",
    "ext['wind_angle'] = c"
   ]
  },
  {
   "cell_type": "code",
   "execution_count": 17,
   "metadata": {},
   "outputs": [
    {
     "data": {
      "application/vnd.jupyter.widget-view+json": {
       "model_id": "8c1a20a0533d4ae0b9a2bc3f0d9b39d6",
       "version_major": 2,
       "version_minor": 0
      },
      "text/plain": [
       "HBox(children=(FloatProgress(value=0.0, max=2331873.0), HTML(value='')))"
      ]
     },
     "metadata": {},
     "output_type": "display_data"
    },
    {
     "name": "stdout",
     "output_type": "stream",
     "text": [
      "\n"
     ]
    }
   ],
   "source": [
    "ext['wind_angle_ref'] = ''\n",
    "d=[]\n",
    "for i in tqdm(range(len(des['NMEA']))):\n",
    "    if des['nmea_ident'][i] == '$WIMWV':\n",
    "        d.append(des['NMEA'][i].reference)\n",
    "    else:\n",
    "        d.append(np.nan)\n",
    "ext['wind_angle_ref'] = d"
   ]
  },
  {
   "cell_type": "code",
   "execution_count": 26,
   "metadata": {},
   "outputs": [
    {
     "data": {
      "text/html": [
       "<div>\n",
       "<style scoped>\n",
       "    .dataframe tbody tr th:only-of-type {\n",
       "        vertical-align: middle;\n",
       "    }\n",
       "\n",
       "    .dataframe tbody tr th {\n",
       "        vertical-align: top;\n",
       "    }\n",
       "\n",
       "    .dataframe thead th {\n",
       "        text-align: right;\n",
       "    }\n",
       "</style>\n",
       "<table border=\"1\" class=\"dataframe\">\n",
       "  <thead>\n",
       "    <tr style=\"text-align: right;\">\n",
       "      <th></th>\n",
       "      <th>datetime</th>\n",
       "      <th>wind_speed</th>\n",
       "      <th>wind_speed_unit</th>\n",
       "      <th>wind_angle</th>\n",
       "      <th>wind_angle_ref</th>\n",
       "    </tr>\n",
       "  </thead>\n",
       "  <tbody>\n",
       "    <tr>\n",
       "      <th>0</th>\n",
       "      <td>2020-02-10 23:59:59</td>\n",
       "      <td>10.2</td>\n",
       "      <td>N</td>\n",
       "      <td>102.6</td>\n",
       "      <td>R</td>\n",
       "    </tr>\n",
       "    <tr>\n",
       "      <th>1</th>\n",
       "      <td>2020-02-11 00:00:00</td>\n",
       "      <td>10.7</td>\n",
       "      <td>N</td>\n",
       "      <td>105.7</td>\n",
       "      <td>R</td>\n",
       "    </tr>\n",
       "    <tr>\n",
       "      <th>2</th>\n",
       "      <td>2020-02-11 00:00:00</td>\n",
       "      <td>10.9</td>\n",
       "      <td>N</td>\n",
       "      <td>102.3</td>\n",
       "      <td>R</td>\n",
       "    </tr>\n",
       "    <tr>\n",
       "      <th>3</th>\n",
       "      <td>2020-02-11 00:00:01</td>\n",
       "      <td>14.8</td>\n",
       "      <td>N</td>\n",
       "      <td>109.4</td>\n",
       "      <td>R</td>\n",
       "    </tr>\n",
       "    <tr>\n",
       "      <th>4</th>\n",
       "      <td>2020-02-11 00:00:01</td>\n",
       "      <td>18.9</td>\n",
       "      <td>N</td>\n",
       "      <td>112.5</td>\n",
       "      <td>R</td>\n",
       "    </tr>\n",
       "    <tr>\n",
       "      <th>5</th>\n",
       "      <td>2020-02-11 00:00:02</td>\n",
       "      <td>19.3</td>\n",
       "      <td>N</td>\n",
       "      <td>109.9</td>\n",
       "      <td>R</td>\n",
       "    </tr>\n",
       "    <tr>\n",
       "      <th>6</th>\n",
       "      <td>2020-02-11 00:00:02</td>\n",
       "      <td>18.6</td>\n",
       "      <td>N</td>\n",
       "      <td>111.6</td>\n",
       "      <td>R</td>\n",
       "    </tr>\n",
       "    <tr>\n",
       "      <th>7</th>\n",
       "      <td>2020-02-11 00:00:03</td>\n",
       "      <td>19.7</td>\n",
       "      <td>N</td>\n",
       "      <td>113.8</td>\n",
       "      <td>R</td>\n",
       "    </tr>\n",
       "    <tr>\n",
       "      <th>8</th>\n",
       "      <td>2020-02-11 00:00:03</td>\n",
       "      <td>19.3</td>\n",
       "      <td>N</td>\n",
       "      <td>115.3</td>\n",
       "      <td>R</td>\n",
       "    </tr>\n",
       "    <tr>\n",
       "      <th>9</th>\n",
       "      <td>2020-02-11 00:00:04</td>\n",
       "      <td>19.5</td>\n",
       "      <td>N</td>\n",
       "      <td>113.8</td>\n",
       "      <td>R</td>\n",
       "    </tr>\n",
       "    <tr>\n",
       "      <th>10</th>\n",
       "      <td>2020-02-11 00:00:04</td>\n",
       "      <td>18.3</td>\n",
       "      <td>N</td>\n",
       "      <td>111.5</td>\n",
       "      <td>R</td>\n",
       "    </tr>\n",
       "    <tr>\n",
       "      <th>11</th>\n",
       "      <td>2020-02-11 00:00:05</td>\n",
       "      <td>16.7</td>\n",
       "      <td>N</td>\n",
       "      <td>107.4</td>\n",
       "      <td>R</td>\n",
       "    </tr>\n",
       "    <tr>\n",
       "      <th>12</th>\n",
       "      <td>2020-02-11 00:00:05</td>\n",
       "      <td>16.7</td>\n",
       "      <td>N</td>\n",
       "      <td>105.5</td>\n",
       "      <td>R</td>\n",
       "    </tr>\n",
       "    <tr>\n",
       "      <th>13</th>\n",
       "      <td>2020-02-11 00:00:06</td>\n",
       "      <td>17.2</td>\n",
       "      <td>N</td>\n",
       "      <td>103.2</td>\n",
       "      <td>R</td>\n",
       "    </tr>\n",
       "    <tr>\n",
       "      <th>14</th>\n",
       "      <td>2020-02-11 00:00:06</td>\n",
       "      <td>15.3</td>\n",
       "      <td>N</td>\n",
       "      <td>105.1</td>\n",
       "      <td>R</td>\n",
       "    </tr>\n",
       "    <tr>\n",
       "      <th>15</th>\n",
       "      <td>2020-02-11 00:00:07</td>\n",
       "      <td>14.0</td>\n",
       "      <td>N</td>\n",
       "      <td>108.3</td>\n",
       "      <td>R</td>\n",
       "    </tr>\n",
       "    <tr>\n",
       "      <th>16</th>\n",
       "      <td>2020-02-11 00:00:07</td>\n",
       "      <td>13.4</td>\n",
       "      <td>N</td>\n",
       "      <td>110.1</td>\n",
       "      <td>R</td>\n",
       "    </tr>\n",
       "    <tr>\n",
       "      <th>17</th>\n",
       "      <td>2020-02-11 00:00:08</td>\n",
       "      <td>12.9</td>\n",
       "      <td>N</td>\n",
       "      <td>106.8</td>\n",
       "      <td>R</td>\n",
       "    </tr>\n",
       "    <tr>\n",
       "      <th>18</th>\n",
       "      <td>2020-02-11 00:00:08</td>\n",
       "      <td>11.4</td>\n",
       "      <td>N</td>\n",
       "      <td>99.8</td>\n",
       "      <td>R</td>\n",
       "    </tr>\n",
       "    <tr>\n",
       "      <th>19</th>\n",
       "      <td>2020-02-11 00:00:09</td>\n",
       "      <td>9.9</td>\n",
       "      <td>N</td>\n",
       "      <td>90.1</td>\n",
       "      <td>R</td>\n",
       "    </tr>\n",
       "  </tbody>\n",
       "</table>\n",
       "</div>"
      ],
      "text/plain": [
       "              datetime wind_speed wind_speed_unit wind_angle wind_angle_ref\n",
       "0  2020-02-10 23:59:59       10.2               N      102.6              R\n",
       "1  2020-02-11 00:00:00       10.7               N      105.7              R\n",
       "2  2020-02-11 00:00:00       10.9               N      102.3              R\n",
       "3  2020-02-11 00:00:01       14.8               N      109.4              R\n",
       "4  2020-02-11 00:00:01       18.9               N      112.5              R\n",
       "5  2020-02-11 00:00:02       19.3               N      109.9              R\n",
       "6  2020-02-11 00:00:02       18.6               N      111.6              R\n",
       "7  2020-02-11 00:00:03       19.7               N      113.8              R\n",
       "8  2020-02-11 00:00:03       19.3               N      115.3              R\n",
       "9  2020-02-11 00:00:04       19.5               N      113.8              R\n",
       "10 2020-02-11 00:00:04       18.3               N      111.5              R\n",
       "11 2020-02-11 00:00:05       16.7               N      107.4              R\n",
       "12 2020-02-11 00:00:05       16.7               N      105.5              R\n",
       "13 2020-02-11 00:00:06       17.2               N      103.2              R\n",
       "14 2020-02-11 00:00:06       15.3               N      105.1              R\n",
       "15 2020-02-11 00:00:07       14.0               N      108.3              R\n",
       "16 2020-02-11 00:00:07       13.4               N      110.1              R\n",
       "17 2020-02-11 00:00:08       12.9               N      106.8              R\n",
       "18 2020-02-11 00:00:08       11.4               N       99.8              R\n",
       "19 2020-02-11 00:00:09        9.9               N       90.1              R"
      ]
     },
     "execution_count": 26,
     "metadata": {},
     "output_type": "execute_result"
    }
   ],
   "source": [
    "ext.head(20)"
   ]
  },
  {
   "cell_type": "code",
   "execution_count": 19,
   "metadata": {},
   "outputs": [],
   "source": [
    "import matplotlib.pyplot as plt\n",
    "font_size=22\n",
    "plt.rcParams.update({'font.size': font_size})"
   ]
  },
  {
   "cell_type": "code",
   "execution_count": 20,
   "metadata": {},
   "outputs": [
    {
     "data": {
      "text/plain": [
       "Text(0.5, 0, 'Date')"
      ]
     },
     "execution_count": 20,
     "metadata": {},
     "output_type": "execute_result"
    },
    {
     "data": {
      "image/png": "[encoded data removed]",
      "text/plain": [
       "<Figure size 1296x1080 with 1 Axes>"
      ]
     },
     "metadata": {
      "needs_background": "light"
     },
     "output_type": "display_data"
    }
   ],
   "source": [
    "fig,ax = plt.subplots(1,1, figsize=(18, 15))\n",
    "ax.scatter(ext['datetime'], ext['wind_speed'])\n",
    "ax.set_ylabel('wind speed [knots]')\n",
    "ax.set_xlabel('Date')"
   ]
  },
  {
   "cell_type": "code",
   "execution_count": 21,
   "metadata": {},
   "outputs": [
    {
     "data": {
      "text/plain": [
       "array(['N', 'W'], dtype=object)"
      ]
     },
     "execution_count": 21,
     "metadata": {},
     "output_type": "execute_result"
    }
   ],
   "source": [
    "# to check  all units are knots(N)\n",
    "ext.wind_speed_unit.unique()"
   ]
  },
  {
   "cell_type": "code",
   "execution_count": 22,
   "metadata": {},
   "outputs": [
    {
     "data": {
      "text/plain": [
       "array(['R'], dtype=object)"
      ]
     },
     "execution_count": 22,
     "metadata": {},
     "output_type": "execute_result"
    }
   ],
   "source": [
    "# to check all wind speeds are relative to heading(R)\n",
    "ext.wind_angle_ref.unique()"
   ]
  },
  {
   "cell_type": "code",
   "execution_count": 27,
   "metadata": {},
   "outputs": [
    {
     "data": {
      "text/html": [
       "<div>\n",
       "<style scoped>\n",
       "    .dataframe tbody tr th:only-of-type {\n",
       "        vertical-align: middle;\n",
       "    }\n",
       "\n",
       "    .dataframe tbody tr th {\n",
       "        vertical-align: top;\n",
       "    }\n",
       "\n",
       "    .dataframe thead th {\n",
       "        text-align: right;\n",
       "    }\n",
       "</style>\n",
       "<table border=\"1\" class=\"dataframe\">\n",
       "  <thead>\n",
       "    <tr style=\"text-align: right;\">\n",
       "      <th></th>\n",
       "      <th>datetime</th>\n",
       "      <th>wind_speed</th>\n",
       "      <th>wind_speed_unit</th>\n",
       "      <th>wind_angle</th>\n",
       "      <th>wind_angle_ref</th>\n",
       "    </tr>\n",
       "  </thead>\n",
       "  <tbody>\n",
       "  </tbody>\n",
       "</table>\n",
       "</div>"
      ],
      "text/plain": [
       "Empty DataFrame\n",
       "Columns: [datetime, wind_speed, wind_speed_unit, wind_angle, wind_angle_ref]\n",
       "Index: []"
      ]
     },
     "execution_count": 27,
     "metadata": {},
     "output_type": "execute_result"
    }
   ],
   "source": [
    "ext[ext['wind_speed_unit'].str.contains('W')]"
   ]
  },
  {
   "cell_type": "code",
   "execution_count": 24,
   "metadata": {},
   "outputs": [],
   "source": [
    "ext=ext.drop(ext.index[1813326], axis=0)"
   ]
  },
  {
   "cell_type": "code",
   "execution_count": 25,
   "metadata": {},
   "outputs": [],
   "source": [
    "ext.to_csv('../../Interim_products/relativewind_pt3.csv',index = None)"
   ]
  },
  {
   "cell_type": "code",
   "execution_count": null,
   "metadata": {},
   "outputs": [],
   "source": []
  }
 ],
 "metadata": {
  "kernelspec": {
   "display_name": "Python 3",
   "language": "python",
   "name": "python3"
  },
  "language_info": {
   "codemirror_mode": {
    "name": "ipython",
    "version": 3
   },
   "file_extension": ".py",
   "mimetype": "text/x-python",
   "name": "python",
   "nbconvert_exporter": "python",
   "pygments_lexer": "ipython3",
   "version": "3.8.5"
  }
 },
 "nbformat": 4,
 "nbformat_minor": 4
}
