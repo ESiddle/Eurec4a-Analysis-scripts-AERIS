{
 "cells": [
  {
   "cell_type": "code",
   "execution_count": 3,
   "metadata": {},
   "outputs": [],
   "source": [
    "import pandas as pd\n",
    "from pathlib import Path\n",
    "from glob import glob\n",
    "import numpy as np\n",
    "from datetime import datetime,timedelta\n",
    "from tqdm.notebook import tqdm"
   ]
  },
  {
   "cell_type": "code",
   "execution_count": 13,
   "metadata": {},
   "outputs": [
    {
     "data": {
      "application/vnd.jupyter.widget-view+json": {
       "model_id": "f12786f0a5c64ba5b72ade5cff3c57c0",
       "version_major": 2,
       "version_minor": 0
      },
      "text/plain": [
       "HBox(children=(FloatProgress(value=0.0, max=38.0), HTML(value='')))"
      ]
     },
     "metadata": {},
     "output_type": "display_data"
    },
    {
     "name": "stdout",
     "output_type": "stream",
     "text": [
      "\n"
     ]
    }
   ],
   "source": [
    "files_list = glob(r'../../Data/Caravela/CaravelaPCS/Datalog/Y20/*/*'+ '/group1*')  \n",
    "files_list.sort()\n",
    "\n",
    "li = []\n",
    "\n",
    "for filename in tqdm(files_list):\n",
    "    df = pd.read_csv(filename)\n",
    "    li.append(df)\n",
    "\n",
    "sl = pd.concat(li, axis=0)"
   ]
  },
  {
   "cell_type": "code",
   "execution_count": 14,
   "metadata": {},
   "outputs": [
    {
     "data": {
      "text/plain": [
       "['../../Data/Caravela/CaravelaPCS/Datalog/Y20/M01/D15/group1_001.csv',\n",
       " '../../Data/Caravela/CaravelaPCS/Datalog/Y20/M01/D15/group1_002.csv',\n",
       " '../../Data/Caravela/CaravelaPCS/Datalog/Y20/M01/D16/group1_001.csv',\n",
       " '../../Data/Caravela/CaravelaPCS/Datalog/Y20/M01/D19/group1_001.csv',\n",
       " '../../Data/Caravela/CaravelaPCS/Datalog/Y20/M01/D22/group1_001.csv',\n",
       " '../../Data/Caravela/CaravelaPCS/Datalog/Y20/M01/D23/group1_001.csv',\n",
       " '../../Data/Caravela/CaravelaPCS/Datalog/Y20/M01/D24/group1_001.csv',\n",
       " '../../Data/Caravela/CaravelaPCS/Datalog/Y20/M01/D25/group1_001.csv',\n",
       " '../../Data/Caravela/CaravelaPCS/Datalog/Y20/M01/D26/group1_001.csv',\n",
       " '../../Data/Caravela/CaravelaPCS/Datalog/Y20/M01/D27/group1_001.csv',\n",
       " '../../Data/Caravela/CaravelaPCS/Datalog/Y20/M01/D28/group1_001.csv',\n",
       " '../../Data/Caravela/CaravelaPCS/Datalog/Y20/M01/D29/group1_001.csv',\n",
       " '../../Data/Caravela/CaravelaPCS/Datalog/Y20/M01/D30/group1_001.csv',\n",
       " '../../Data/Caravela/CaravelaPCS/Datalog/Y20/M01/D31/group1_001.csv',\n",
       " '../../Data/Caravela/CaravelaPCS/Datalog/Y20/M02/D01/group1_001.csv',\n",
       " '../../Data/Caravela/CaravelaPCS/Datalog/Y20/M02/D02/group1_001.csv',\n",
       " '../../Data/Caravela/CaravelaPCS/Datalog/Y20/M02/D03/group1_001.csv',\n",
       " '../../Data/Caravela/CaravelaPCS/Datalog/Y20/M02/D04/group1_001.csv',\n",
       " '../../Data/Caravela/CaravelaPCS/Datalog/Y20/M02/D05/group1_001.csv',\n",
       " '../../Data/Caravela/CaravelaPCS/Datalog/Y20/M02/D06/group1_001.csv',\n",
       " '../../Data/Caravela/CaravelaPCS/Datalog/Y20/M02/D07/group1_001.csv',\n",
       " '../../Data/Caravela/CaravelaPCS/Datalog/Y20/M02/D08/group1_001.csv',\n",
       " '../../Data/Caravela/CaravelaPCS/Datalog/Y20/M02/D09/group1_001.csv',\n",
       " '../../Data/Caravela/CaravelaPCS/Datalog/Y20/M02/D10/group1_001.csv',\n",
       " '../../Data/Caravela/CaravelaPCS/Datalog/Y20/M02/D11/group1_001.csv',\n",
       " '../../Data/Caravela/CaravelaPCS/Datalog/Y20/M02/D12/group1_001.csv',\n",
       " '../../Data/Caravela/CaravelaPCS/Datalog/Y20/M02/D13/group1_001.csv',\n",
       " '../../Data/Caravela/CaravelaPCS/Datalog/Y20/M02/D14/group1_001.csv',\n",
       " '../../Data/Caravela/CaravelaPCS/Datalog/Y20/M02/D15/group1_001.csv',\n",
       " '../../Data/Caravela/CaravelaPCS/Datalog/Y20/M02/D16/group1_001.csv',\n",
       " '../../Data/Caravela/CaravelaPCS/Datalog/Y20/M02/D17/group1_001.csv',\n",
       " '../../Data/Caravela/CaravelaPCS/Datalog/Y20/M02/D18/group1_001.csv',\n",
       " '../../Data/Caravela/CaravelaPCS/Datalog/Y20/M02/D19/group1_001.csv',\n",
       " '../../Data/Caravela/CaravelaPCS/Datalog/Y20/M02/D20/group1_001.csv',\n",
       " '../../Data/Caravela/CaravelaPCS/Datalog/Y20/M02/D21/group1_001.csv',\n",
       " '../../Data/Caravela/CaravelaPCS/Datalog/Y20/M02/D22/group1_001.csv',\n",
       " '../../Data/Caravela/CaravelaPCS/Datalog/Y20/M02/D23/group1_001.csv',\n",
       " '../../Data/Caravela/CaravelaPCS/Datalog/Y20/M02/D24/group1_001.csv']"
      ]
     },
     "execution_count": 14,
     "metadata": {},
     "output_type": "execute_result"
    }
   ],
   "source": [
    "files_list"
   ]
  },
  {
   "cell_type": "code",
   "execution_count": 15,
   "metadata": {},
   "outputs": [],
   "source": [
    "subset = pd.DataFrame()\n",
    "subset['datetime'] = (sl['Date'].astype(str) +' '+ sl['Time'])\n",
    "subset['relative_wind_angle'] = sl['U1_??MWV_F1']\n",
    "subset['relative_wind_angle_flag'] = sl['U1_??MWV_F2']\n",
    "subset['relative_wind_speed'] = sl['U1_??MWV_F3']\n",
    "subset['relative_wind_speed_unit'] = sl['U1_??MWV_F4']\n",
    "subset = subset.reset_index()"
   ]
  },
  {
   "cell_type": "code",
   "execution_count": 16,
   "metadata": {},
   "outputs": [
    {
     "data": {
      "application/vnd.jupyter.widget-view+json": {
       "model_id": "9651490a12b647eabec051b0ae97695e",
       "version_major": 2,
       "version_minor": 0
      },
      "text/plain": [
       "HBox(children=(FloatProgress(value=0.0, max=28779597.0), HTML(value='')))"
      ]
     },
     "metadata": {},
     "output_type": "display_data"
    },
    {
     "name": "stdout",
     "output_type": "stream",
     "text": [
      "\n"
     ]
    }
   ],
   "source": [
    "dt = []\n",
    "for i in tqdm(range(len(subset['datetime']))):\n",
    "    dt.append(datetime.strptime(subset['datetime'][i], '%y%m%d %H:%M:%S'))\n",
    "subset['datetime UTC'] = dt"
   ]
  },
  {
   "cell_type": "code",
   "execution_count": 17,
   "metadata": {},
   "outputs": [],
   "source": [
    "subset = subset.drop(['index'],axis=1)"
   ]
  },
  {
   "cell_type": "code",
   "execution_count": 18,
   "metadata": {},
   "outputs": [],
   "source": [
    "subset = subset.drop(['datetime'],axis=1)"
   ]
  },
  {
   "cell_type": "code",
   "execution_count": 19,
   "metadata": {},
   "outputs": [],
   "source": [
    "subset.to_csv('../../Products/CARAVELA_wind.csv',index = None)"
   ]
  },
  {
   "cell_type": "code",
   "execution_count": 4,
   "metadata": {},
   "outputs": [],
   "source": [
    "baa = pd.read_csv('../../Products/CARAVELA_wind.csv')# import file to test it"
   ]
  },
  {
   "cell_type": "code",
   "execution_count": 5,
   "metadata": {},
   "outputs": [
    {
     "data": {
      "application/vnd.jupyter.widget-view+json": {
       "model_id": "e74b3e30c91e49169f06d5f0ca580739",
       "version_major": 2,
       "version_minor": 0
      },
      "text/plain": [
       "HBox(children=(FloatProgress(value=0.0, max=28779597.0), HTML(value='')))"
      ]
     },
     "metadata": {},
     "output_type": "display_data"
    },
    {
     "name": "stdout",
     "output_type": "stream",
     "text": [
      "\n"
     ]
    }
   ],
   "source": [
    "x=[]\n",
    "for i in tqdm(range(len(baa['datetime UTC']))):\n",
    "    x.append(datetime.strptime(baa['datetime UTC'][i], '%Y-%m-%d %H:%M:%S'))\n",
    "baa['datetime_parsed'] = x"
   ]
  },
  {
   "cell_type": "code",
   "execution_count": 6,
   "metadata": {},
   "outputs": [
    {
     "data": {
      "text/html": [
       "<div>\n",
       "<style scoped>\n",
       "    .dataframe tbody tr th:only-of-type {\n",
       "        vertical-align: middle;\n",
       "    }\n",
       "\n",
       "    .dataframe tbody tr th {\n",
       "        vertical-align: top;\n",
       "    }\n",
       "\n",
       "    .dataframe thead th {\n",
       "        text-align: right;\n",
       "    }\n",
       "</style>\n",
       "<table border=\"1\" class=\"dataframe\">\n",
       "  <thead>\n",
       "    <tr style=\"text-align: right;\">\n",
       "      <th></th>\n",
       "      <th>relative_wind_angle</th>\n",
       "      <th>relative_wind_angle_flag</th>\n",
       "      <th>relative_wind_speed</th>\n",
       "      <th>relative_wind_speed_unit</th>\n",
       "      <th>datetime UTC</th>\n",
       "      <th>datetime_parsed</th>\n",
       "    </tr>\n",
       "  </thead>\n",
       "  <tbody>\n",
       "    <tr>\n",
       "      <th>0</th>\n",
       "      <td>0.0</td>\n",
       "      <td>NaN</td>\n",
       "      <td>0.0</td>\n",
       "      <td>NaN</td>\n",
       "      <td>2020-01-15 12:02:42</td>\n",
       "      <td>2020-01-15 12:02:42</td>\n",
       "    </tr>\n",
       "    <tr>\n",
       "      <th>1</th>\n",
       "      <td>0.0</td>\n",
       "      <td>NaN</td>\n",
       "      <td>0.0</td>\n",
       "      <td>NaN</td>\n",
       "      <td>2020-01-15 12:02:42</td>\n",
       "      <td>2020-01-15 12:02:42</td>\n",
       "    </tr>\n",
       "    <tr>\n",
       "      <th>2</th>\n",
       "      <td>0.0</td>\n",
       "      <td>NaN</td>\n",
       "      <td>0.0</td>\n",
       "      <td>NaN</td>\n",
       "      <td>2020-01-15 12:02:42</td>\n",
       "      <td>2020-01-15 12:02:42</td>\n",
       "    </tr>\n",
       "    <tr>\n",
       "      <th>3</th>\n",
       "      <td>0.0</td>\n",
       "      <td>NaN</td>\n",
       "      <td>0.0</td>\n",
       "      <td>NaN</td>\n",
       "      <td>2020-01-15 12:02:42</td>\n",
       "      <td>2020-01-15 12:02:42</td>\n",
       "    </tr>\n",
       "    <tr>\n",
       "      <th>4</th>\n",
       "      <td>0.0</td>\n",
       "      <td>NaN</td>\n",
       "      <td>0.0</td>\n",
       "      <td>NaN</td>\n",
       "      <td>2020-01-15 12:02:42</td>\n",
       "      <td>2020-01-15 12:02:42</td>\n",
       "    </tr>\n",
       "    <tr>\n",
       "      <th>...</th>\n",
       "      <td>...</td>\n",
       "      <td>...</td>\n",
       "      <td>...</td>\n",
       "      <td>...</td>\n",
       "      <td>...</td>\n",
       "      <td>...</td>\n",
       "    </tr>\n",
       "    <tr>\n",
       "      <th>28779592</th>\n",
       "      <td>0.0</td>\n",
       "      <td>NaN</td>\n",
       "      <td>0.0</td>\n",
       "      <td>NaN</td>\n",
       "      <td>2020-02-24 17:36:06</td>\n",
       "      <td>2020-02-24 17:36:06</td>\n",
       "    </tr>\n",
       "    <tr>\n",
       "      <th>28779593</th>\n",
       "      <td>0.0</td>\n",
       "      <td>NaN</td>\n",
       "      <td>0.0</td>\n",
       "      <td>NaN</td>\n",
       "      <td>2020-02-24 17:36:06</td>\n",
       "      <td>2020-02-24 17:36:06</td>\n",
       "    </tr>\n",
       "    <tr>\n",
       "      <th>28779594</th>\n",
       "      <td>0.0</td>\n",
       "      <td>NaN</td>\n",
       "      <td>0.0</td>\n",
       "      <td>NaN</td>\n",
       "      <td>2020-02-24 17:36:06</td>\n",
       "      <td>2020-02-24 17:36:06</td>\n",
       "    </tr>\n",
       "    <tr>\n",
       "      <th>28779595</th>\n",
       "      <td>0.0</td>\n",
       "      <td>NaN</td>\n",
       "      <td>0.0</td>\n",
       "      <td>NaN</td>\n",
       "      <td>2020-02-24 17:36:06</td>\n",
       "      <td>2020-02-24 17:36:06</td>\n",
       "    </tr>\n",
       "    <tr>\n",
       "      <th>28779596</th>\n",
       "      <td>0.0</td>\n",
       "      <td>NaN</td>\n",
       "      <td>0.0</td>\n",
       "      <td>NaN</td>\n",
       "      <td>2020-02-24 17:36:06</td>\n",
       "      <td>2020-02-24 17:36:06</td>\n",
       "    </tr>\n",
       "  </tbody>\n",
       "</table>\n",
       "<p>28779597 rows × 6 columns</p>\n",
       "</div>"
      ],
      "text/plain": [
       "          relative_wind_angle  relative_wind_angle_flag  relative_wind_speed  \\\n",
       "0                         0.0                       NaN                  0.0   \n",
       "1                         0.0                       NaN                  0.0   \n",
       "2                         0.0                       NaN                  0.0   \n",
       "3                         0.0                       NaN                  0.0   \n",
       "4                         0.0                       NaN                  0.0   \n",
       "...                       ...                       ...                  ...   \n",
       "28779592                  0.0                       NaN                  0.0   \n",
       "28779593                  0.0                       NaN                  0.0   \n",
       "28779594                  0.0                       NaN                  0.0   \n",
       "28779595                  0.0                       NaN                  0.0   \n",
       "28779596                  0.0                       NaN                  0.0   \n",
       "\n",
       "          relative_wind_speed_unit         datetime UTC     datetime_parsed  \n",
       "0                              NaN  2020-01-15 12:02:42 2020-01-15 12:02:42  \n",
       "1                              NaN  2020-01-15 12:02:42 2020-01-15 12:02:42  \n",
       "2                              NaN  2020-01-15 12:02:42 2020-01-15 12:02:42  \n",
       "3                              NaN  2020-01-15 12:02:42 2020-01-15 12:02:42  \n",
       "4                              NaN  2020-01-15 12:02:42 2020-01-15 12:02:42  \n",
       "...                            ...                  ...                 ...  \n",
       "28779592                       NaN  2020-02-24 17:36:06 2020-02-24 17:36:06  \n",
       "28779593                       NaN  2020-02-24 17:36:06 2020-02-24 17:36:06  \n",
       "28779594                       NaN  2020-02-24 17:36:06 2020-02-24 17:36:06  \n",
       "28779595                       NaN  2020-02-24 17:36:06 2020-02-24 17:36:06  \n",
       "28779596                       NaN  2020-02-24 17:36:06 2020-02-24 17:36:06  \n",
       "\n",
       "[28779597 rows x 6 columns]"
      ]
     },
     "execution_count": 6,
     "metadata": {},
     "output_type": "execute_result"
    }
   ],
   "source": [
    "baa"
   ]
  },
  {
   "cell_type": "code",
   "execution_count": 9,
   "metadata": {},
   "outputs": [],
   "source": [
    "import matplotlib.pyplot as plt\n",
    "font_size=22\n",
    "plt.rcParams.update({'font.size': font_size})"
   ]
  },
  {
   "cell_type": "code",
   "execution_count": 10,
   "metadata": {},
   "outputs": [
    {
     "data": {
      "text/plain": [
       "Text(0.5, 0, 'Datetime')"
      ]
     },
     "execution_count": 10,
     "metadata": {},
     "output_type": "execute_result"
    },
    {
     "data": {
      "image/png": "[encoded data removed]",
      "text/plain": [
       "<Figure size 1296x1080 with 2 Axes>"
      ]
     },
     "metadata": {
      "needs_background": "light"
     },
     "output_type": "display_data"
    }
   ],
   "source": [
    "fig,ax = plt.subplots(2,1, figsize=(18, 15),sharex=True)\n",
    "ax=ax.ravel()\n",
    "#ax[0].set_ylim(0,360.0)\n",
    "#ax[1].set_ylim(-30,30)\n",
    "ax[0].scatter(baa.datetime_parsed, baa['relative_wind_angle'])\n",
    "ax[1].scatter(baa.datetime_parsed, baa['relative_wind_speed'])\n",
    "ax[0].set_ylabel('wind angle')\n",
    "ax[1].set_ylabel('wind speed')\n",
    "ax[1].set_xlabel('Datetime')"
   ]
  }
 ],
 "metadata": {
  "kernelspec": {
   "display_name": "Python 3",
   "language": "python",
   "name": "python3"
  },
  "language_info": {
   "codemirror_mode": {
    "name": "ipython",
    "version": 3
   },
   "file_extension": ".py",
   "mimetype": "text/x-python",
   "name": "python",
   "nbconvert_exporter": "python",
   "pygments_lexer": "ipython3",
   "version": "3.8.5"
  }
 },
 "nbformat": 4,
 "nbformat_minor": 4
}
