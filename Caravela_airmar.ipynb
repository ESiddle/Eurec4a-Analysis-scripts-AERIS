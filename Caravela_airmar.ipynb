{
 "cells": [
  {
   "cell_type": "code",
   "execution_count": 1,
   "metadata": {},
   "outputs": [],
   "source": [
    "import pandas as pd\n",
    "import numpy as np\n",
    "from glob import glob\n",
    "from pathlib import Path\n",
    "import pynmea2\n",
    "import matplotlib.pyplot as plt\n",
    "from datetime import datetime,timedelta\n",
    "from tqdm.notebook import tqdm\n",
    "import copy"
   ]
  },
  {
   "cell_type": "code",
   "execution_count": 2,
   "metadata": {},
   "outputs": [
    {
     "data": {
      "application/vnd.jupyter.widget-view+json": {
       "model_id": "8d7a2c0e957b4d4eb32ece6d3a8a7453",
       "version_major": 2,
       "version_minor": 0
      },
      "text/plain": [
       "HBox(children=(HTML(value=''), FloatProgress(value=0.0, max=34.0), HTML(value='')))"
      ]
     },
     "metadata": {},
     "output_type": "display_data"
    },
    {
     "name": "stdout",
     "output_type": "stream",
     "text": [
      "\n"
     ]
    }
   ],
   "source": [
    "files_list = glob(r'../../Data/Caravela/CaravelaPCS/Datalog/Y20/*/*'+ '/*recordDataPort_D*')  \n",
    "files_list.sort()\n",
    "li = []\n",
    "\n",
    "for filename in tqdm(range(4,len(files_list))): # take files from Caravelas launch onwards\n",
    "    with open(files_list[filename],'r') as myfile:\n",
    "        content = myfile.readlines()[1:-1] #skip first line of file as this is likey to have not been written correctly\n",
    "    frame = pd.DataFrame(data = np.array(content), columns= ['original'])\n",
    "    li.append(frame)\n",
    "df = pd.concat(li, axis=0,ignore_index=True)"
   ]
  },
  {
   "cell_type": "code",
   "execution_count": 3,
   "metadata": {},
   "outputs": [],
   "source": [
    "del frame, content, li # clear the things we dont need open\n",
    "myfile.close()"
   ]
  },
  {
   "cell_type": "code",
   "execution_count": 4,
   "metadata": {},
   "outputs": [],
   "source": [
    "df['nmea_ident'] = copy.deepcopy(df.original.str[16:22]) #create a new column of the nmea string code\n",
    "df['desired'] = False #create column to decide which rows to keep\n",
    "df.loc[df['nmea_ident'] == '$WIMDA', 'desired'] = True #set the rows with the desired nmea string identity to true\n",
    "des = df[df.desired] # create new dataframe with desired rows"
   ]
  },
  {
   "cell_type": "code",
   "execution_count": 5,
   "metadata": {},
   "outputs": [],
   "source": [
    "des = des.reset_index() #tidy up the new dataframe\n",
    "des = des.drop(['index'], axis=1)"
   ]
  },
  {
   "cell_type": "code",
   "execution_count": 6,
   "metadata": {},
   "outputs": [
    {
     "data": {
      "application/vnd.jupyter.widget-view+json": {
       "model_id": "e3cc901cdd884ab3838c78283aa162d1",
       "version_major": 2,
       "version_minor": 0
      },
      "text/plain": [
       "HBox(children=(HTML(value=''), FloatProgress(value=0.0, max=2837416.0), HTML(value='')))"
      ]
     },
     "metadata": {},
     "output_type": "display_data"
    },
    {
     "name": "stdout",
     "output_type": "stream",
     "text": [
      "\n"
     ]
    }
   ],
   "source": [
    "strings = [] # create empty list to hold nmea strings \n",
    "des['NMEA'] = '' #create new column in dataframe\n",
    "for i in tqdm(range(len(des['original']))): \n",
    "    try: \n",
    "        nmea = pynmea2.parse(des['original'][i][16:], check=True) #parse nmea string and check the checksum is correct\n",
    "    except ValueError:\n",
    "        nmea = np.nan # replace errors with nan\n",
    "    strings.append(nmea)\n",
    "des['NMEA'] = strings #populate the dataframe"
   ]
  },
  {
   "cell_type": "code",
   "execution_count": 7,
   "metadata": {},
   "outputs": [
    {
     "data": {
      "text/html": [
       "<div>\n",
       "<style scoped>\n",
       "    .dataframe tbody tr th:only-of-type {\n",
       "        vertical-align: middle;\n",
       "    }\n",
       "\n",
       "    .dataframe tbody tr th {\n",
       "        vertical-align: top;\n",
       "    }\n",
       "\n",
       "    .dataframe thead th {\n",
       "        text-align: right;\n",
       "    }\n",
       "</style>\n",
       "<table border=\"1\" class=\"dataframe\">\n",
       "  <thead>\n",
       "    <tr style=\"text-align: right;\">\n",
       "      <th></th>\n",
       "      <th>original</th>\n",
       "      <th>nmea_ident</th>\n",
       "      <th>desired</th>\n",
       "      <th>NMEA</th>\n",
       "    </tr>\n",
       "  </thead>\n",
       "  <tbody>\n",
       "    <tr>\n",
       "      <th>0</th>\n",
       "      <td>200122,12:04:48,$WIMDA,29.9493,I,1.0142,B,23.0...</td>\n",
       "      <td>$WIMDA</td>\n",
       "      <td>True</td>\n",
       "      <td>$WIMDA,29.9493,I,1.0142,B,23.0,C,,,,,,,,,,,,,,*3B</td>\n",
       "    </tr>\n",
       "    <tr>\n",
       "      <th>1</th>\n",
       "      <td>200122,12:04:49,$WIMDA,29.9493,I,1.0142,B,23.0...</td>\n",
       "      <td>$WIMDA</td>\n",
       "      <td>True</td>\n",
       "      <td>$WIMDA,29.9493,I,1.0142,B,23.0,C,,,,,,,,,,,,,,*3B</td>\n",
       "    </tr>\n",
       "    <tr>\n",
       "      <th>2</th>\n",
       "      <td>200122,12:04:50,$WIMDA,29.9493,I,1.0142,B,23.0...</td>\n",
       "      <td>$WIMDA</td>\n",
       "      <td>True</td>\n",
       "      <td>$WIMDA,29.9493,I,1.0142,B,23.0,C,,,,,,,,,,,,,,*3B</td>\n",
       "    </tr>\n",
       "    <tr>\n",
       "      <th>3</th>\n",
       "      <td>200122,12:04:51,$WIMDA,29.9493,I,1.0142,B,23.0...</td>\n",
       "      <td>$WIMDA</td>\n",
       "      <td>True</td>\n",
       "      <td>$WIMDA,29.9493,I,1.0142,B,23.0,C,,,,,,,,,,,,,,*3B</td>\n",
       "    </tr>\n",
       "    <tr>\n",
       "      <th>4</th>\n",
       "      <td>200122,12:04:52,$WIMDA,29.9493,I,1.0142,B,23.0...</td>\n",
       "      <td>$WIMDA</td>\n",
       "      <td>True</td>\n",
       "      <td>$WIMDA,29.9493,I,1.0142,B,23.0,C,,,,,,,,,,,,,,*3B</td>\n",
       "    </tr>\n",
       "    <tr>\n",
       "      <th>...</th>\n",
       "      <td>...</td>\n",
       "      <td>...</td>\n",
       "      <td>...</td>\n",
       "      <td>...</td>\n",
       "    </tr>\n",
       "    <tr>\n",
       "      <th>2837411</th>\n",
       "      <td>200224,14:20:18,$WIMDA,30.0409,I,1.0173,B,25.7...</td>\n",
       "      <td>$WIMDA</td>\n",
       "      <td>True</td>\n",
       "      <td>$WIMDA,30.0409,I,1.0173,B,25.7,C,,,,,,,,,,,,,,*3A</td>\n",
       "    </tr>\n",
       "    <tr>\n",
       "      <th>2837412</th>\n",
       "      <td>200224,14:20:19,$WIMDA,30.0409,I,1.0173,B,25.7...</td>\n",
       "      <td>$WIMDA</td>\n",
       "      <td>True</td>\n",
       "      <td>$WIMDA,30.0409,I,1.0173,B,25.7,C,,,,,,,,,,,,,,*3A</td>\n",
       "    </tr>\n",
       "    <tr>\n",
       "      <th>2837413</th>\n",
       "      <td>200224,14:20:20,$WIMDA,30.0409,I,1.0173,B,25.7...</td>\n",
       "      <td>$WIMDA</td>\n",
       "      <td>True</td>\n",
       "      <td>$WIMDA,30.0409,I,1.0173,B,25.7,C,,,,,,,,,,,,,,*3A</td>\n",
       "    </tr>\n",
       "    <tr>\n",
       "      <th>2837414</th>\n",
       "      <td>200224,14:20:21,$WIMDA,30.0409,I,1.0173,B,25.7...</td>\n",
       "      <td>$WIMDA</td>\n",
       "      <td>True</td>\n",
       "      <td>$WIMDA,30.0409,I,1.0173,B,25.7,C,,,,,,,,,,,,,,*3A</td>\n",
       "    </tr>\n",
       "    <tr>\n",
       "      <th>2837415</th>\n",
       "      <td>200224,14:20:22,$WIMDA,30.0438,I,1.0174,B,25.7...</td>\n",
       "      <td>$WIMDA</td>\n",
       "      <td>True</td>\n",
       "      <td>$WIMDA,30.0438,I,1.0174,B,25.7,C,,,,,,,,,,,,,,*3F</td>\n",
       "    </tr>\n",
       "  </tbody>\n",
       "</table>\n",
       "<p>2837416 rows × 4 columns</p>\n",
       "</div>"
      ],
      "text/plain": [
       "                                                  original nmea_ident  \\\n",
       "0        200122,12:04:48,$WIMDA,29.9493,I,1.0142,B,23.0...     $WIMDA   \n",
       "1        200122,12:04:49,$WIMDA,29.9493,I,1.0142,B,23.0...     $WIMDA   \n",
       "2        200122,12:04:50,$WIMDA,29.9493,I,1.0142,B,23.0...     $WIMDA   \n",
       "3        200122,12:04:51,$WIMDA,29.9493,I,1.0142,B,23.0...     $WIMDA   \n",
       "4        200122,12:04:52,$WIMDA,29.9493,I,1.0142,B,23.0...     $WIMDA   \n",
       "...                                                    ...        ...   \n",
       "2837411  200224,14:20:18,$WIMDA,30.0409,I,1.0173,B,25.7...     $WIMDA   \n",
       "2837412  200224,14:20:19,$WIMDA,30.0409,I,1.0173,B,25.7...     $WIMDA   \n",
       "2837413  200224,14:20:20,$WIMDA,30.0409,I,1.0173,B,25.7...     $WIMDA   \n",
       "2837414  200224,14:20:21,$WIMDA,30.0409,I,1.0173,B,25.7...     $WIMDA   \n",
       "2837415  200224,14:20:22,$WIMDA,30.0438,I,1.0174,B,25.7...     $WIMDA   \n",
       "\n",
       "         desired                                               NMEA  \n",
       "0           True  $WIMDA,29.9493,I,1.0142,B,23.0,C,,,,,,,,,,,,,,*3B  \n",
       "1           True  $WIMDA,29.9493,I,1.0142,B,23.0,C,,,,,,,,,,,,,,*3B  \n",
       "2           True  $WIMDA,29.9493,I,1.0142,B,23.0,C,,,,,,,,,,,,,,*3B  \n",
       "3           True  $WIMDA,29.9493,I,1.0142,B,23.0,C,,,,,,,,,,,,,,*3B  \n",
       "4           True  $WIMDA,29.9493,I,1.0142,B,23.0,C,,,,,,,,,,,,,,*3B  \n",
       "...          ...                                                ...  \n",
       "2837411     True  $WIMDA,30.0409,I,1.0173,B,25.7,C,,,,,,,,,,,,,,*3A  \n",
       "2837412     True  $WIMDA,30.0409,I,1.0173,B,25.7,C,,,,,,,,,,,,,,*3A  \n",
       "2837413     True  $WIMDA,30.0409,I,1.0173,B,25.7,C,,,,,,,,,,,,,,*3A  \n",
       "2837414     True  $WIMDA,30.0409,I,1.0173,B,25.7,C,,,,,,,,,,,,,,*3A  \n",
       "2837415     True  $WIMDA,30.0438,I,1.0174,B,25.7,C,,,,,,,,,,,,,,*3F  \n",
       "\n",
       "[2837416 rows x 4 columns]"
      ]
     },
     "execution_count": 7,
     "metadata": {},
     "output_type": "execute_result"
    }
   ],
   "source": [
    "des"
   ]
  },
  {
   "cell_type": "code",
   "execution_count": 8,
   "metadata": {},
   "outputs": [
    {
     "data": {
      "application/vnd.jupyter.widget-view+json": {
       "model_id": "b874eeca81994621b4c11749f7bef5fb",
       "version_major": 2,
       "version_minor": 0
      },
      "text/plain": [
       "HBox(children=(HTML(value=''), FloatProgress(value=0.0, max=2837416.0), HTML(value='')))"
      ]
     },
     "metadata": {},
     "output_type": "display_data"
    },
    {
     "name": "stdout",
     "output_type": "stream",
     "text": [
      "\n"
     ]
    }
   ],
   "source": [
    "parsed = [] #create emptry list for parsed datetimes\n",
    "des['datetime'] = ''\n",
    "for i in tqdm(range(len(des['original']))):\n",
    "    try: \n",
    "        time_in = ((datetime.strptime(des.original[i][:15], '%y%m%d,%H:%M:%S')))\n",
    "    except ValueError:\n",
    "        time_in = np.nan\n",
    "    parsed.append(time_in)\n",
    "des['datetime'] = parsed"
   ]
  },
  {
   "cell_type": "code",
   "execution_count": 56,
   "metadata": {},
   "outputs": [
    {
     "data": {
      "application/vnd.jupyter.widget-view+json": {
       "model_id": "4c95bcb3dcb1454d8abfc6b63b03cd97",
       "version_major": 2,
       "version_minor": 0
      },
      "text/plain": [
       "HBox(children=(HTML(value=''), FloatProgress(value=0.0, max=2837416.0), HTML(value='')))"
      ]
     },
     "metadata": {},
     "output_type": "display_data"
    },
    {
     "name": "stdout",
     "output_type": "stream",
     "text": [
      "\n"
     ]
    }
   ],
   "source": [
    "des['pressure[bar]'] = ''#create empty column for pressure data\n",
    "a=[] \n",
    "for i in tqdm(range(len(des['NMEA']))): #extract pressure from parsed nmea string\n",
    "    if type(des['NMEA'][i]) != pynmea2.types.talker.MDA:\n",
    "        a.append(np.nan)\n",
    "    else:\n",
    "        a.append(des['NMEA'][i].b_pressure_bar)\n",
    "des['pressure[bar]'] = a"
   ]
  },
  {
   "cell_type": "code",
   "execution_count": 96,
   "metadata": {},
   "outputs": [],
   "source": [
    "def variable_extract(column,variable):\n",
    "    a=[] #create empty list to put extracted variable int\n",
    "    for i in range(0,10): \n",
    "        if type(column[i]) != pynmea2.types.talker.MDA: #if cell is not expected pynmea2 parsed type, add nan\n",
    "            a.append(np.nan)\n",
    "    else:\n",
    "        a.append(variable) #otherwise, extract desired variable\n",
    "    return a"
   ]
  },
  {
   "cell_type": "code",
   "execution_count": 97,
   "metadata": {},
   "outputs": [],
   "source": [
    "\n",
    "variable_extract(des['NMEA'], des.NMEA[i].b_pressure_bar)\n",
    "des['test'] = a"
   ]
  },
  {
   "cell_type": "code",
   "execution_count": 105,
   "metadata": {},
   "outputs": [
    {
     "data": {
      "text/html": [
       "<div>\n",
       "<style scoped>\n",
       "    .dataframe tbody tr th:only-of-type {\n",
       "        vertical-align: middle;\n",
       "    }\n",
       "\n",
       "    .dataframe tbody tr th {\n",
       "        vertical-align: top;\n",
       "    }\n",
       "\n",
       "    .dataframe thead th {\n",
       "        text-align: right;\n",
       "    }\n",
       "</style>\n",
       "<table border=\"1\" class=\"dataframe\">\n",
       "  <thead>\n",
       "    <tr style=\"text-align: right;\">\n",
       "      <th></th>\n",
       "      <th>original</th>\n",
       "      <th>nmea_ident</th>\n",
       "      <th>desired</th>\n",
       "      <th>NMEA</th>\n",
       "      <th>datetime</th>\n",
       "      <th>pressure[bar]</th>\n",
       "      <th>test</th>\n",
       "    </tr>\n",
       "  </thead>\n",
       "  <tbody>\n",
       "    <tr>\n",
       "      <th>0</th>\n",
       "      <td>200122,12:04:48,$WIMDA,29.9493,I,1.0142,B,23.0...</td>\n",
       "      <td>$WIMDA</td>\n",
       "      <td>True</td>\n",
       "      <td>$WIMDA,29.9493,I,1.0142,B,23.0,C,,,,,,,,,,,,,,*3B</td>\n",
       "      <td>2020-01-22 12:04:48</td>\n",
       "      <td>1.0142</td>\n",
       "      <td>1.0142</td>\n",
       "    </tr>\n",
       "    <tr>\n",
       "      <th>1</th>\n",
       "      <td>200122,12:04:49,$WIMDA,29.9493,I,1.0142,B,23.0...</td>\n",
       "      <td>$WIMDA</td>\n",
       "      <td>True</td>\n",
       "      <td>$WIMDA,29.9493,I,1.0142,B,23.0,C,,,,,,,,,,,,,,*3B</td>\n",
       "      <td>2020-01-22 12:04:49</td>\n",
       "      <td>1.0142</td>\n",
       "      <td>1.0142</td>\n",
       "    </tr>\n",
       "    <tr>\n",
       "      <th>2</th>\n",
       "      <td>200122,12:04:50,$WIMDA,29.9493,I,1.0142,B,23.0...</td>\n",
       "      <td>$WIMDA</td>\n",
       "      <td>True</td>\n",
       "      <td>$WIMDA,29.9493,I,1.0142,B,23.0,C,,,,,,,,,,,,,,*3B</td>\n",
       "      <td>2020-01-22 12:04:50</td>\n",
       "      <td>1.0142</td>\n",
       "      <td>1.0142</td>\n",
       "    </tr>\n",
       "    <tr>\n",
       "      <th>3</th>\n",
       "      <td>200122,12:04:51,$WIMDA,29.9493,I,1.0142,B,23.0...</td>\n",
       "      <td>$WIMDA</td>\n",
       "      <td>True</td>\n",
       "      <td>$WIMDA,29.9493,I,1.0142,B,23.0,C,,,,,,,,,,,,,,*3B</td>\n",
       "      <td>2020-01-22 12:04:51</td>\n",
       "      <td>1.0142</td>\n",
       "      <td>1.0142</td>\n",
       "    </tr>\n",
       "    <tr>\n",
       "      <th>4</th>\n",
       "      <td>200122,12:04:52,$WIMDA,29.9493,I,1.0142,B,23.0...</td>\n",
       "      <td>$WIMDA</td>\n",
       "      <td>True</td>\n",
       "      <td>$WIMDA,29.9493,I,1.0142,B,23.0,C,,,,,,,,,,,,,,*3B</td>\n",
       "      <td>2020-01-22 12:04:52</td>\n",
       "      <td>1.0142</td>\n",
       "      <td>1.0142</td>\n",
       "    </tr>\n",
       "    <tr>\n",
       "      <th>...</th>\n",
       "      <td>...</td>\n",
       "      <td>...</td>\n",
       "      <td>...</td>\n",
       "      <td>...</td>\n",
       "      <td>...</td>\n",
       "      <td>...</td>\n",
       "      <td>...</td>\n",
       "    </tr>\n",
       "    <tr>\n",
       "      <th>2837411</th>\n",
       "      <td>200224,14:20:18,$WIMDA,30.0409,I,1.0173,B,25.7...</td>\n",
       "      <td>$WIMDA</td>\n",
       "      <td>True</td>\n",
       "      <td>$WIMDA,30.0409,I,1.0173,B,25.7,C,,,,,,,,,,,,,,*3A</td>\n",
       "      <td>2020-02-24 14:20:18</td>\n",
       "      <td>1.0173</td>\n",
       "      <td>1.0173</td>\n",
       "    </tr>\n",
       "    <tr>\n",
       "      <th>2837412</th>\n",
       "      <td>200224,14:20:19,$WIMDA,30.0409,I,1.0173,B,25.7...</td>\n",
       "      <td>$WIMDA</td>\n",
       "      <td>True</td>\n",
       "      <td>$WIMDA,30.0409,I,1.0173,B,25.7,C,,,,,,,,,,,,,,*3A</td>\n",
       "      <td>2020-02-24 14:20:19</td>\n",
       "      <td>1.0173</td>\n",
       "      <td>1.0173</td>\n",
       "    </tr>\n",
       "    <tr>\n",
       "      <th>2837413</th>\n",
       "      <td>200224,14:20:20,$WIMDA,30.0409,I,1.0173,B,25.7...</td>\n",
       "      <td>$WIMDA</td>\n",
       "      <td>True</td>\n",
       "      <td>$WIMDA,30.0409,I,1.0173,B,25.7,C,,,,,,,,,,,,,,*3A</td>\n",
       "      <td>2020-02-24 14:20:20</td>\n",
       "      <td>1.0173</td>\n",
       "      <td>1.0173</td>\n",
       "    </tr>\n",
       "    <tr>\n",
       "      <th>2837414</th>\n",
       "      <td>200224,14:20:21,$WIMDA,30.0409,I,1.0173,B,25.7...</td>\n",
       "      <td>$WIMDA</td>\n",
       "      <td>True</td>\n",
       "      <td>$WIMDA,30.0409,I,1.0173,B,25.7,C,,,,,,,,,,,,,,*3A</td>\n",
       "      <td>2020-02-24 14:20:21</td>\n",
       "      <td>1.0173</td>\n",
       "      <td>1.0173</td>\n",
       "    </tr>\n",
       "    <tr>\n",
       "      <th>2837415</th>\n",
       "      <td>200224,14:20:22,$WIMDA,30.0438,I,1.0174,B,25.7...</td>\n",
       "      <td>$WIMDA</td>\n",
       "      <td>True</td>\n",
       "      <td>$WIMDA,30.0438,I,1.0174,B,25.7,C,,,,,,,,,,,,,,*3F</td>\n",
       "      <td>2020-02-24 14:20:22</td>\n",
       "      <td>1.0174</td>\n",
       "      <td>1.0174</td>\n",
       "    </tr>\n",
       "  </tbody>\n",
       "</table>\n",
       "<p>2837416 rows × 7 columns</p>\n",
       "</div>"
      ],
      "text/plain": [
       "                                                  original nmea_ident  \\\n",
       "0        200122,12:04:48,$WIMDA,29.9493,I,1.0142,B,23.0...     $WIMDA   \n",
       "1        200122,12:04:49,$WIMDA,29.9493,I,1.0142,B,23.0...     $WIMDA   \n",
       "2        200122,12:04:50,$WIMDA,29.9493,I,1.0142,B,23.0...     $WIMDA   \n",
       "3        200122,12:04:51,$WIMDA,29.9493,I,1.0142,B,23.0...     $WIMDA   \n",
       "4        200122,12:04:52,$WIMDA,29.9493,I,1.0142,B,23.0...     $WIMDA   \n",
       "...                                                    ...        ...   \n",
       "2837411  200224,14:20:18,$WIMDA,30.0409,I,1.0173,B,25.7...     $WIMDA   \n",
       "2837412  200224,14:20:19,$WIMDA,30.0409,I,1.0173,B,25.7...     $WIMDA   \n",
       "2837413  200224,14:20:20,$WIMDA,30.0409,I,1.0173,B,25.7...     $WIMDA   \n",
       "2837414  200224,14:20:21,$WIMDA,30.0409,I,1.0173,B,25.7...     $WIMDA   \n",
       "2837415  200224,14:20:22,$WIMDA,30.0438,I,1.0174,B,25.7...     $WIMDA   \n",
       "\n",
       "         desired                                               NMEA  \\\n",
       "0           True  $WIMDA,29.9493,I,1.0142,B,23.0,C,,,,,,,,,,,,,,*3B   \n",
       "1           True  $WIMDA,29.9493,I,1.0142,B,23.0,C,,,,,,,,,,,,,,*3B   \n",
       "2           True  $WIMDA,29.9493,I,1.0142,B,23.0,C,,,,,,,,,,,,,,*3B   \n",
       "3           True  $WIMDA,29.9493,I,1.0142,B,23.0,C,,,,,,,,,,,,,,*3B   \n",
       "4           True  $WIMDA,29.9493,I,1.0142,B,23.0,C,,,,,,,,,,,,,,*3B   \n",
       "...          ...                                                ...   \n",
       "2837411     True  $WIMDA,30.0409,I,1.0173,B,25.7,C,,,,,,,,,,,,,,*3A   \n",
       "2837412     True  $WIMDA,30.0409,I,1.0173,B,25.7,C,,,,,,,,,,,,,,*3A   \n",
       "2837413     True  $WIMDA,30.0409,I,1.0173,B,25.7,C,,,,,,,,,,,,,,*3A   \n",
       "2837414     True  $WIMDA,30.0409,I,1.0173,B,25.7,C,,,,,,,,,,,,,,*3A   \n",
       "2837415     True  $WIMDA,30.0438,I,1.0174,B,25.7,C,,,,,,,,,,,,,,*3F   \n",
       "\n",
       "                   datetime pressure[bar]    test  \n",
       "0       2020-01-22 12:04:48        1.0142  1.0142  \n",
       "1       2020-01-22 12:04:49        1.0142  1.0142  \n",
       "2       2020-01-22 12:04:50        1.0142  1.0142  \n",
       "3       2020-01-22 12:04:51        1.0142  1.0142  \n",
       "4       2020-01-22 12:04:52        1.0142  1.0142  \n",
       "...                     ...           ...     ...  \n",
       "2837411 2020-02-24 14:20:18        1.0173  1.0173  \n",
       "2837412 2020-02-24 14:20:19        1.0173  1.0173  \n",
       "2837413 2020-02-24 14:20:20        1.0173  1.0173  \n",
       "2837414 2020-02-24 14:20:21        1.0173  1.0173  \n",
       "2837415 2020-02-24 14:20:22        1.0174  1.0174  \n",
       "\n",
       "[2837416 rows x 7 columns]"
      ]
     },
     "execution_count": 105,
     "metadata": {},
     "output_type": "execute_result"
    }
   ],
   "source": [
    "des"
   ]
  },
  {
   "cell_type": "code",
   "execution_count": 88,
   "metadata": {},
   "outputs": [
    {
     "data": {
      "text/plain": [
       "<MDA(b_pressure_inch=Decimal('29.9493'), inches='I', b_pressure_bar=Decimal('1.0142'), bars='B', air_temp=Decimal('23.0'), a_celsius='C', water_temp=None, w_celsius='', rel_humidity=None, abs_humidity=None, dew_point=None, d_celsius='', direction_true=None, true='', direction_magnetic=None, magnetic='', wind_speed_knots=None, knots='', wind_speed_meters=None, meters='')>"
      ]
     },
     "execution_count": 88,
     "metadata": {},
     "output_type": "execute_result"
    }
   ],
   "source": [
    "des.NMEA[0]"
   ]
  },
  {
   "cell_type": "code",
   "execution_count": 112,
   "metadata": {},
   "outputs": [],
   "source": [
    "b = np.where(des['pressure[bar]'] == des.test, 'True', 'False')"
   ]
  },
  {
   "cell_type": "code",
   "execution_count": 113,
   "metadata": {},
   "outputs": [
    {
     "data": {
      "text/plain": [
       "0"
      ]
     },
     "execution_count": 113,
     "metadata": {},
     "output_type": "execute_result"
    }
   ],
   "source": [
    "np.size(b) - np.count_nonzero(b) # array size - nonfalse size to check all values are true. true represents test function= explicit for loop"
   ]
  },
  {
   "cell_type": "code",
   "execution_count": null,
   "metadata": {},
   "outputs": [],
   "source": []
  }
 ],
 "metadata": {
  "kernelspec": {
   "display_name": "Python 3",
   "language": "python",
   "name": "python3"
  },
  "language_info": {
   "codemirror_mode": {
    "name": "ipython",
    "version": 3
   },
   "file_extension": ".py",
   "mimetype": "text/x-python",
   "name": "python",
   "nbconvert_exporter": "python",
   "pygments_lexer": "ipython3",
   "version": "3.8.5"
  }
 },
 "nbformat": 4,
 "nbformat_minor": 4
}
