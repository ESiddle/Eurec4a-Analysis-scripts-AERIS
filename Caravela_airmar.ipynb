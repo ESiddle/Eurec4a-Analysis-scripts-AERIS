{
 "cells": [
  {
   "cell_type": "code",
   "execution_count": 1,
   "metadata": {},
   "outputs": [],
   "source": [
    "import pandas as pd\n",
    "import numpy as np\n",
    "from glob import glob\n",
    "from pathlib import Path\n",
    "import pynmea2\n",
    "import matplotlib.pyplot as plt\n",
    "from datetime import datetime,timedelta\n",
    "from tqdm.notebook import tqdm\n",
    "import copy"
   ]
  },
  {
   "cell_type": "code",
   "execution_count": 2,
   "metadata": {},
   "outputs": [
    {
     "data": {
      "application/vnd.jupyter.widget-view+json": {
       "model_id": "57f69bae6fc646cd95d1730deebf5063",
       "version_major": 2,
       "version_minor": 0
      },
      "text/plain": [
       "HBox(children=(HTML(value=''), FloatProgress(value=0.0, max=34.0), HTML(value='')))"
      ]
     },
     "metadata": {},
     "output_type": "display_data"
    },
    {
     "name": "stdout",
     "output_type": "stream",
     "text": [
      "\n"
     ]
    }
   ],
   "source": [
    "files_list = glob(r'../../Data/Caravela/CaravelaPCS/Datalog/Y20/*/*'+ '/*recordDataPort_D*')  \n",
    "files_list.sort()\n",
    "li = []\n",
    "\n",
    "for filename in tqdm(range(4,len(files_list))): # take files from Caravelas launch onwards\n",
    "    with open(files_list[filename],'r') as myfile:\n",
    "        content = myfile.readlines()[1:-1] #skip first line of file as this is likey to have not been written correctly\n",
    "    frame = pd.DataFrame(data = np.array(content), columns= ['original'])\n",
    "    li.append(frame)\n",
    "df = pd.concat(li, axis=0,ignore_index=True)"
   ]
  },
  {
   "cell_type": "code",
   "execution_count": 3,
   "metadata": {},
   "outputs": [],
   "source": [
    "del frame, content, li # clear the things we dont need open\n",
    "myfile.close()"
   ]
  },
  {
   "cell_type": "code",
   "execution_count": 4,
   "metadata": {},
   "outputs": [],
   "source": [
    "df['nmea_ident'] = copy.deepcopy(df.original.str[16:22]) #create a new column of the nmea string code\n",
    "df['desired'] = False #create column to decide which rows to keep\n",
    "df.loc[df['nmea_ident'] == '$WIMDA', 'desired'] = True #set the rows with the desired nmea string identity to true\n",
    "des = df[df.desired] # create new dataframe with desired rows"
   ]
  },
  {
   "cell_type": "code",
   "execution_count": 5,
   "metadata": {},
   "outputs": [],
   "source": [
    "des = des.reset_index() #tidy up the new dataframe\n",
    "des = des.drop(['index'], axis=1)"
   ]
  },
  {
   "cell_type": "code",
   "execution_count": 6,
   "metadata": {},
   "outputs": [
    {
     "data": {
      "application/vnd.jupyter.widget-view+json": {
       "model_id": "1ca1c465685b4bacbb0c75aedbc26ba3",
       "version_major": 2,
       "version_minor": 0
      },
      "text/plain": [
       "HBox(children=(HTML(value=''), FloatProgress(value=0.0, max=2837416.0), HTML(value='')))"
      ]
     },
     "metadata": {},
     "output_type": "display_data"
    },
    {
     "name": "stdout",
     "output_type": "stream",
     "text": [
      "\n"
     ]
    }
   ],
   "source": [
    "strings = [] # create empty list to hold nmea strings \n",
    "des['NMEA'] = '' #create new column in dataframe\n",
    "for i in tqdm(range(len(des['original']))): \n",
    "    try: \n",
    "        nmea = pynmea2.parse(des['original'][i][16:], check=True) #parse nmea string and check the checksum is correct\n",
    "    except ValueError:\n",
    "        nmea = np.nan # replace errors with nan\n",
    "    strings.append(nmea)\n",
    "des['NMEA'] = strings #populate the dataframe"
   ]
  },
  {
   "cell_type": "code",
   "execution_count": 7,
   "metadata": {},
   "outputs": [
    {
     "data": {
      "text/html": [
       "<div>\n",
       "<style scoped>\n",
       "    .dataframe tbody tr th:only-of-type {\n",
       "        vertical-align: middle;\n",
       "    }\n",
       "\n",
       "    .dataframe tbody tr th {\n",
       "        vertical-align: top;\n",
       "    }\n",
       "\n",
       "    .dataframe thead th {\n",
       "        text-align: right;\n",
       "    }\n",
       "</style>\n",
       "<table border=\"1\" class=\"dataframe\">\n",
       "  <thead>\n",
       "    <tr style=\"text-align: right;\">\n",
       "      <th></th>\n",
       "      <th>original</th>\n",
       "      <th>nmea_ident</th>\n",
       "      <th>desired</th>\n",
       "      <th>NMEA</th>\n",
       "    </tr>\n",
       "  </thead>\n",
       "  <tbody>\n",
       "    <tr>\n",
       "      <th>0</th>\n",
       "      <td>200122,12:04:48,$WIMDA,29.9493,I,1.0142,B,23.0...</td>\n",
       "      <td>$WIMDA</td>\n",
       "      <td>True</td>\n",
       "      <td>$WIMDA,29.9493,I,1.0142,B,23.0,C,,,,,,,,,,,,,,*3B</td>\n",
       "    </tr>\n",
       "    <tr>\n",
       "      <th>1</th>\n",
       "      <td>200122,12:04:49,$WIMDA,29.9493,I,1.0142,B,23.0...</td>\n",
       "      <td>$WIMDA</td>\n",
       "      <td>True</td>\n",
       "      <td>$WIMDA,29.9493,I,1.0142,B,23.0,C,,,,,,,,,,,,,,*3B</td>\n",
       "    </tr>\n",
       "    <tr>\n",
       "      <th>2</th>\n",
       "      <td>200122,12:04:50,$WIMDA,29.9493,I,1.0142,B,23.0...</td>\n",
       "      <td>$WIMDA</td>\n",
       "      <td>True</td>\n",
       "      <td>$WIMDA,29.9493,I,1.0142,B,23.0,C,,,,,,,,,,,,,,*3B</td>\n",
       "    </tr>\n",
       "    <tr>\n",
       "      <th>3</th>\n",
       "      <td>200122,12:04:51,$WIMDA,29.9493,I,1.0142,B,23.0...</td>\n",
       "      <td>$WIMDA</td>\n",
       "      <td>True</td>\n",
       "      <td>$WIMDA,29.9493,I,1.0142,B,23.0,C,,,,,,,,,,,,,,*3B</td>\n",
       "    </tr>\n",
       "    <tr>\n",
       "      <th>4</th>\n",
       "      <td>200122,12:04:52,$WIMDA,29.9493,I,1.0142,B,23.0...</td>\n",
       "      <td>$WIMDA</td>\n",
       "      <td>True</td>\n",
       "      <td>$WIMDA,29.9493,I,1.0142,B,23.0,C,,,,,,,,,,,,,,*3B</td>\n",
       "    </tr>\n",
       "    <tr>\n",
       "      <th>...</th>\n",
       "      <td>...</td>\n",
       "      <td>...</td>\n",
       "      <td>...</td>\n",
       "      <td>...</td>\n",
       "    </tr>\n",
       "    <tr>\n",
       "      <th>2837411</th>\n",
       "      <td>200224,14:20:18,$WIMDA,30.0409,I,1.0173,B,25.7...</td>\n",
       "      <td>$WIMDA</td>\n",
       "      <td>True</td>\n",
       "      <td>$WIMDA,30.0409,I,1.0173,B,25.7,C,,,,,,,,,,,,,,*3A</td>\n",
       "    </tr>\n",
       "    <tr>\n",
       "      <th>2837412</th>\n",
       "      <td>200224,14:20:19,$WIMDA,30.0409,I,1.0173,B,25.7...</td>\n",
       "      <td>$WIMDA</td>\n",
       "      <td>True</td>\n",
       "      <td>$WIMDA,30.0409,I,1.0173,B,25.7,C,,,,,,,,,,,,,,*3A</td>\n",
       "    </tr>\n",
       "    <tr>\n",
       "      <th>2837413</th>\n",
       "      <td>200224,14:20:20,$WIMDA,30.0409,I,1.0173,B,25.7...</td>\n",
       "      <td>$WIMDA</td>\n",
       "      <td>True</td>\n",
       "      <td>$WIMDA,30.0409,I,1.0173,B,25.7,C,,,,,,,,,,,,,,*3A</td>\n",
       "    </tr>\n",
       "    <tr>\n",
       "      <th>2837414</th>\n",
       "      <td>200224,14:20:21,$WIMDA,30.0409,I,1.0173,B,25.7...</td>\n",
       "      <td>$WIMDA</td>\n",
       "      <td>True</td>\n",
       "      <td>$WIMDA,30.0409,I,1.0173,B,25.7,C,,,,,,,,,,,,,,*3A</td>\n",
       "    </tr>\n",
       "    <tr>\n",
       "      <th>2837415</th>\n",
       "      <td>200224,14:20:22,$WIMDA,30.0438,I,1.0174,B,25.7...</td>\n",
       "      <td>$WIMDA</td>\n",
       "      <td>True</td>\n",
       "      <td>$WIMDA,30.0438,I,1.0174,B,25.7,C,,,,,,,,,,,,,,*3F</td>\n",
       "    </tr>\n",
       "  </tbody>\n",
       "</table>\n",
       "<p>2837416 rows × 4 columns</p>\n",
       "</div>"
      ],
      "text/plain": [
       "                                                  original nmea_ident  \\\n",
       "0        200122,12:04:48,$WIMDA,29.9493,I,1.0142,B,23.0...     $WIMDA   \n",
       "1        200122,12:04:49,$WIMDA,29.9493,I,1.0142,B,23.0...     $WIMDA   \n",
       "2        200122,12:04:50,$WIMDA,29.9493,I,1.0142,B,23.0...     $WIMDA   \n",
       "3        200122,12:04:51,$WIMDA,29.9493,I,1.0142,B,23.0...     $WIMDA   \n",
       "4        200122,12:04:52,$WIMDA,29.9493,I,1.0142,B,23.0...     $WIMDA   \n",
       "...                                                    ...        ...   \n",
       "2837411  200224,14:20:18,$WIMDA,30.0409,I,1.0173,B,25.7...     $WIMDA   \n",
       "2837412  200224,14:20:19,$WIMDA,30.0409,I,1.0173,B,25.7...     $WIMDA   \n",
       "2837413  200224,14:20:20,$WIMDA,30.0409,I,1.0173,B,25.7...     $WIMDA   \n",
       "2837414  200224,14:20:21,$WIMDA,30.0409,I,1.0173,B,25.7...     $WIMDA   \n",
       "2837415  200224,14:20:22,$WIMDA,30.0438,I,1.0174,B,25.7...     $WIMDA   \n",
       "\n",
       "         desired                                               NMEA  \n",
       "0           True  $WIMDA,29.9493,I,1.0142,B,23.0,C,,,,,,,,,,,,,,*3B  \n",
       "1           True  $WIMDA,29.9493,I,1.0142,B,23.0,C,,,,,,,,,,,,,,*3B  \n",
       "2           True  $WIMDA,29.9493,I,1.0142,B,23.0,C,,,,,,,,,,,,,,*3B  \n",
       "3           True  $WIMDA,29.9493,I,1.0142,B,23.0,C,,,,,,,,,,,,,,*3B  \n",
       "4           True  $WIMDA,29.9493,I,1.0142,B,23.0,C,,,,,,,,,,,,,,*3B  \n",
       "...          ...                                                ...  \n",
       "2837411     True  $WIMDA,30.0409,I,1.0173,B,25.7,C,,,,,,,,,,,,,,*3A  \n",
       "2837412     True  $WIMDA,30.0409,I,1.0173,B,25.7,C,,,,,,,,,,,,,,*3A  \n",
       "2837413     True  $WIMDA,30.0409,I,1.0173,B,25.7,C,,,,,,,,,,,,,,*3A  \n",
       "2837414     True  $WIMDA,30.0409,I,1.0173,B,25.7,C,,,,,,,,,,,,,,*3A  \n",
       "2837415     True  $WIMDA,30.0438,I,1.0174,B,25.7,C,,,,,,,,,,,,,,*3F  \n",
       "\n",
       "[2837416 rows x 4 columns]"
      ]
     },
     "execution_count": 7,
     "metadata": {},
     "output_type": "execute_result"
    }
   ],
   "source": [
    "des"
   ]
  },
  {
   "cell_type": "code",
   "execution_count": 8,
   "metadata": {},
   "outputs": [
    {
     "data": {
      "application/vnd.jupyter.widget-view+json": {
       "model_id": "e6841f9650f943ae97f7e6366fd849f7",
       "version_major": 2,
       "version_minor": 0
      },
      "text/plain": [
       "HBox(children=(HTML(value=''), FloatProgress(value=0.0, max=2837416.0), HTML(value='')))"
      ]
     },
     "metadata": {},
     "output_type": "display_data"
    },
    {
     "name": "stdout",
     "output_type": "stream",
     "text": [
      "\n"
     ]
    }
   ],
   "source": [
    "parsed = [] #create emptry list for parsed datetimes\n",
    "des['datetime'] = ''\n",
    "for i in tqdm(range(len(des['original']))):\n",
    "    try: \n",
    "        time_in = ((datetime.strptime(des.original[i][:15], '%y%m%d,%H:%M:%S')))\n",
    "    except ValueError:\n",
    "        time_in = np.nan\n",
    "    parsed.append(time_in)\n",
    "des['datetime'] = parsed"
   ]
  },
  {
   "cell_type": "code",
   "execution_count": 9,
   "metadata": {},
   "outputs": [
    {
     "data": {
      "application/vnd.jupyter.widget-view+json": {
       "model_id": "4378c01568ee4c6e8e70cc4d9fd88ff6",
       "version_major": 2,
       "version_minor": 0
      },
      "text/plain": [
       "HBox(children=(HTML(value=''), FloatProgress(value=0.0, max=2837416.0), HTML(value='')))"
      ]
     },
     "metadata": {},
     "output_type": "display_data"
    },
    {
     "name": "stdout",
     "output_type": "stream",
     "text": [
      "\n"
     ]
    }
   ],
   "source": [
    "des['pressure[bar]'] = ''\n",
    "d=[]\n",
    "for i in tqdm(range(len(des['NMEA']))):\n",
    "    if type(des['NMEA'][i]) == pynmea2.types.talker.MDA:\n",
    "        d.append(des['NMEA'][i].b_pressure_bar)\n",
    "    else:\n",
    "        d.append(np.nan)\n",
    "des['pressure[bar]'] = d"
   ]
  },
  {
   "cell_type": "code",
   "execution_count": 10,
   "metadata": {},
   "outputs": [
    {
     "data": {
      "application/vnd.jupyter.widget-view+json": {
       "model_id": "27332bb2ae0c41ef92655acab1f29f06",
       "version_major": 2,
       "version_minor": 0
      },
      "text/plain": [
       "HBox(children=(HTML(value=''), FloatProgress(value=0.0, max=2837416.0), HTML(value='')))"
      ]
     },
     "metadata": {},
     "output_type": "display_data"
    },
    {
     "name": "stdout",
     "output_type": "stream",
     "text": [
      "\n"
     ]
    }
   ],
   "source": [
    "des['pressure_unit'] = ''\n",
    "d=[]\n",
    "for i in tqdm(range(len(des['NMEA']))):\n",
    "    if type(des['NMEA'][i]) == pynmea2.types.talker.MDA:\n",
    "        d.append(des['NMEA'][i].bars)\n",
    "    else:\n",
    "        d.append(np.nan)\n",
    "des['pressure_unit'] = d"
   ]
  },
  {
   "cell_type": "code",
   "execution_count": 17,
   "metadata": {},
   "outputs": [
    {
     "data": {
      "application/vnd.jupyter.widget-view+json": {
       "model_id": "7bd05217a1e64fbab7ca304387d9fe8f",
       "version_major": 2,
       "version_minor": 0
      },
      "text/plain": [
       "HBox(children=(HTML(value=''), FloatProgress(value=0.0, max=2837416.0), HTML(value='')))"
      ]
     },
     "metadata": {},
     "output_type": "display_data"
    },
    {
     "name": "stdout",
     "output_type": "stream",
     "text": [
      "\n"
     ]
    }
   ],
   "source": [
    "des['air_temp[C]'] = ''\n",
    "d=[]\n",
    "for i in tqdm(range(len(des['NMEA']))):\n",
    "    if type(des['NMEA'][i]) == pynmea2.types.talker.MDA:\n",
    "        d.append(des['NMEA'][i].air_temp)\n",
    "    else:\n",
    "        d.append(np.nan)\n",
    "des['air_temp[C]'] = d"
   ]
  },
  {
   "cell_type": "code",
   "execution_count": 12,
   "metadata": {},
   "outputs": [
    {
     "data": {
      "application/vnd.jupyter.widget-view+json": {
       "model_id": "3c4b3c4d9695442da3e4b7761d8ec6f2",
       "version_major": 2,
       "version_minor": 0
      },
      "text/plain": [
       "HBox(children=(HTML(value=''), FloatProgress(value=0.0, max=2837416.0), HTML(value='')))"
      ]
     },
     "metadata": {},
     "output_type": "display_data"
    },
    {
     "name": "stdout",
     "output_type": "stream",
     "text": [
      "\n"
     ]
    }
   ],
   "source": [
    "des['temp_unit'] = ''\n",
    "d=[]\n",
    "for i in tqdm(range(len(des['NMEA']))):\n",
    "    if type(des['NMEA'][i]) == pynmea2.types.talker.MDA:\n",
    "        d.append(des['NMEA'][i].a_celsius)\n",
    "    else:\n",
    "        d.append(np.nan)\n",
    "des['temp_unit'] = d"
   ]
  },
  {
   "cell_type": "markdown",
   "metadata": {},
   "source": [
    "Check all temp and pressure units are deg celcius and bar"
   ]
  },
  {
   "cell_type": "code",
   "execution_count": 14,
   "metadata": {},
   "outputs": [
    {
     "data": {
      "text/plain": [
       "array(['B', nan], dtype=object)"
      ]
     },
     "execution_count": 14,
     "metadata": {},
     "output_type": "execute_result"
    }
   ],
   "source": [
    "des.pressure_unit.unique()"
   ]
  },
  {
   "cell_type": "code",
   "execution_count": 15,
   "metadata": {},
   "outputs": [
    {
     "data": {
      "text/plain": [
       "array(['C', nan], dtype=object)"
      ]
     },
     "execution_count": 15,
     "metadata": {},
     "output_type": "execute_result"
    }
   ],
   "source": [
    "des.temp_unit.unique()"
   ]
  },
  {
   "cell_type": "code",
   "execution_count": 20,
   "metadata": {},
   "outputs": [],
   "source": [
    "des = des.drop(['original','nmea_ident','desired','NMEA','pressure_unit','temp_unit'], axis = 1)"
   ]
  },
  {
   "cell_type": "code",
   "execution_count": 21,
   "metadata": {},
   "outputs": [
    {
     "data": {
      "text/html": [
       "<div>\n",
       "<style scoped>\n",
       "    .dataframe tbody tr th:only-of-type {\n",
       "        vertical-align: middle;\n",
       "    }\n",
       "\n",
       "    .dataframe tbody tr th {\n",
       "        vertical-align: top;\n",
       "    }\n",
       "\n",
       "    .dataframe thead th {\n",
       "        text-align: right;\n",
       "    }\n",
       "</style>\n",
       "<table border=\"1\" class=\"dataframe\">\n",
       "  <thead>\n",
       "    <tr style=\"text-align: right;\">\n",
       "      <th></th>\n",
       "      <th>datetime</th>\n",
       "      <th>pressure[bar]</th>\n",
       "      <th>air_temp[C]</th>\n",
       "    </tr>\n",
       "  </thead>\n",
       "  <tbody>\n",
       "    <tr>\n",
       "      <th>0</th>\n",
       "      <td>2020-01-22 12:04:48</td>\n",
       "      <td>1.0142</td>\n",
       "      <td>23.0</td>\n",
       "    </tr>\n",
       "    <tr>\n",
       "      <th>1</th>\n",
       "      <td>2020-01-22 12:04:49</td>\n",
       "      <td>1.0142</td>\n",
       "      <td>23.0</td>\n",
       "    </tr>\n",
       "    <tr>\n",
       "      <th>2</th>\n",
       "      <td>2020-01-22 12:04:50</td>\n",
       "      <td>1.0142</td>\n",
       "      <td>23.0</td>\n",
       "    </tr>\n",
       "    <tr>\n",
       "      <th>3</th>\n",
       "      <td>2020-01-22 12:04:51</td>\n",
       "      <td>1.0142</td>\n",
       "      <td>23.0</td>\n",
       "    </tr>\n",
       "    <tr>\n",
       "      <th>4</th>\n",
       "      <td>2020-01-22 12:04:52</td>\n",
       "      <td>1.0142</td>\n",
       "      <td>23.0</td>\n",
       "    </tr>\n",
       "    <tr>\n",
       "      <th>...</th>\n",
       "      <td>...</td>\n",
       "      <td>...</td>\n",
       "      <td>...</td>\n",
       "    </tr>\n",
       "    <tr>\n",
       "      <th>2837411</th>\n",
       "      <td>2020-02-24 14:20:18</td>\n",
       "      <td>1.0173</td>\n",
       "      <td>25.7</td>\n",
       "    </tr>\n",
       "    <tr>\n",
       "      <th>2837412</th>\n",
       "      <td>2020-02-24 14:20:19</td>\n",
       "      <td>1.0173</td>\n",
       "      <td>25.7</td>\n",
       "    </tr>\n",
       "    <tr>\n",
       "      <th>2837413</th>\n",
       "      <td>2020-02-24 14:20:20</td>\n",
       "      <td>1.0173</td>\n",
       "      <td>25.7</td>\n",
       "    </tr>\n",
       "    <tr>\n",
       "      <th>2837414</th>\n",
       "      <td>2020-02-24 14:20:21</td>\n",
       "      <td>1.0173</td>\n",
       "      <td>25.7</td>\n",
       "    </tr>\n",
       "    <tr>\n",
       "      <th>2837415</th>\n",
       "      <td>2020-02-24 14:20:22</td>\n",
       "      <td>1.0174</td>\n",
       "      <td>25.7</td>\n",
       "    </tr>\n",
       "  </tbody>\n",
       "</table>\n",
       "<p>2837416 rows × 3 columns</p>\n",
       "</div>"
      ],
      "text/plain": [
       "                   datetime pressure[bar] air_temp[C]\n",
       "0       2020-01-22 12:04:48        1.0142        23.0\n",
       "1       2020-01-22 12:04:49        1.0142        23.0\n",
       "2       2020-01-22 12:04:50        1.0142        23.0\n",
       "3       2020-01-22 12:04:51        1.0142        23.0\n",
       "4       2020-01-22 12:04:52        1.0142        23.0\n",
       "...                     ...           ...         ...\n",
       "2837411 2020-02-24 14:20:18        1.0173        25.7\n",
       "2837412 2020-02-24 14:20:19        1.0173        25.7\n",
       "2837413 2020-02-24 14:20:20        1.0173        25.7\n",
       "2837414 2020-02-24 14:20:21        1.0173        25.7\n",
       "2837415 2020-02-24 14:20:22        1.0174        25.7\n",
       "\n",
       "[2837416 rows x 3 columns]"
      ]
     },
     "execution_count": 21,
     "metadata": {},
     "output_type": "execute_result"
    }
   ],
   "source": [
    "des"
   ]
  },
  {
   "cell_type": "markdown",
   "metadata": {},
   "source": [
    "# Plot the timeseries"
   ]
  },
  {
   "cell_type": "code",
   "execution_count": 22,
   "metadata": {},
   "outputs": [],
   "source": [
    "import matplotlib.pyplot as plt\n",
    "font_size=23\n",
    "plt.rcParams.update({'font.size': font_size})"
   ]
  },
  {
   "cell_type": "code",
   "execution_count": 27,
   "metadata": {},
   "outputs": [
    {
     "data": {
      "text/plain": [
       "(array([18282., 18286., 18290., 18293., 18297., 18301., 18305., 18309.,\n",
       "        18313., 18317.]),\n",
       " [Text(0, 0, ''),\n",
       "  Text(0, 0, ''),\n",
       "  Text(0, 0, ''),\n",
       "  Text(0, 0, ''),\n",
       "  Text(0, 0, ''),\n",
       "  Text(0, 0, ''),\n",
       "  Text(0, 0, ''),\n",
       "  Text(0, 0, ''),\n",
       "  Text(0, 0, ''),\n",
       "  Text(0, 0, '')])"
      ]
     },
     "execution_count": 27,
     "metadata": {},
     "output_type": "execute_result"
    },
    {
     "data": {
      "image/png": "[encoded data removed]",
      "text/plain": [
       "<Figure size 1296x1080 with 1 Axes>"
      ]
     },
     "metadata": {
      "needs_background": "light"
     },
     "output_type": "display_data"
    }
   ],
   "source": [
    "fig,ax = plt.subplots(1,1, figsize=(18, 15))\n",
    "ax.scatter(des['datetime'], des['pressure[bar]'])\n",
    "ax.set_ylabel(\"air pressure [bar]\")\n",
    "ax.set_xlabel('Date')\n",
    "plt.xticks(rotation=30);"
   ]
  },
  {
   "cell_type": "code",
   "execution_count": 29,
   "metadata": {},
   "outputs": [
    {
     "data": {
      "image/png": "[encoded data removed]",
      "text/plain": [
       "<Figure size 1296x1080 with 1 Axes>"
      ]
     },
     "metadata": {
      "needs_background": "light"
     },
     "output_type": "display_data"
    }
   ],
   "source": [
    "fig,ax = plt.subplots(1,1, figsize=(18, 15))\n",
    "ax.scatter(des['datetime'], des['air_temp[C]'])\n",
    "ax.set_ylabel(\"air temperature[C]\")\n",
    "ax.set_xlabel('Date')\n",
    "plt.xticks(rotation=30);"
   ]
  },
  {
   "cell_type": "markdown",
   "metadata": {},
   "source": [
    "# Change to isoformat datetime for distributing"
   ]
  },
  {
   "cell_type": "code",
   "execution_count": null,
   "metadata": {},
   "outputs": [],
   "source": [
    "iso = []\n",
    "for i in tqdm(range(len(des.datetime))):\n",
    "    iso.append(relwind['datetime'][i].isoformat())\n",
    "relwind['datetime[UTC]'] = iso"
   ]
  }
 ],
 "metadata": {
  "kernelspec": {
   "display_name": "Python 3",
   "language": "python",
   "name": "python3"
  },
  "language_info": {
   "codemirror_mode": {
    "name": "ipython",
    "version": 3
   },
   "file_extension": ".py",
   "mimetype": "text/x-python",
   "name": "python",
   "nbconvert_exporter": "python",
   "pygments_lexer": "ipython3",
   "version": "3.8.5"
  }
 },
 "nbformat": 4,
 "nbformat_minor": 4
}
