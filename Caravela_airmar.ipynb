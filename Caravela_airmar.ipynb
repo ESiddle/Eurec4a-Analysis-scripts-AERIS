{
 "cells": [
  {
   "cell_type": "code",
   "execution_count": 1,
   "metadata": {},
   "outputs": [],
   "source": [
    "import pandas as pd\n",
    "import numpy as np\n",
    "from glob import glob\n",
    "from pathlib import Path\n",
    "import pynmea2\n",
    "import matplotlib.pyplot as plt\n",
    "from datetime import datetime,timedelta\n",
    "from tqdm.notebook import tqdm\n",
    "import copy\n"
   ]
  },
  {
   "cell_type": "code",
   "execution_count": 8,
   "metadata": {},
   "outputs": [
    {
     "data": {
      "application/vnd.jupyter.widget-view+json": {
       "model_id": "01791504b8cd41d68b45452f0f4b6219",
       "version_major": 2,
       "version_minor": 0
      },
      "text/plain": [
       "HBox(children=(HTML(value=''), FloatProgress(value=0.0, max=34.0), HTML(value='')))"
      ]
     },
     "metadata": {},
     "output_type": "display_data"
    },
    {
     "name": "stdout",
     "output_type": "stream",
     "text": [
      "\n"
     ]
    },
    {
     "ename": "UnicodeDecodeError",
     "evalue": "'utf-8' codec can't decode byte 0xfe in position 2166: invalid start byte",
     "output_type": "error",
     "traceback": [
      "\u001b[0;31m---------------------------------------------------------------------------\u001b[0m",
      "\u001b[0;31mUnicodeDecodeError\u001b[0m                        Traceback (most recent call last)",
      "\u001b[0;32m<ipython-input-8-f4a2edda694a>\u001b[0m in \u001b[0;36m<module>\u001b[0;34m\u001b[0m\n\u001b[1;32m      5\u001b[0m \u001b[0;32mfor\u001b[0m \u001b[0mfilename\u001b[0m \u001b[0;32min\u001b[0m \u001b[0mtqdm\u001b[0m\u001b[0;34m(\u001b[0m\u001b[0mrange\u001b[0m\u001b[0;34m(\u001b[0m\u001b[0;36m4\u001b[0m\u001b[0;34m,\u001b[0m\u001b[0mlen\u001b[0m\u001b[0;34m(\u001b[0m\u001b[0mfiles_list\u001b[0m\u001b[0;34m)\u001b[0m\u001b[0;34m)\u001b[0m\u001b[0;34m)\u001b[0m\u001b[0;34m:\u001b[0m\u001b[0;34m\u001b[0m\u001b[0;34m\u001b[0m\u001b[0m\n\u001b[1;32m      6\u001b[0m     \u001b[0;32mwith\u001b[0m \u001b[0mopen\u001b[0m\u001b[0;34m(\u001b[0m\u001b[0mfiles_list\u001b[0m\u001b[0;34m[\u001b[0m\u001b[0mfilename\u001b[0m\u001b[0;34m]\u001b[0m\u001b[0;34m,\u001b[0m\u001b[0;34m'r'\u001b[0m\u001b[0;34m)\u001b[0m \u001b[0;32mas\u001b[0m \u001b[0mmyfile\u001b[0m\u001b[0;34m:\u001b[0m\u001b[0;34m\u001b[0m\u001b[0;34m\u001b[0m\u001b[0m\n\u001b[0;32m----> 7\u001b[0;31m         \u001b[0mcontent\u001b[0m \u001b[0;34m=\u001b[0m \u001b[0mmyfile\u001b[0m\u001b[0;34m.\u001b[0m\u001b[0mreadlines\u001b[0m\u001b[0;34m(\u001b[0m\u001b[0;34m)\u001b[0m\u001b[0;34m[\u001b[0m\u001b[0;36m1\u001b[0m\u001b[0;34m:\u001b[0m\u001b[0;34m-\u001b[0m\u001b[0;36m1\u001b[0m\u001b[0;34m]\u001b[0m\u001b[0;34m\u001b[0m\u001b[0;34m\u001b[0m\u001b[0m\n\u001b[0m\u001b[1;32m      8\u001b[0m     \u001b[0mframe\u001b[0m \u001b[0;34m=\u001b[0m \u001b[0mpd\u001b[0m\u001b[0;34m.\u001b[0m\u001b[0mDataFrame\u001b[0m\u001b[0;34m(\u001b[0m\u001b[0mdata\u001b[0m \u001b[0;34m=\u001b[0m \u001b[0mnp\u001b[0m\u001b[0;34m.\u001b[0m\u001b[0marray\u001b[0m\u001b[0;34m(\u001b[0m\u001b[0mcontent\u001b[0m\u001b[0;34m)\u001b[0m\u001b[0;34m,\u001b[0m \u001b[0mcolumns\u001b[0m\u001b[0;34m=\u001b[0m \u001b[0;34m[\u001b[0m\u001b[0;34m'original'\u001b[0m\u001b[0;34m]\u001b[0m\u001b[0;34m)\u001b[0m\u001b[0;34m\u001b[0m\u001b[0;34m\u001b[0m\u001b[0m\n\u001b[1;32m      9\u001b[0m     \u001b[0mli\u001b[0m\u001b[0;34m.\u001b[0m\u001b[0mappend\u001b[0m\u001b[0;34m(\u001b[0m\u001b[0mframe\u001b[0m\u001b[0;34m)\u001b[0m\u001b[0;34m\u001b[0m\u001b[0;34m\u001b[0m\u001b[0m\n",
      "\u001b[0;32m~/anaconda3/envs/eurec4a/lib/python3.8/codecs.py\u001b[0m in \u001b[0;36mdecode\u001b[0;34m(self, input, final)\u001b[0m\n\u001b[1;32m    320\u001b[0m         \u001b[0;31m# decode input (taking the buffer into account)\u001b[0m\u001b[0;34m\u001b[0m\u001b[0;34m\u001b[0m\u001b[0;34m\u001b[0m\u001b[0m\n\u001b[1;32m    321\u001b[0m         \u001b[0mdata\u001b[0m \u001b[0;34m=\u001b[0m \u001b[0mself\u001b[0m\u001b[0;34m.\u001b[0m\u001b[0mbuffer\u001b[0m \u001b[0;34m+\u001b[0m \u001b[0minput\u001b[0m\u001b[0;34m\u001b[0m\u001b[0;34m\u001b[0m\u001b[0m\n\u001b[0;32m--> 322\u001b[0;31m         \u001b[0;34m(\u001b[0m\u001b[0mresult\u001b[0m\u001b[0;34m,\u001b[0m \u001b[0mconsumed\u001b[0m\u001b[0;34m)\u001b[0m \u001b[0;34m=\u001b[0m \u001b[0mself\u001b[0m\u001b[0;34m.\u001b[0m\u001b[0m_buffer_decode\u001b[0m\u001b[0;34m(\u001b[0m\u001b[0mdata\u001b[0m\u001b[0;34m,\u001b[0m \u001b[0mself\u001b[0m\u001b[0;34m.\u001b[0m\u001b[0merrors\u001b[0m\u001b[0;34m,\u001b[0m \u001b[0mfinal\u001b[0m\u001b[0;34m)\u001b[0m\u001b[0;34m\u001b[0m\u001b[0;34m\u001b[0m\u001b[0m\n\u001b[0m\u001b[1;32m    323\u001b[0m         \u001b[0;31m# keep undecoded input until the next call\u001b[0m\u001b[0;34m\u001b[0m\u001b[0;34m\u001b[0m\u001b[0;34m\u001b[0m\u001b[0m\n\u001b[1;32m    324\u001b[0m         \u001b[0mself\u001b[0m\u001b[0;34m.\u001b[0m\u001b[0mbuffer\u001b[0m \u001b[0;34m=\u001b[0m \u001b[0mdata\u001b[0m\u001b[0;34m[\u001b[0m\u001b[0mconsumed\u001b[0m\u001b[0;34m:\u001b[0m\u001b[0;34m]\u001b[0m\u001b[0;34m\u001b[0m\u001b[0;34m\u001b[0m\u001b[0m\n",
      "\u001b[0;31mUnicodeDecodeError\u001b[0m: 'utf-8' codec can't decode byte 0xfe in position 2166: invalid start byte"
     ]
    }
   ],
   "source": [
    "files_list = glob(r'../../Data/Caravela/CaravelaPCS/Datalog/Y20/*/*'+ '/recordDataPort_D*')  \n",
    "files_list.sort()\n",
    "li = []\n",
    "\n",
    "for filename in tqdm(range(4,len(files_list))): # take files from Caravelas launch onwards\n",
    "    with open(files_list[filename],'r') as myfile:\n",
    "        content = myfile.readlines()[1:-1] #skip first line of file as this is likey to have not been written correctly\n",
    "    frame = pd.DataFrame(data = np.array(content), columns= ['original'])\n",
    "    li.append(frame)\n",
    "df = pd.concat(li, axis=0,ignore_index=True)"
   ]
  },
  {
   "cell_type": "code",
   "execution_count": 7,
   "metadata": {},
   "outputs": [
    {
     "data": {
      "text/plain": [
       "['../../Data/Caravela/CaravelaPCS/Datalog/Y20/M01/D15/recordDataPort_D_001.txt',\n",
       " '../../Data/Caravela/CaravelaPCS/Datalog/Y20/M01/D15/recordDataPort_D_002.txt',\n",
       " '../../Data/Caravela/CaravelaPCS/Datalog/Y20/M01/D16/recordDataPort_D_001.txt',\n",
       " '../../Data/Caravela/CaravelaPCS/Datalog/Y20/M01/D19/recordDataPort_D_001.txt',\n",
       " '../../Data/Caravela/CaravelaPCS/Datalog/Y20/M01/D22/recordDataPort_D_001.txt',\n",
       " '../../Data/Caravela/CaravelaPCS/Datalog/Y20/M01/D23/recordDataPort_D_001.txt',\n",
       " '../../Data/Caravela/CaravelaPCS/Datalog/Y20/M01/D24/recordDataPort_D_001.txt',\n",
       " '../../Data/Caravela/CaravelaPCS/Datalog/Y20/M01/D25/recordDataPort_D_001.txt',\n",
       " '../../Data/Caravela/CaravelaPCS/Datalog/Y20/M01/D26/recordDataPort_D_001.txt',\n",
       " '../../Data/Caravela/CaravelaPCS/Datalog/Y20/M01/D27/recordDataPort_D_001.txt',\n",
       " '../../Data/Caravela/CaravelaPCS/Datalog/Y20/M01/D28/recordDataPort_D_001.txt',\n",
       " '../../Data/Caravela/CaravelaPCS/Datalog/Y20/M01/D29/recordDataPort_D_001.txt',\n",
       " '../../Data/Caravela/CaravelaPCS/Datalog/Y20/M01/D30/recordDataPort_D_001.txt',\n",
       " '../../Data/Caravela/CaravelaPCS/Datalog/Y20/M01/D31/recordDataPort_D_001.txt',\n",
       " '../../Data/Caravela/CaravelaPCS/Datalog/Y20/M02/D01/recordDataPort_D_001.txt',\n",
       " '../../Data/Caravela/CaravelaPCS/Datalog/Y20/M02/D02/recordDataPort_D_001.txt',\n",
       " '../../Data/Caravela/CaravelaPCS/Datalog/Y20/M02/D03/recordDataPort_D_001.txt',\n",
       " '../../Data/Caravela/CaravelaPCS/Datalog/Y20/M02/D04/recordDataPort_D_001.txt',\n",
       " '../../Data/Caravela/CaravelaPCS/Datalog/Y20/M02/D05/recordDataPort_D_001.txt',\n",
       " '../../Data/Caravela/CaravelaPCS/Datalog/Y20/M02/D06/recordDataPort_D_001.txt',\n",
       " '../../Data/Caravela/CaravelaPCS/Datalog/Y20/M02/D07/recordDataPort_D_001.txt',\n",
       " '../../Data/Caravela/CaravelaPCS/Datalog/Y20/M02/D08/recordDataPort_D_001.txt',\n",
       " '../../Data/Caravela/CaravelaPCS/Datalog/Y20/M02/D09/recordDataPort_D_001.txt',\n",
       " '../../Data/Caravela/CaravelaPCS/Datalog/Y20/M02/D10/recordDataPort_D_001.txt',\n",
       " '../../Data/Caravela/CaravelaPCS/Datalog/Y20/M02/D11/recordDataPort_D_001.txt',\n",
       " '../../Data/Caravela/CaravelaPCS/Datalog/Y20/M02/D12/recordDataPort_D_001.txt',\n",
       " '../../Data/Caravela/CaravelaPCS/Datalog/Y20/M02/D13/recordDataPort_D_001.txt',\n",
       " '../../Data/Caravela/CaravelaPCS/Datalog/Y20/M02/D14/recordDataPort_D_001.txt',\n",
       " '../../Data/Caravela/CaravelaPCS/Datalog/Y20/M02/D15/recordDataPort_D_001.txt',\n",
       " '../../Data/Caravela/CaravelaPCS/Datalog/Y20/M02/D16/recordDataPort_D_001.txt',\n",
       " '../../Data/Caravela/CaravelaPCS/Datalog/Y20/M02/D17/recordDataPort_D_001.txt',\n",
       " '../../Data/Caravela/CaravelaPCS/Datalog/Y20/M02/D18/recordDataPort_D_001.txt',\n",
       " '../../Data/Caravela/CaravelaPCS/Datalog/Y20/M02/D19/recordDataPort_D_001.txt',\n",
       " '../../Data/Caravela/CaravelaPCS/Datalog/Y20/M02/D20/recordDataPort_D_001.txt',\n",
       " '../../Data/Caravela/CaravelaPCS/Datalog/Y20/M02/D21/recordDataPort_D_001.txt',\n",
       " '../../Data/Caravela/CaravelaPCS/Datalog/Y20/M02/D22/recordDataPort_D_001.txt',\n",
       " '../../Data/Caravela/CaravelaPCS/Datalog/Y20/M02/D23/recordDataPort_D_001.txt',\n",
       " '../../Data/Caravela/CaravelaPCS/Datalog/Y20/M02/D24/recordDataPort_D_001.txt']"
      ]
     },
     "execution_count": 7,
     "metadata": {},
     "output_type": "execute_result"
    }
   ],
   "source": [
    "files_list"
   ]
  },
  {
   "cell_type": "code",
   "execution_count": null,
   "metadata": {},
   "outputs": [],
   "source": []
  }
 ],
 "metadata": {
  "kernelspec": {
   "display_name": "Python 3",
   "language": "python",
   "name": "python3"
  },
  "language_info": {
   "codemirror_mode": {
    "name": "ipython",
    "version": 3
   },
   "file_extension": ".py",
   "mimetype": "text/x-python",
   "name": "python",
   "nbconvert_exporter": "python",
   "pygments_lexer": "ipython3",
   "version": "3.8.5"
  }
 },
 "nbformat": 4,
 "nbformat_minor": 4
}
