{
 "cells": [
  {
   "cell_type": "code",
   "execution_count": 2,
   "metadata": {},
   "outputs": [],
   "source": [
    "import pandas as pd\n",
    "import matplotlib.pyplot as plt\n",
    "from pathlib import Path\n",
    "from glob import glob\n",
    "import numpy as np\n",
    "from datetime import datetime,timedelta\n",
    "import csv\n",
    "from tqdm.notebook import tqdm"
   ]
  },
  {
   "cell_type": "code",
   "execution_count": 3,
   "metadata": {},
   "outputs": [],
   "source": [
    "work_dir = Path.cwd() # set path to current working directory"
   ]
  },
  {
   "cell_type": "code",
   "execution_count": 4,
   "metadata": {},
   "outputs": [],
   "source": [
    "files_list = glob(r'../../Data/Caravela/HygroClip2_HC2A/2020/*/'+ '*.dat')  #specify where the data is stored\n",
    "files_list.sort() # sort the data files into order\n",
    "\n",
    "li = []\n",
    "\n",
    "for filename in files_list: #create a list where each element is a datarame from 1 file\n",
    "    df = pd.read_csv(filename,index_col=False, header=0, sep=';',quoting=csv.QUOTE_NONE,\n",
    "                     usecols = ['PC Timestamp[UTC]','PC Time Zone','Humidity','Temp'])\n",
    "    li.append(df)\n",
    "\n",
    "hc2a = pd.concat(li, axis=0,ignore_index=True) # concatenate the dataframes\n"
   ]
  },
  {
   "cell_type": "code",
   "execution_count": 5,
   "metadata": {},
   "outputs": [
    {
     "data": {
      "text/html": [
       "<div>\n",
       "<style scoped>\n",
       "    .dataframe tbody tr th:only-of-type {\n",
       "        vertical-align: middle;\n",
       "    }\n",
       "\n",
       "    .dataframe tbody tr th {\n",
       "        vertical-align: top;\n",
       "    }\n",
       "\n",
       "    .dataframe thead th {\n",
       "        text-align: right;\n",
       "    }\n",
       "</style>\n",
       "<table border=\"1\" class=\"dataframe\">\n",
       "  <thead>\n",
       "    <tr style=\"text-align: right;\">\n",
       "      <th></th>\n",
       "      <th>PC Timestamp[UTC]</th>\n",
       "      <th>PC Time Zone</th>\n",
       "      <th>Humidity</th>\n",
       "      <th>Temp</th>\n",
       "    </tr>\n",
       "  </thead>\n",
       "  <tbody>\n",
       "    <tr>\n",
       "      <th>0</th>\n",
       "      <td>2020/01/15 12:07:06.205</td>\n",
       "      <td>00:00:00</td>\n",
       "      <td>--.--</td>\n",
       "      <td>--.--</td>\n",
       "    </tr>\n",
       "    <tr>\n",
       "      <th>1</th>\n",
       "      <td>2020/01/15 12:07:07.224</td>\n",
       "      <td>00:00:00</td>\n",
       "      <td>--.--</td>\n",
       "      <td>--.--</td>\n",
       "    </tr>\n",
       "    <tr>\n",
       "      <th>2</th>\n",
       "      <td>2020/01/15 12:07:08.222</td>\n",
       "      <td>00:00:00</td>\n",
       "      <td>65.860</td>\n",
       "      <td>27.580</td>\n",
       "    </tr>\n",
       "    <tr>\n",
       "      <th>3</th>\n",
       "      <td>2020/01/15 12:07:09.216</td>\n",
       "      <td>00:00:00</td>\n",
       "      <td>65.810</td>\n",
       "      <td>27.580</td>\n",
       "    </tr>\n",
       "    <tr>\n",
       "      <th>4</th>\n",
       "      <td>2020/01/15 12:07:10.231</td>\n",
       "      <td>00:00:00</td>\n",
       "      <td>65.810</td>\n",
       "      <td>27.580</td>\n",
       "    </tr>\n",
       "    <tr>\n",
       "      <th>...</th>\n",
       "      <td>...</td>\n",
       "      <td>...</td>\n",
       "      <td>...</td>\n",
       "      <td>...</td>\n",
       "    </tr>\n",
       "    <tr>\n",
       "      <th>2205620</th>\n",
       "      <td>2020/02/18 09:55:56.230</td>\n",
       "      <td>00:00:00</td>\n",
       "      <td>88.84</td>\n",
       "      <td>25.32</td>\n",
       "    </tr>\n",
       "    <tr>\n",
       "      <th>2205621</th>\n",
       "      <td>2020/02/18 09:55:57.224</td>\n",
       "      <td>00:00:00</td>\n",
       "      <td>88.79</td>\n",
       "      <td>25.32</td>\n",
       "    </tr>\n",
       "    <tr>\n",
       "      <th>2205622</th>\n",
       "      <td>2020/02/18 09:55:58.227</td>\n",
       "      <td>00:00:00</td>\n",
       "      <td>88.79</td>\n",
       "      <td>25.32</td>\n",
       "    </tr>\n",
       "    <tr>\n",
       "      <th>2205623</th>\n",
       "      <td>2020/02/18 09:55:59.229</td>\n",
       "      <td>00:00:00</td>\n",
       "      <td>88.63</td>\n",
       "      <td>25.33</td>\n",
       "    </tr>\n",
       "    <tr>\n",
       "      <th>2205624</th>\n",
       "      <td>2020/02/18 09:56:00.245</td>\n",
       "      <td>00:00:00</td>\n",
       "      <td>88.53</td>\n",
       "      <td>25.33</td>\n",
       "    </tr>\n",
       "  </tbody>\n",
       "</table>\n",
       "<p>2205625 rows × 4 columns</p>\n",
       "</div>"
      ],
      "text/plain": [
       "               PC Timestamp[UTC] PC Time Zone Humidity    Temp\n",
       "0        2020/01/15 12:07:06.205     00:00:00    --.--   --.--\n",
       "1        2020/01/15 12:07:07.224     00:00:00    --.--   --.--\n",
       "2        2020/01/15 12:07:08.222     00:00:00   65.860  27.580\n",
       "3        2020/01/15 12:07:09.216     00:00:00   65.810  27.580\n",
       "4        2020/01/15 12:07:10.231     00:00:00   65.810  27.580\n",
       "...                          ...          ...      ...     ...\n",
       "2205620  2020/02/18 09:55:56.230     00:00:00    88.84   25.32\n",
       "2205621  2020/02/18 09:55:57.224     00:00:00    88.79   25.32\n",
       "2205622  2020/02/18 09:55:58.227     00:00:00    88.79   25.32\n",
       "2205623  2020/02/18 09:55:59.229     00:00:00    88.63   25.33\n",
       "2205624  2020/02/18 09:56:00.245     00:00:00    88.53   25.33\n",
       "\n",
       "[2205625 rows x 4 columns]"
      ]
     },
     "execution_count": 5,
     "metadata": {},
     "output_type": "execute_result"
    }
   ],
   "source": [
    "hc2a # have a look at the dataframe we created"
   ]
  },
  {
   "cell_type": "markdown",
   "metadata": {},
   "source": [
    "Change date time to isoformat"
   ]
  },
  {
   "cell_type": "code",
   "execution_count": 6,
   "metadata": {},
   "outputs": [
    {
     "data": {
      "application/vnd.jupyter.widget-view+json": {
       "model_id": "23d11a6bcbc849f2859b930274c2d573",
       "version_major": 2,
       "version_minor": 0
      },
      "text/plain": [
       "HBox(children=(HTML(value=''), FloatProgress(value=0.0, max=2205625.0), HTML(value='')))"
      ]
     },
     "metadata": {},
     "output_type": "display_data"
    },
    {
     "name": "stdout",
     "output_type": "stream",
     "text": [
      "\n"
     ]
    }
   ],
   "source": [
    "dt = []\n",
    "for i in tqdm(range(0, len(hc2a['PC Timestamp[UTC]']))):\n",
    "    dt.append(datetime.strptime(hc2a['PC Timestamp[UTC]'][i], '%Y/%m/%d %H:%M:%S.%f').isoformat())\n",
    "\n",
    "hc2a['datetime_UTC'] = dt"
   ]
  },
  {
   "cell_type": "code",
   "execution_count": 19,
   "metadata": {},
   "outputs": [
    {
     "data": {
      "text/html": [
       "<div>\n",
       "<style scoped>\n",
       "    .dataframe tbody tr th:only-of-type {\n",
       "        vertical-align: middle;\n",
       "    }\n",
       "\n",
       "    .dataframe tbody tr th {\n",
       "        vertical-align: top;\n",
       "    }\n",
       "\n",
       "    .dataframe thead th {\n",
       "        text-align: right;\n",
       "    }\n",
       "</style>\n",
       "<table border=\"1\" class=\"dataframe\">\n",
       "  <thead>\n",
       "    <tr style=\"text-align: right;\">\n",
       "      <th></th>\n",
       "      <th>PC Timestamp[UTC]</th>\n",
       "      <th>PC Time Zone</th>\n",
       "      <th>Humidity</th>\n",
       "      <th>Temp</th>\n",
       "      <th>datetime_UTC</th>\n",
       "    </tr>\n",
       "  </thead>\n",
       "  <tbody>\n",
       "    <tr>\n",
       "      <th>26368</th>\n",
       "      <td>2020/01/22 17:20:07.299</td>\n",
       "      <td>00:00:00</td>\n",
       "      <td>97.09</td>\n",
       "      <td>24.1</td>\n",
       "      <td>2020-01-22T17:20:07.299000</td>\n",
       "    </tr>\n",
       "    <tr>\n",
       "      <th>26369</th>\n",
       "      <td>2020/01/22 17:20:08.297</td>\n",
       "      <td>00:00:00</td>\n",
       "      <td>96.89</td>\n",
       "      <td>24.09</td>\n",
       "      <td>2020-01-22T17:20:08.297000</td>\n",
       "    </tr>\n",
       "    <tr>\n",
       "      <th>26370</th>\n",
       "      <td>2020/01/22 17:20:09.299</td>\n",
       "      <td>00:00:00</td>\n",
       "      <td>96.76</td>\n",
       "      <td>24.11</td>\n",
       "      <td>2020-01-22T17:20:09.299000</td>\n",
       "    </tr>\n",
       "    <tr>\n",
       "      <th>26371</th>\n",
       "      <td>2020/01/22 17:20:10.298</td>\n",
       "      <td>00:00:00</td>\n",
       "      <td>96.6</td>\n",
       "      <td>24.07</td>\n",
       "      <td>2020-01-22T17:20:10.298000</td>\n",
       "    </tr>\n",
       "    <tr>\n",
       "      <th>26372</th>\n",
       "      <td>2020/01/22 17:20:11.294</td>\n",
       "      <td>00:00:00</td>\n",
       "      <td>96.48</td>\n",
       "      <td>24.08</td>\n",
       "      <td>2020-01-22T17:20:11.294000</td>\n",
       "    </tr>\n",
       "    <tr>\n",
       "      <th>...</th>\n",
       "      <td>...</td>\n",
       "      <td>...</td>\n",
       "      <td>...</td>\n",
       "      <td>...</td>\n",
       "      <td>...</td>\n",
       "    </tr>\n",
       "    <tr>\n",
       "      <th>2205620</th>\n",
       "      <td>2020/02/18 09:55:56.230</td>\n",
       "      <td>00:00:00</td>\n",
       "      <td>88.84</td>\n",
       "      <td>25.32</td>\n",
       "      <td>2020-02-18T09:55:56.230000</td>\n",
       "    </tr>\n",
       "    <tr>\n",
       "      <th>2205621</th>\n",
       "      <td>2020/02/18 09:55:57.224</td>\n",
       "      <td>00:00:00</td>\n",
       "      <td>88.79</td>\n",
       "      <td>25.32</td>\n",
       "      <td>2020-02-18T09:55:57.224000</td>\n",
       "    </tr>\n",
       "    <tr>\n",
       "      <th>2205622</th>\n",
       "      <td>2020/02/18 09:55:58.227</td>\n",
       "      <td>00:00:00</td>\n",
       "      <td>88.79</td>\n",
       "      <td>25.32</td>\n",
       "      <td>2020-02-18T09:55:58.227000</td>\n",
       "    </tr>\n",
       "    <tr>\n",
       "      <th>2205623</th>\n",
       "      <td>2020/02/18 09:55:59.229</td>\n",
       "      <td>00:00:00</td>\n",
       "      <td>88.63</td>\n",
       "      <td>25.33</td>\n",
       "      <td>2020-02-18T09:55:59.229000</td>\n",
       "    </tr>\n",
       "    <tr>\n",
       "      <th>2205624</th>\n",
       "      <td>2020/02/18 09:56:00.245</td>\n",
       "      <td>00:00:00</td>\n",
       "      <td>88.53</td>\n",
       "      <td>25.33</td>\n",
       "      <td>2020-02-18T09:56:00.245000</td>\n",
       "    </tr>\n",
       "  </tbody>\n",
       "</table>\n",
       "<p>2179257 rows × 5 columns</p>\n",
       "</div>"
      ],
      "text/plain": [
       "               PC Timestamp[UTC] PC Time Zone Humidity   Temp  \\\n",
       "26368    2020/01/22 17:20:07.299     00:00:00    97.09   24.1   \n",
       "26369    2020/01/22 17:20:08.297     00:00:00    96.89  24.09   \n",
       "26370    2020/01/22 17:20:09.299     00:00:00    96.76  24.11   \n",
       "26371    2020/01/22 17:20:10.298     00:00:00     96.6  24.07   \n",
       "26372    2020/01/22 17:20:11.294     00:00:00    96.48  24.08   \n",
       "...                          ...          ...      ...    ...   \n",
       "2205620  2020/02/18 09:55:56.230     00:00:00    88.84  25.32   \n",
       "2205621  2020/02/18 09:55:57.224     00:00:00    88.79  25.32   \n",
       "2205622  2020/02/18 09:55:58.227     00:00:00    88.79  25.32   \n",
       "2205623  2020/02/18 09:55:59.229     00:00:00    88.63  25.33   \n",
       "2205624  2020/02/18 09:56:00.245     00:00:00    88.53  25.33   \n",
       "\n",
       "                       datetime_UTC  \n",
       "26368    2020-01-22T17:20:07.299000  \n",
       "26369    2020-01-22T17:20:08.297000  \n",
       "26370    2020-01-22T17:20:09.299000  \n",
       "26371    2020-01-22T17:20:10.298000  \n",
       "26372    2020-01-22T17:20:11.294000  \n",
       "...                             ...  \n",
       "2205620  2020-02-18T09:55:56.230000  \n",
       "2205621  2020-02-18T09:55:57.224000  \n",
       "2205622  2020-02-18T09:55:58.227000  \n",
       "2205623  2020-02-18T09:55:59.229000  \n",
       "2205624  2020-02-18T09:56:00.245000  \n",
       "\n",
       "[2179257 rows x 5 columns]"
      ]
     },
     "execution_count": 19,
     "metadata": {},
     "output_type": "execute_result"
    }
   ],
   "source": [
    "subset = hc2a[(hc2a['datetime_UTC'] >= '2020-01-22 00:00:00.000')] #select data from Caravela's launch onwards\n",
    "subset"
   ]
  },
  {
   "cell_type": "code",
   "execution_count": 20,
   "metadata": {},
   "outputs": [
    {
     "data": {
      "text/plain": [
       "array(['00:00:00'], dtype=object)"
      ]
     },
     "execution_count": 20,
     "metadata": {},
     "output_type": "execute_result"
    }
   ],
   "source": [
    "#  check all time zones are utc\n",
    "subset['PC Time Zone'].unique()"
   ]
  },
  {
   "cell_type": "code",
   "execution_count": 21,
   "metadata": {},
   "outputs": [],
   "source": [
    "subset = subset.drop(['PC Timestamp[UTC]', 'PC Time Zone'],axis=1) # remove the colums we dont need"
   ]
  },
  {
   "cell_type": "code",
   "execution_count": 22,
   "metadata": {},
   "outputs": [
    {
     "data": {
      "text/html": [
       "<div>\n",
       "<style scoped>\n",
       "    .dataframe tbody tr th:only-of-type {\n",
       "        vertical-align: middle;\n",
       "    }\n",
       "\n",
       "    .dataframe tbody tr th {\n",
       "        vertical-align: top;\n",
       "    }\n",
       "\n",
       "    .dataframe thead th {\n",
       "        text-align: right;\n",
       "    }\n",
       "</style>\n",
       "<table border=\"1\" class=\"dataframe\">\n",
       "  <thead>\n",
       "    <tr style=\"text-align: right;\">\n",
       "      <th></th>\n",
       "      <th>Humidity</th>\n",
       "      <th>Temp</th>\n",
       "      <th>datetime_UTC</th>\n",
       "    </tr>\n",
       "  </thead>\n",
       "  <tbody>\n",
       "    <tr>\n",
       "      <th>26368</th>\n",
       "      <td>97.09</td>\n",
       "      <td>24.1</td>\n",
       "      <td>2020-01-22T17:20:07.299000</td>\n",
       "    </tr>\n",
       "    <tr>\n",
       "      <th>26369</th>\n",
       "      <td>96.89</td>\n",
       "      <td>24.09</td>\n",
       "      <td>2020-01-22T17:20:08.297000</td>\n",
       "    </tr>\n",
       "    <tr>\n",
       "      <th>26370</th>\n",
       "      <td>96.76</td>\n",
       "      <td>24.11</td>\n",
       "      <td>2020-01-22T17:20:09.299000</td>\n",
       "    </tr>\n",
       "    <tr>\n",
       "      <th>26371</th>\n",
       "      <td>96.6</td>\n",
       "      <td>24.07</td>\n",
       "      <td>2020-01-22T17:20:10.298000</td>\n",
       "    </tr>\n",
       "    <tr>\n",
       "      <th>26372</th>\n",
       "      <td>96.48</td>\n",
       "      <td>24.08</td>\n",
       "      <td>2020-01-22T17:20:11.294000</td>\n",
       "    </tr>\n",
       "    <tr>\n",
       "      <th>...</th>\n",
       "      <td>...</td>\n",
       "      <td>...</td>\n",
       "      <td>...</td>\n",
       "    </tr>\n",
       "    <tr>\n",
       "      <th>2205620</th>\n",
       "      <td>88.84</td>\n",
       "      <td>25.32</td>\n",
       "      <td>2020-02-18T09:55:56.230000</td>\n",
       "    </tr>\n",
       "    <tr>\n",
       "      <th>2205621</th>\n",
       "      <td>88.79</td>\n",
       "      <td>25.32</td>\n",
       "      <td>2020-02-18T09:55:57.224000</td>\n",
       "    </tr>\n",
       "    <tr>\n",
       "      <th>2205622</th>\n",
       "      <td>88.79</td>\n",
       "      <td>25.32</td>\n",
       "      <td>2020-02-18T09:55:58.227000</td>\n",
       "    </tr>\n",
       "    <tr>\n",
       "      <th>2205623</th>\n",
       "      <td>88.63</td>\n",
       "      <td>25.33</td>\n",
       "      <td>2020-02-18T09:55:59.229000</td>\n",
       "    </tr>\n",
       "    <tr>\n",
       "      <th>2205624</th>\n",
       "      <td>88.53</td>\n",
       "      <td>25.33</td>\n",
       "      <td>2020-02-18T09:56:00.245000</td>\n",
       "    </tr>\n",
       "  </tbody>\n",
       "</table>\n",
       "<p>2179257 rows × 3 columns</p>\n",
       "</div>"
      ],
      "text/plain": [
       "        Humidity   Temp                datetime_UTC\n",
       "26368      97.09   24.1  2020-01-22T17:20:07.299000\n",
       "26369      96.89  24.09  2020-01-22T17:20:08.297000\n",
       "26370      96.76  24.11  2020-01-22T17:20:09.299000\n",
       "26371       96.6  24.07  2020-01-22T17:20:10.298000\n",
       "26372      96.48  24.08  2020-01-22T17:20:11.294000\n",
       "...          ...    ...                         ...\n",
       "2205620    88.84  25.32  2020-02-18T09:55:56.230000\n",
       "2205621    88.79  25.32  2020-02-18T09:55:57.224000\n",
       "2205622    88.79  25.32  2020-02-18T09:55:58.227000\n",
       "2205623    88.63  25.33  2020-02-18T09:55:59.229000\n",
       "2205624    88.53  25.33  2020-02-18T09:56:00.245000\n",
       "\n",
       "[2179257 rows x 3 columns]"
      ]
     },
     "execution_count": 22,
     "metadata": {},
     "output_type": "execute_result"
    }
   ],
   "source": [
    "subset"
   ]
  },
  {
   "cell_type": "markdown",
   "metadata": {},
   "source": [
    "We need to turn the ' --.--' entries into something python friendly. Below we define a function to do this"
   ]
  },
  {
   "cell_type": "code",
   "execution_count": 23,
   "metadata": {},
   "outputs": [],
   "source": [
    "def get_better_value(value):\n",
    "    \"\"\"Create readable output for the given variable from hygroclip input\"\"\"\n",
    "    if isinstance(value, float):\n",
    "        #nothing to do\n",
    "        return value\n",
    "    elif value == ' --.--':\n",
    "        return np.nan\n",
    "    else:\n",
    "        return float(value)"
   ]
  },
  {
   "cell_type": "code",
   "execution_count": 24,
   "metadata": {},
   "outputs": [
    {
     "data": {
      "text/plain": [
       "[24.1, 24.09, 24.11, 24.07, 24.08]"
      ]
     },
     "execution_count": 24,
     "metadata": {},
     "output_type": "execute_result"
    }
   ],
   "source": [
    "orig_temp = subset['Temp'].to_numpy() #apply bad entry clean up to temperature\n",
    "\n",
    "#Go through every element in list and use function to convert\n",
    "better_temp = [get_better_value(i) for i in orig_temp]\n",
    "\n",
    "better_temp[:5]"
   ]
  },
  {
   "cell_type": "code",
   "execution_count": 27,
   "metadata": {},
   "outputs": [
    {
     "data": {
      "text/plain": [
       "[97.09, 96.89, 96.76, 96.6, 96.48]"
      ]
     },
     "execution_count": 27,
     "metadata": {},
     "output_type": "execute_result"
    }
   ],
   "source": [
    "orig_hum = subset['Humidity'].to_numpy() #apply bad entry clean up to humidity\n",
    "\n",
    "#Go through every element in list and use function to convert\n",
    "better_hum = [get_better_value(i) for i in orig_hum]\n",
    "\n",
    "better_hum[:5]"
   ]
  },
  {
   "cell_type": "code",
   "execution_count": 34,
   "metadata": {},
   "outputs": [],
   "source": [
    "subset['Humidity'] = better_hum\n",
    "subset['Temp'] = better_temp"
   ]
  },
  {
   "cell_type": "code",
   "execution_count": 35,
   "metadata": {},
   "outputs": [],
   "source": [
    "subset.to_csv('../../Products/CARAVELA_Hygroclip.csv',index = None)#save file"
   ]
  },
  {
   "cell_type": "markdown",
   "metadata": {},
   "source": [
    "# Check saved file"
   ]
  },
  {
   "cell_type": "code",
   "execution_count": 36,
   "metadata": {},
   "outputs": [],
   "source": [
    "baa = pd.read_csv('../../Products/CARAVELA_Hygroclip.csv')# import file to test it"
   ]
  },
  {
   "cell_type": "code",
   "execution_count": 37,
   "metadata": {},
   "outputs": [
    {
     "data": {
      "text/html": [
       "<div>\n",
       "<style scoped>\n",
       "    .dataframe tbody tr th:only-of-type {\n",
       "        vertical-align: middle;\n",
       "    }\n",
       "\n",
       "    .dataframe tbody tr th {\n",
       "        vertical-align: top;\n",
       "    }\n",
       "\n",
       "    .dataframe thead th {\n",
       "        text-align: right;\n",
       "    }\n",
       "</style>\n",
       "<table border=\"1\" class=\"dataframe\">\n",
       "  <thead>\n",
       "    <tr style=\"text-align: right;\">\n",
       "      <th></th>\n",
       "      <th>Humidity</th>\n",
       "      <th>Temp</th>\n",
       "      <th>datetime_UTC</th>\n",
       "    </tr>\n",
       "  </thead>\n",
       "  <tbody>\n",
       "    <tr>\n",
       "      <th>0</th>\n",
       "      <td>97.09</td>\n",
       "      <td>24.10</td>\n",
       "      <td>2020-01-22T17:20:07.299000</td>\n",
       "    </tr>\n",
       "    <tr>\n",
       "      <th>1</th>\n",
       "      <td>96.89</td>\n",
       "      <td>24.09</td>\n",
       "      <td>2020-01-22T17:20:08.297000</td>\n",
       "    </tr>\n",
       "    <tr>\n",
       "      <th>2</th>\n",
       "      <td>96.76</td>\n",
       "      <td>24.11</td>\n",
       "      <td>2020-01-22T17:20:09.299000</td>\n",
       "    </tr>\n",
       "    <tr>\n",
       "      <th>3</th>\n",
       "      <td>96.60</td>\n",
       "      <td>24.07</td>\n",
       "      <td>2020-01-22T17:20:10.298000</td>\n",
       "    </tr>\n",
       "    <tr>\n",
       "      <th>4</th>\n",
       "      <td>96.48</td>\n",
       "      <td>24.08</td>\n",
       "      <td>2020-01-22T17:20:11.294000</td>\n",
       "    </tr>\n",
       "    <tr>\n",
       "      <th>...</th>\n",
       "      <td>...</td>\n",
       "      <td>...</td>\n",
       "      <td>...</td>\n",
       "    </tr>\n",
       "    <tr>\n",
       "      <th>2179252</th>\n",
       "      <td>88.84</td>\n",
       "      <td>25.32</td>\n",
       "      <td>2020-02-18T09:55:56.230000</td>\n",
       "    </tr>\n",
       "    <tr>\n",
       "      <th>2179253</th>\n",
       "      <td>88.79</td>\n",
       "      <td>25.32</td>\n",
       "      <td>2020-02-18T09:55:57.224000</td>\n",
       "    </tr>\n",
       "    <tr>\n",
       "      <th>2179254</th>\n",
       "      <td>88.79</td>\n",
       "      <td>25.32</td>\n",
       "      <td>2020-02-18T09:55:58.227000</td>\n",
       "    </tr>\n",
       "    <tr>\n",
       "      <th>2179255</th>\n",
       "      <td>88.63</td>\n",
       "      <td>25.33</td>\n",
       "      <td>2020-02-18T09:55:59.229000</td>\n",
       "    </tr>\n",
       "    <tr>\n",
       "      <th>2179256</th>\n",
       "      <td>88.53</td>\n",
       "      <td>25.33</td>\n",
       "      <td>2020-02-18T09:56:00.245000</td>\n",
       "    </tr>\n",
       "  </tbody>\n",
       "</table>\n",
       "<p>2179257 rows × 3 columns</p>\n",
       "</div>"
      ],
      "text/plain": [
       "         Humidity   Temp                datetime_UTC\n",
       "0           97.09  24.10  2020-01-22T17:20:07.299000\n",
       "1           96.89  24.09  2020-01-22T17:20:08.297000\n",
       "2           96.76  24.11  2020-01-22T17:20:09.299000\n",
       "3           96.60  24.07  2020-01-22T17:20:10.298000\n",
       "4           96.48  24.08  2020-01-22T17:20:11.294000\n",
       "...           ...    ...                         ...\n",
       "2179252     88.84  25.32  2020-02-18T09:55:56.230000\n",
       "2179253     88.79  25.32  2020-02-18T09:55:57.224000\n",
       "2179254     88.79  25.32  2020-02-18T09:55:58.227000\n",
       "2179255     88.63  25.33  2020-02-18T09:55:59.229000\n",
       "2179256     88.53  25.33  2020-02-18T09:56:00.245000\n",
       "\n",
       "[2179257 rows x 3 columns]"
      ]
     },
     "execution_count": 37,
     "metadata": {},
     "output_type": "execute_result"
    }
   ],
   "source": [
    "baa"
   ]
  },
  {
   "cell_type": "code",
   "execution_count": 38,
   "metadata": {},
   "outputs": [
    {
     "data": {
      "application/vnd.jupyter.widget-view+json": {
       "model_id": "a3a48f52f9f04127b1dde3f28c489170",
       "version_major": 2,
       "version_minor": 0
      },
      "text/plain": [
       "HBox(children=(HTML(value=''), FloatProgress(value=0.0, max=2179257.0), HTML(value='')))"
      ]
     },
     "metadata": {},
     "output_type": "display_data"
    },
    {
     "name": "stdout",
     "output_type": "stream",
     "text": [
      "\n"
     ]
    }
   ],
   "source": [
    "x=[] # parse the timestamp\n",
    "for i in tqdm(range(len(baa['datetime_UTC']))):\n",
    "    x.append(datetime.fromisoformat(baa['datetime_UTC'][i]))\n",
    "baa['datetime_parsed'] = x"
   ]
  },
  {
   "cell_type": "code",
   "execution_count": 42,
   "metadata": {},
   "outputs": [
    {
     "data": {
      "text/plain": [
       "Text(0.5, 0, 'Date')"
      ]
     },
     "execution_count": 42,
     "metadata": {},
     "output_type": "execute_result"
    },
    {
     "data": {
      "image/png": "[encoded data removed]",
      "text/plain": [
       "<Figure size 1296x1080 with 1 Axes>"
      ]
     },
     "metadata": {
      "needs_background": "light"
     },
     "output_type": "display_data"
    }
   ],
   "source": [
    "fig,ax = plt.subplots(1,1, figsize=(18, 15), sharex=True)\n",
    "ax.scatter(baa['datetime_parsed'], baa['Temp'],s=4)\n",
    "ax.set_ylabel('Temp C')\n",
    "ax.set_xlabel('Date')"
   ]
  },
  {
   "cell_type": "code",
   "execution_count": null,
   "metadata": {},
   "outputs": [],
   "source": []
  }
 ],
 "metadata": {
  "kernelspec": {
   "display_name": "Python 3",
   "language": "python",
   "name": "python3"
  },
  "language_info": {
   "codemirror_mode": {
    "name": "ipython",
    "version": 3
   },
   "file_extension": ".py",
   "mimetype": "text/x-python",
   "name": "python",
   "nbconvert_exporter": "python",
   "pygments_lexer": "ipython3",
   "version": "3.8.5"
  }
 },
 "nbformat": 4,
 "nbformat_minor": 4
}
