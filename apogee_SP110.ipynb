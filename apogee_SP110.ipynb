{
 "cells": [
  {
   "cell_type": "code",
   "execution_count": 2,
   "metadata": {},
   "outputs": [],
   "source": [
    "import pandas as pd\n",
    "from pathlib import Path\n",
    "from glob import glob\n",
    "import numpy as np\n",
    "from datetime import datetime,timedelta\n",
    "from tqdm.notebook import tqdm"
   ]
  },
  {
   "cell_type": "markdown",
   "metadata": {},
   "source": [
    "Import and sort all caravela apogee_SL510 eurec4a files, creating a dataframe from this:"
   ]
  },
  {
   "cell_type": "code",
   "execution_count": 2,
   "metadata": {},
   "outputs": [
    {
     "data": {
      "application/vnd.jupyter.widget-view+json": {
       "model_id": "7ff43b8359d848e38708bf439e3082ec",
       "version_major": 2,
       "version_minor": 0
      },
      "text/plain": [
       "HBox(children=(FloatProgress(value=0.0, max=776.0), HTML(value='')))"
      ]
     },
     "metadata": {},
     "output_type": "display_data"
    },
    {
     "name": "stdout",
     "output_type": "stream",
     "text": [
      "\n"
     ]
    }
   ],
   "source": [
    "files_list = glob(r'E:\\Eurec4a_master\\Caravela\\apogee_SP_110\\*\\*'+ '/*SP_110*')  \n",
    "files_list.sort()\n",
    "\n",
    "li = []\n",
    "\n",
    "for filename in tqdm(files_list):\n",
    "    df = pd.read_csv(filename, header=0, sep=',',index_col=False)\n",
    "    li.append(df)\n",
    "\n",
    "sp = pd.concat(li, axis=0)"
   ]
  },
  {
   "cell_type": "code",
   "execution_count": 3,
   "metadata": {},
   "outputs": [
    {
     "data": {
      "text/html": [
       "<div>\n",
       "<style scoped>\n",
       "    .dataframe tbody tr th:only-of-type {\n",
       "        vertical-align: middle;\n",
       "    }\n",
       "\n",
       "    .dataframe tbody tr th {\n",
       "        vertical-align: top;\n",
       "    }\n",
       "\n",
       "    .dataframe thead th {\n",
       "        text-align: right;\n",
       "    }\n",
       "</style>\n",
       "<table border=\"1\" class=\"dataframe\">\n",
       "  <thead>\n",
       "    <tr style=\"text-align: right;\">\n",
       "      <th></th>\n",
       "      <th>PC Timestamp[UTC]</th>\n",
       "      <th>PC Time Zone</th>\n",
       "      <th>SP-110-SS[W m-2]</th>\n",
       "    </tr>\n",
       "  </thead>\n",
       "  <tbody>\n",
       "    <tr>\n",
       "      <th>0</th>\n",
       "      <td>2020/01/15 12:06:15.358</td>\n",
       "      <td>00:00:00</td>\n",
       "      <td>207.830</td>\n",
       "    </tr>\n",
       "    <tr>\n",
       "      <th>1</th>\n",
       "      <td>2020/01/15 12:06:16.367</td>\n",
       "      <td>00:00:00</td>\n",
       "      <td>195.545</td>\n",
       "    </tr>\n",
       "    <tr>\n",
       "      <th>2</th>\n",
       "      <td>2020/01/15 12:06:17.372</td>\n",
       "      <td>00:00:00</td>\n",
       "      <td>190.130</td>\n",
       "    </tr>\n",
       "    <tr>\n",
       "      <th>3</th>\n",
       "      <td>2020/01/15 12:06:18.382</td>\n",
       "      <td>00:00:00</td>\n",
       "      <td>185.170</td>\n",
       "    </tr>\n",
       "    <tr>\n",
       "      <th>4</th>\n",
       "      <td>2020/01/15 12:06:19.390</td>\n",
       "      <td>00:00:00</td>\n",
       "      <td>172.355</td>\n",
       "    </tr>\n",
       "    <tr>\n",
       "      <th>...</th>\n",
       "      <td>...</td>\n",
       "      <td>...</td>\n",
       "      <td>...</td>\n",
       "    </tr>\n",
       "    <tr>\n",
       "      <th>3573</th>\n",
       "      <td>2020/02/24 18:59:55.333</td>\n",
       "      <td>00:00:00</td>\n",
       "      <td>2.365</td>\n",
       "    </tr>\n",
       "    <tr>\n",
       "      <th>3574</th>\n",
       "      <td>2020/02/24 18:59:56.341</td>\n",
       "      <td>00:00:00</td>\n",
       "      <td>2.365</td>\n",
       "    </tr>\n",
       "    <tr>\n",
       "      <th>3575</th>\n",
       "      <td>2020/02/24 18:59:57.350</td>\n",
       "      <td>00:00:00</td>\n",
       "      <td>2.365</td>\n",
       "    </tr>\n",
       "    <tr>\n",
       "      <th>3576</th>\n",
       "      <td>2020/02/24 18:59:58.358</td>\n",
       "      <td>00:00:00</td>\n",
       "      <td>2.365</td>\n",
       "    </tr>\n",
       "    <tr>\n",
       "      <th>3577</th>\n",
       "      <td>2020/02/24 18:59:59.366</td>\n",
       "      <td>00:00:00</td>\n",
       "      <td>2.365</td>\n",
       "    </tr>\n",
       "  </tbody>\n",
       "</table>\n",
       "<p>2746063 rows × 3 columns</p>\n",
       "</div>"
      ],
      "text/plain": [
       "            PC Timestamp[UTC] PC Time Zone  SP-110-SS[W m-2]\n",
       "0     2020/01/15 12:06:15.358     00:00:00           207.830\n",
       "1     2020/01/15 12:06:16.367     00:00:00           195.545\n",
       "2     2020/01/15 12:06:17.372     00:00:00           190.130\n",
       "3     2020/01/15 12:06:18.382     00:00:00           185.170\n",
       "4     2020/01/15 12:06:19.390     00:00:00           172.355\n",
       "...                       ...          ...               ...\n",
       "3573  2020/02/24 18:59:55.333     00:00:00             2.365\n",
       "3574  2020/02/24 18:59:56.341     00:00:00             2.365\n",
       "3575  2020/02/24 18:59:57.350     00:00:00             2.365\n",
       "3576  2020/02/24 18:59:58.358     00:00:00             2.365\n",
       "3577  2020/02/24 18:59:59.366     00:00:00             2.365\n",
       "\n",
       "[2746063 rows x 3 columns]"
      ]
     },
     "execution_count": 3,
     "metadata": {},
     "output_type": "execute_result"
    }
   ],
   "source": [
    "sp"
   ]
  },
  {
   "cell_type": "markdown",
   "metadata": {},
   "source": [
    "Parse the timestamp to a datetime format"
   ]
  },
  {
   "cell_type": "code",
   "execution_count": 4,
   "metadata": {},
   "outputs": [
    {
     "data": {
      "application/vnd.jupyter.widget-view+json": {
       "model_id": "b656a5ca87094dddac3775e5744f5459",
       "version_major": 2,
       "version_minor": 0
      },
      "text/plain": [
       "HBox(children=(FloatProgress(value=0.0, max=2746063.0), HTML(value='')))"
      ]
     },
     "metadata": {},
     "output_type": "display_data"
    },
    {
     "name": "stdout",
     "output_type": "stream",
     "text": [
      "\n"
     ]
    }
   ],
   "source": [
    "dt = []\n",
    "for i in tqdm(sp['PC Timestamp[UTC]']):\n",
    "    dt.append(datetime.fromisoformat([i]))\n",
    "sp['dt [UTC]'] = dt"
   ]
  },
  {
   "cell_type": "code",
   "execution_count": 5,
   "metadata": {},
   "outputs": [
    {
     "data": {
      "text/html": [
       "<div>\n",
       "<style scoped>\n",
       "    .dataframe tbody tr th:only-of-type {\n",
       "        vertical-align: middle;\n",
       "    }\n",
       "\n",
       "    .dataframe tbody tr th {\n",
       "        vertical-align: top;\n",
       "    }\n",
       "\n",
       "    .dataframe thead th {\n",
       "        text-align: right;\n",
       "    }\n",
       "</style>\n",
       "<table border=\"1\" class=\"dataframe\">\n",
       "  <thead>\n",
       "    <tr style=\"text-align: right;\">\n",
       "      <th></th>\n",
       "      <th>PC Timestamp[UTC]</th>\n",
       "      <th>PC Time Zone</th>\n",
       "      <th>SP-110-SS[W m-2]</th>\n",
       "      <th>dt [UTC]</th>\n",
       "    </tr>\n",
       "  </thead>\n",
       "  <tbody>\n",
       "    <tr>\n",
       "      <th>0</th>\n",
       "      <td>2020/01/22 17:20:06.798</td>\n",
       "      <td>00:00:00</td>\n",
       "      <td>356.075</td>\n",
       "      <td>2020-01-22 17:20:06.798</td>\n",
       "    </tr>\n",
       "    <tr>\n",
       "      <th>1</th>\n",
       "      <td>2020/01/22 17:20:07.795</td>\n",
       "      <td>00:00:00</td>\n",
       "      <td>359.050</td>\n",
       "      <td>2020-01-22 17:20:07.795</td>\n",
       "    </tr>\n",
       "    <tr>\n",
       "      <th>2</th>\n",
       "      <td>2020/01/22 17:20:08.801</td>\n",
       "      <td>00:00:00</td>\n",
       "      <td>361.645</td>\n",
       "      <td>2020-01-22 17:20:08.801</td>\n",
       "    </tr>\n",
       "    <tr>\n",
       "      <th>3</th>\n",
       "      <td>2020/01/22 17:20:09.809</td>\n",
       "      <td>00:00:00</td>\n",
       "      <td>362.330</td>\n",
       "      <td>2020-01-22 17:20:09.809</td>\n",
       "    </tr>\n",
       "    <tr>\n",
       "      <th>4</th>\n",
       "      <td>2020/01/22 17:20:10.816</td>\n",
       "      <td>00:00:00</td>\n",
       "      <td>361.950</td>\n",
       "      <td>2020-01-22 17:20:10.816</td>\n",
       "    </tr>\n",
       "    <tr>\n",
       "      <th>...</th>\n",
       "      <td>...</td>\n",
       "      <td>...</td>\n",
       "      <td>...</td>\n",
       "      <td>...</td>\n",
       "    </tr>\n",
       "    <tr>\n",
       "      <th>3573</th>\n",
       "      <td>2020/02/24 18:59:55.333</td>\n",
       "      <td>00:00:00</td>\n",
       "      <td>2.365</td>\n",
       "      <td>2020-02-24 18:59:55.333</td>\n",
       "    </tr>\n",
       "    <tr>\n",
       "      <th>3574</th>\n",
       "      <td>2020/02/24 18:59:56.341</td>\n",
       "      <td>00:00:00</td>\n",
       "      <td>2.365</td>\n",
       "      <td>2020-02-24 18:59:56.341</td>\n",
       "    </tr>\n",
       "    <tr>\n",
       "      <th>3575</th>\n",
       "      <td>2020/02/24 18:59:57.350</td>\n",
       "      <td>00:00:00</td>\n",
       "      <td>2.365</td>\n",
       "      <td>2020-02-24 18:59:57.350</td>\n",
       "    </tr>\n",
       "    <tr>\n",
       "      <th>3576</th>\n",
       "      <td>2020/02/24 18:59:58.358</td>\n",
       "      <td>00:00:00</td>\n",
       "      <td>2.365</td>\n",
       "      <td>2020-02-24 18:59:58.358</td>\n",
       "    </tr>\n",
       "    <tr>\n",
       "      <th>3577</th>\n",
       "      <td>2020/02/24 18:59:59.366</td>\n",
       "      <td>00:00:00</td>\n",
       "      <td>2.365</td>\n",
       "      <td>2020-02-24 18:59:59.366</td>\n",
       "    </tr>\n",
       "  </tbody>\n",
       "</table>\n",
       "<p>2718785 rows × 4 columns</p>\n",
       "</div>"
      ],
      "text/plain": [
       "            PC Timestamp[UTC] PC Time Zone  SP-110-SS[W m-2]  \\\n",
       "0     2020/01/22 17:20:06.798     00:00:00           356.075   \n",
       "1     2020/01/22 17:20:07.795     00:00:00           359.050   \n",
       "2     2020/01/22 17:20:08.801     00:00:00           361.645   \n",
       "3     2020/01/22 17:20:09.809     00:00:00           362.330   \n",
       "4     2020/01/22 17:20:10.816     00:00:00           361.950   \n",
       "...                       ...          ...               ...   \n",
       "3573  2020/02/24 18:59:55.333     00:00:00             2.365   \n",
       "3574  2020/02/24 18:59:56.341     00:00:00             2.365   \n",
       "3575  2020/02/24 18:59:57.350     00:00:00             2.365   \n",
       "3576  2020/02/24 18:59:58.358     00:00:00             2.365   \n",
       "3577  2020/02/24 18:59:59.366     00:00:00             2.365   \n",
       "\n",
       "                    dt [UTC]  \n",
       "0    2020-01-22 17:20:06.798  \n",
       "1    2020-01-22 17:20:07.795  \n",
       "2    2020-01-22 17:20:08.801  \n",
       "3    2020-01-22 17:20:09.809  \n",
       "4    2020-01-22 17:20:10.816  \n",
       "...                      ...  \n",
       "3573 2020-02-24 18:59:55.333  \n",
       "3574 2020-02-24 18:59:56.341  \n",
       "3575 2020-02-24 18:59:57.350  \n",
       "3576 2020-02-24 18:59:58.358  \n",
       "3577 2020-02-24 18:59:59.366  \n",
       "\n",
       "[2718785 rows x 4 columns]"
      ]
     },
     "execution_count": 5,
     "metadata": {},
     "output_type": "execute_result"
    }
   ],
   "source": [
    "sp = sp[(sp['dt [UTC]'] >= '2020-01-22 00:00:00.000')] #select data from Caravela's launch onwards\n",
    "sp"
   ]
  },
  {
   "cell_type": "markdown",
   "metadata": {},
   "source": [
    "Tidy this up to drop the columns we dont need"
   ]
  },
  {
   "cell_type": "code",
   "execution_count": 6,
   "metadata": {},
   "outputs": [],
   "source": [
    "sp = sp.reset_index()\n",
    "sp = sp.drop(['index','PC Time Zone','PC Timestamp[UTC]' ],axis=1)"
   ]
  },
  {
   "cell_type": "markdown",
   "metadata": {},
   "source": [
    "check for any gaps in timeseries larger than 2 seconds"
   ]
  },
  {
   "cell_type": "code",
   "execution_count": 7,
   "metadata": {},
   "outputs": [
    {
     "name": "stdout",
     "output_type": "stream",
     "text": [
      "gap starts at 2020-01-22 20:36:23.464000 and lasts for 7352 seconds  - approximately 2 hours\n",
      "gap starts at 2020-01-22 22:46:44.264000 and lasts for 13222 seconds  - approximately 3 hours\n",
      "gap starts at 2020-01-27 13:02:10.301000 and lasts for 89486 seconds  - approximately 24 hours\n",
      "gap starts at 2020-01-29 17:47:36.976000 and lasts for 20 seconds\n",
      "gap starts at 2020-01-31 18:08:06.895000 and lasts for 14 seconds\n",
      "gap starts at 2020-02-01 15:29:12.123000 and lasts for 2 seconds\n",
      "gap starts at 2020-02-04 10:53:07.094000 and lasts for 15 seconds\n",
      "gap starts at 2020-02-07 08:06:33.486000 and lasts for 2 seconds\n",
      "gap starts at 2020-02-09 21:46:59.899000 and lasts for 3 seconds\n",
      "gap starts at 2020-02-13 11:54:22.136000 and lasts for 2 seconds\n",
      "gap starts at 2020-02-14 05:56:17.835000 and lasts for 2 seconds\n",
      "gap starts at 2020-02-14 11:01:33.949000 and lasts for 2 seconds\n",
      "gap starts at 2020-02-21 20:45:34.363000 and lasts for 2 seconds\n",
      "gap starts at 2020-02-24 14:20:10.688000 and lasts for 11986 seconds  - approximately 3 hours\n"
     ]
    }
   ],
   "source": [
    "time_diff = sp['dt [UTC]'].values[1:] - sp['dt [UTC]'].values[:-1]\n",
    "for i in np.arange(1, len(time_diff)):\n",
    "    if np.timedelta64(3599, 's') >= time_diff[i] > np.timedelta64(2, 's'):\n",
    "        print('gap starts at', sp['dt [UTC]'][i], 'and lasts for', \n",
    "              np.timedelta64(time_diff[i],'s'))\n",
    "    if time_diff[i] > np.timedelta64(3599, 's'):\n",
    "        print('gap starts at', sp['dt [UTC]'][i], 'and lasts for', \n",
    "              np.timedelta64(time_diff[i],'s'), ' - approximately', np.timedelta64(time_diff[i],'h'))"
   ]
  },
  {
   "cell_type": "markdown",
   "metadata": {},
   "source": [
    "Convert to iso time as this is a universally accepted format"
   ]
  },
  {
   "cell_type": "code",
   "execution_count": 9,
   "metadata": {},
   "outputs": [
    {
     "data": {
      "application/vnd.jupyter.widget-view+json": {
       "model_id": "251f3d143d47498c8e08ba2cf528dd36",
       "version_major": 2,
       "version_minor": 0
      },
      "text/plain": [
       "HBox(children=(FloatProgress(value=0.0, max=2718785.0), HTML(value='')))"
      ]
     },
     "metadata": {},
     "output_type": "display_data"
    },
    {
     "name": "stdout",
     "output_type": "stream",
     "text": [
      "\n"
     ]
    }
   ],
   "source": [
    "a = []\n",
    "for i in tqdm(range(0,len(sp['dt [UTC]']))):\n",
    "    a.append(sp['dt [UTC]'][i].isoformat())\n",
    "sp['datetime [UTC]'] = a"
   ]
  },
  {
   "cell_type": "code",
   "execution_count": 10,
   "metadata": {},
   "outputs": [],
   "source": [
    "sp = sp.drop(['dt [UTC]'], axis = 1)"
   ]
  },
  {
   "cell_type": "code",
   "execution_count": 11,
   "metadata": {},
   "outputs": [],
   "source": [
    "sp.to_csv('CARAVELA_SP110.csv',index = None)"
   ]
  },
  {
   "cell_type": "code",
   "execution_count": 3,
   "metadata": {},
   "outputs": [],
   "source": [
    "baa = pd.read_csv('CARAVELA_SP110.csv')# import file to test it"
   ]
  },
  {
   "cell_type": "code",
   "execution_count": 4,
   "metadata": {},
   "outputs": [
    {
     "data": {
      "application/vnd.jupyter.widget-view+json": {
       "model_id": "6db41fd028bd45b69de4c89ceb5d18c7",
       "version_major": 2,
       "version_minor": 0
      },
      "text/plain": [
       "HBox(children=(FloatProgress(value=0.0, max=2718785.0), HTML(value='')))"
      ]
     },
     "metadata": {},
     "output_type": "display_data"
    },
    {
     "name": "stdout",
     "output_type": "stream",
     "text": [
      "\n"
     ]
    }
   ],
   "source": [
    "z = []\n",
    "for i in tqdm(baa['datetime [UTC]']):\n",
    "    z.append(datetime.fromisoformat(i))\n",
    "baa['dt'] = z"
   ]
  },
  {
   "cell_type": "code",
   "execution_count": 6,
   "metadata": {},
   "outputs": [],
   "source": [
    "import matplotlib.pyplot as plt"
   ]
  },
  {
   "cell_type": "code",
   "execution_count": 8,
   "metadata": {},
   "outputs": [
    {
     "data": {
      "text/plain": [
       "Text(0.5, 0, 'Date')"
      ]
     },
     "execution_count": 8,
     "metadata": {},
     "output_type": "execute_result"
    },
    {
     "data": {
      "image/png": "[encoded data removed]",
      "text/plain": [
       "<Figure size 1296x1080 with 1 Axes>"
      ]
     },
     "metadata": {
      "needs_background": "light"
     },
     "output_type": "display_data"
    }
   ],
   "source": [
    "fig,ax = plt.subplots(1,1, figsize=(18, 15))\n",
    "ax.plot(baa['dt'], baa['SP-110-SS[W m-2]'])\n",
    "ax.set_ylabel('SP-110-SS[W m-2]')\n",
    "ax.set_xlabel('Date')"
   ]
  },
  {
   "cell_type": "code",
   "execution_count": null,
   "metadata": {},
   "outputs": [],
   "source": []
  }
 ],
 "metadata": {
  "kernelspec": {
   "display_name": "Python 3",
   "language": "python",
   "name": "python3"
  },
  "language_info": {
   "codemirror_mode": {
    "name": "ipython",
    "version": 3
   },
   "file_extension": ".py",
   "mimetype": "text/x-python",
   "name": "python",
   "nbconvert_exporter": "python",
   "pygments_lexer": "ipython3",
   "version": "3.8.5"
  }
 },
 "nbformat": 4,
 "nbformat_minor": 4
}
